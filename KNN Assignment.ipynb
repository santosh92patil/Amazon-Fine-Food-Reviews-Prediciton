{
 "cells": [
  {
   "cell_type": "code",
   "execution_count": 1,
   "metadata": {
    "_uuid": "c88df60b712e734c542a42f111eb6525d15e8604",
    "collapsed": true
   },
   "outputs": [],
   "source": [
    "#importing libraries\n",
    "\n",
    "%matplotlib inline\n",
    "import warnings\n",
    "warnings.filterwarnings(\"ignore\")\n",
    "\n",
    "import pandas as pd\n",
    "import numpy as np\n",
    "import matplotlib.pyplot as plt\n",
    "\n",
    "import nltk\n",
    "from nltk.corpus import stopwords\n",
    "from nltk.stem import PorterStemmer\n",
    "from sklearn.decomposition import TruncatedSVD\n",
    "\n",
    "from sklearn.feature_extraction.text import CountVectorizer\n",
    "from sklearn.feature_extraction.text import TfidfVectorizer\n",
    "from gensim.models import Word2Vec\n",
    "\n",
    "\n",
    "from sklearn.neighbors import KNeighborsClassifier\n",
    "from sklearn.metrics import accuracy_score\n",
    "\n",
    "\n"
   ]
  },
  {
   "cell_type": "code",
   "execution_count": 2,
   "metadata": {
    "_uuid": "910baca49d600fde6d6c29223c7c9c84eb4250f7",
    "collapsed": true
   },
   "outputs": [],
   "source": [
    "# Reading data\n",
    "\n",
    "df = pd.read_csv('Reviews.csv')\n",
    "data = df"
   ]
  },
  {
   "cell_type": "code",
   "execution_count": 3,
   "metadata": {
    "_uuid": "9897da12e8afeb3ba60165d60ad6419e096eb39a",
    "collapsed": true
   },
   "outputs": [],
   "source": [
    "#Removing neutral reviews\n",
    "data_s = data[data['Score']!=3]"
   ]
  },
  {
   "cell_type": "code",
   "execution_count": 4,
   "metadata": {
    "_cell_guid": "79c7e3d0-c299-4dcb-8224-4455121ee9b0",
    "_uuid": "d629ff2d2480ee46fbb7e2d37f6b5fab8052498a",
    "collapsed": true
   },
   "outputs": [],
   "source": [
    "def partition(x):\n",
    "    if x<3:\n",
    "        return 0\n",
    "    return 1\n",
    "\n",
    "score_upd = data_s['Score']\n",
    "temp = score_upd.map(partition)\n",
    "data_s['Score'] = temp"
   ]
  },
  {
   "cell_type": "code",
   "execution_count": 5,
   "metadata": {
    "_uuid": "e5e97f868c4298ad99cac4eeab4bda23f90c3180",
    "collapsed": true
   },
   "outputs": [],
   "source": [
    "final_data = data_s.drop_duplicates(subset=('UserId','ProfileName','Time','Text'))"
   ]
  },
  {
   "cell_type": "code",
   "execution_count": 6,
   "metadata": {
    "_uuid": "ef69b4f2aaaaba5dfbadf8ea909cf3d8bfa823fe",
    "collapsed": true
   },
   "outputs": [],
   "source": [
    "final = final_data[final_data['HelpfulnessNumerator']<=final_data['HelpfulnessDenominator']]"
   ]
  },
  {
   "cell_type": "code",
   "execution_count": 7,
   "metadata": {
    "_uuid": "43ba0c6ed50f12159a26d3e83f395163cbb1fa91"
   },
   "outputs": [
    {
     "data": {
      "text/plain": [
       "Index(['Id', 'ProductId', 'UserId', 'ProfileName', 'HelpfulnessNumerator',\n",
       "       'HelpfulnessDenominator', 'Score', 'Time', 'Summary', 'Text'],\n",
       "      dtype='object')"
      ]
     },
     "execution_count": 7,
     "metadata": {},
     "output_type": "execute_result"
    }
   ],
   "source": [
    "final.columns"
   ]
  },
  {
   "cell_type": "code",
   "execution_count": 8,
   "metadata": {
    "_uuid": "ec29c41ef645d5c3a64681833e8be78c340ee882",
    "collapsed": true
   },
   "outputs": [],
   "source": [
    "final = final.sort_values(['Time'], axis=0)\n",
    "final = final.head(30000)"
   ]
  },
  {
   "cell_type": "code",
   "execution_count": 9,
   "metadata": {
    "_uuid": "37a2ab3f005f5f36a45847730efd542ee60cb552",
    "collapsed": true
   },
   "outputs": [],
   "source": [
    "final_X = final['Text']\n",
    "final_y = final['Score']"
   ]
  },
  {
   "cell_type": "code",
   "execution_count": 10,
   "metadata": {},
   "outputs": [
    {
     "data": {
      "text/plain": [
       "1    26762\n",
       "0     3238\n",
       "Name: Score, dtype: int64"
      ]
     },
     "execution_count": 10,
     "metadata": {},
     "output_type": "execute_result"
    }
   ],
   "source": [
    "final_y.value_counts()"
   ]
  },
  {
   "cell_type": "code",
   "execution_count": 12,
   "metadata": {
    "_uuid": "76c9d1d5c3986dafa16983980fb77c64c685018f"
   },
   "outputs": [
    {
     "name": "stdout",
     "output_type": "stream",
     "text": [
      "100.00 %\r"
     ]
    }
   ],
   "source": [
    "import re\n",
    "temp_1 =[]\n",
    "snow = nltk.stem.SnowballStemmer('english')\n",
    "i = 0\n",
    "N = len(final_X)\n",
    "for sentence in final_X:\n",
    "    sentence = sentence.lower()\n",
    "    cleanr = re.compile('<.*?>')\n",
    "    sentence = re.sub(cleanr, ' ', sentence)        #Removing HTML tags\n",
    "    sentence = re.sub(r'[?|!|\\'|\"|#]',r'',sentence)\n",
    "    sentence = re.sub(r'[.|,|)|(|\\|/]',r' ',sentence)        #Removing Punctuations\n",
    "    \n",
    "    words = [snow.stem(word) for word in sentence.split() if word not in stopwords.words('english')]\n",
    "    temp_1.append(words)\n",
    "    print(\"{0:.2f} %\".format((i/N)*100),end ='\\r')\n",
    "    i = i+1\n",
    "    \n",
    "final_X = temp_1   "
   ]
  },
  {
   "cell_type": "code",
   "execution_count": 13,
   "metadata": {
    "_uuid": "54453041a2e6424e5215533ebf59d548ee3f6d69",
    "collapsed": true
   },
   "outputs": [],
   "source": [
    "sent = []\n",
    "for row in final_X:\n",
    "    seq = ''\n",
    "    for word in row:\n",
    "        seq = seq + ' ' + word\n",
    "    sent.append(seq)\n",
    "\n",
    "final_X = sent"
   ]
  },
  {
   "cell_type": "markdown",
   "metadata": {
    "_uuid": "003c3c75034280b2fe7aea69b15fb20d9dab32d0"
   },
   "source": [
    "**Splitting data**"
   ]
  },
  {
   "cell_type": "code",
   "execution_count": 14,
   "metadata": {
    "_uuid": "ed2fdc1cf506033171396017af7541e294245fc4",
    "collapsed": true
   },
   "outputs": [],
   "source": [
    "X_train = final_X[:22000]\n",
    "X_test = final_X[22000:]\n",
    "y_train = final_y[:22000]\n",
    "y_test = final_y[22000:]"
   ]
  },
  {
   "cell_type": "markdown",
   "metadata": {
    "_uuid": "1607e380729cd464451328d54e43a1b30f808385"
   },
   "source": [
    "**KNN on BoG**"
   ]
  },
  {
   "cell_type": "code",
   "execution_count": 15,
   "metadata": {
    "_uuid": "2e2c60b1a290e090bdc1f482c5c63a26f897718e",
    "collapsed": true
   },
   "outputs": [],
   "source": [
    "# Bag of Words\n",
    "\n",
    "count_vect = CountVectorizer(max_features = 5000)\n",
    "bow_X_train = count_vect.fit_transform(X_train)\n",
    "bow_X_test = count_vect.transform(X_test)"
   ]
  },
  {
   "cell_type": "markdown",
   "metadata": {
    "_uuid": "bb30075d1acb6cfae8a23be955806201fe3de75d"
   },
   "source": [
    "**Brute force algorithm**"
   ]
  },
  {
   "cell_type": "code",
   "execution_count": 16,
   "metadata": {
    "_uuid": "179eb7a45b3d58645917fd0a06d02d3d59ecffc6"
   },
   "outputs": [
    {
     "name": "stdout",
     "output_type": "stream",
     "text": [
      "best k =  {'n_neighbors': 7}\n"
     ]
    }
   ],
   "source": [
    "from sklearn.model_selection import GridSearchCV\n",
    "knn = KNeighborsClassifier(algorithm = 'brute')\n",
    "param_grid = { 'n_neighbors':np.arange(5,15,2)}\n",
    "grid = GridSearchCV(estimator = knn, param_grid = param_grid ,cv =3 , n_jobs = 2)\n",
    "grid.fit(bow_X_train, y_train)\n",
    "print(\"best k = \", grid.best_params_)"
   ]
  },
  {
   "cell_type": "code",
   "execution_count": 17,
   "metadata": {},
   "outputs": [
    {
     "data": {
      "image/png": "[encoded data removed]",
      "text/plain": [
       "<matplotlib.figure.Figure at 0x67a931b630>"
      ]
     },
     "metadata": {},
     "output_type": "display_data"
    }
   ],
   "source": [
    "neig = [i for i in range(5,15,2)]\n",
    "error = [(1-i)*100 for i in grid.cv_results_['mean_test_score']]\n",
    "plt.plot(neig, error)\n",
    "plt.title('Error plot')\n",
    "plt.xlabel('No. of Neighbors')\n",
    "plt.ylabel('Test_Error')\n",
    "plt.show()"
   ]
  },
  {
   "cell_type": "code",
   "execution_count": 18,
   "metadata": {
    "_uuid": "150e77f19c4f50275406caf696a86cbb413a1a15"
   },
   "outputs": [
    {
     "name": "stdout",
     "output_type": "stream",
     "text": [
      "Accuracy on train data=  89.06363636363636\n"
     ]
    }
   ],
   "source": [
    "print(\"Accuracy on train data= \", grid.best_score_*100)\n",
    "tr_acc1 = grid.best_score_*100\n",
    "a = grid.best_params_\n",
    "optimal_k1 = a.get('n_neighbors')"
   ]
  },
  {
   "cell_type": "code",
   "execution_count": 19,
   "metadata": {
    "_uuid": "f3933a1a42f1edaa102ff1b29f611d47bb5daa3a"
   },
   "outputs": [
    {
     "name": "stdout",
     "output_type": "stream",
     "text": [
      "\n",
      "The accuracy of the knn classifier for k = 7 is 89.937500%\n"
     ]
    }
   ],
   "source": [
    "knn_optimal = KNeighborsClassifier(n_neighbors=optimal_k1 , algorithm = 'brute')\n",
    "\n",
    "# fitting the model\n",
    "knn_optimal.fit(bow_X_train, y_train)\n",
    "\n",
    "# predict the response\n",
    "pred = knn_optimal.predict(bow_X_test)\n",
    "\n",
    "# evaluate accuracy\n",
    "acc1 = accuracy_score(y_test, pred) * 100\n",
    "print('\\nThe accuracy of the knn classifier for k = %d is %f%%' % (optimal_k1, acc1))"
   ]
  },
  {
   "cell_type": "code",
   "execution_count": 20,
   "metadata": {},
   "outputs": [
    {
     "data": {
      "image/png": "[encoded data removed]",
      "text/plain": [
       "<matplotlib.figure.Figure at 0x67a9382908>"
      ]
     },
     "metadata": {},
     "output_type": "display_data"
    }
   ],
   "source": [
    "from sklearn.metrics import confusion_matrix\n",
    "import seaborn as sns\n",
    "cm = confusion_matrix(y_test,pred)\n",
    "sns.heatmap(cm, annot=True,fmt='d')\n",
    "plt.title('Confusion Matrix for BoW')\n",
    "plt.show()"
   ]
  },
  {
   "cell_type": "markdown",
   "metadata": {
    "_uuid": "fd2b38d2c26f6fb5fa7057eeef17318f7c1947bf"
   },
   "source": [
    "**kd_tree algorithm**"
   ]
  },
  {
   "cell_type": "code",
   "execution_count": 21,
   "metadata": {
    "_uuid": "91ccd23a67de35f697646ce040f82d6d0ab102db",
    "collapsed": true
   },
   "outputs": [],
   "source": [
    "tsvd = TruncatedSVD(n_components=1000)\n",
    "trnc_bow_train = tsvd.fit_transform(bow_X_train)\n",
    "trnc_bow_test = tsvd.transform(bow_X_test)"
   ]
  },
  {
   "cell_type": "code",
   "execution_count": 22,
   "metadata": {
    "_uuid": "136f6591accbc05a547f777ad48477327b56e177"
   },
   "outputs": [
    {
     "name": "stdout",
     "output_type": "stream",
     "text": [
      "best k =  {'n_neighbors': 11}\n",
      "Accuracy on train data =  89.13636363636364\n"
     ]
    }
   ],
   "source": [
    "from sklearn.model_selection import GridSearchCV\n",
    "knn = KNeighborsClassifier(algorithm = 'kd_tree')\n",
    "param_grid = { 'n_neighbors':np.arange(5,15,2)}\n",
    "grid = GridSearchCV(estimator = knn, param_grid = param_grid ,cv = 3,  n_jobs = 2)\n",
    "grid.fit(trnc_bow_train, y_train)\n",
    "print(\"best k = \", grid.best_params_)\n",
    "print(\"Accuracy on train data = \", grid.best_score_*100)\n",
    "tr_acc2 = grid.best_score_*100\n",
    "a = grid.best_params_\n",
    "optimal_k2 = a.get('n_neighbors')"
   ]
  },
  {
   "cell_type": "code",
   "execution_count": 23,
   "metadata": {},
   "outputs": [
    {
     "data": {
      "image/png": "[encoded data removed]",
      "text/plain": [
       "<matplotlib.figure.Figure at 0x67aa2e60b8>"
      ]
     },
     "metadata": {},
     "output_type": "display_data"
    }
   ],
   "source": [
    "neig = [i for i in range(5,15,2)]\n",
    "error = [(1-i)*100 for i in grid.cv_results_['mean_test_score']]\n",
    "plt.plot(neig, error)\n",
    "plt.title('Error plot')\n",
    "plt.xlabel('No. of Neighbors')\n",
    "plt.ylabel('Test_Error')\n",
    "plt.show()"
   ]
  },
  {
   "cell_type": "code",
   "execution_count": 24,
   "metadata": {
    "_uuid": "2e8d71c52e26f669d06e7596d1aa92a32e8dfe4f"
   },
   "outputs": [
    {
     "name": "stdout",
     "output_type": "stream",
     "text": [
      "\n",
      "The accuracy of the knn classifier for k = 11 is 89.975000%\n"
     ]
    }
   ],
   "source": [
    "knn_optimal = KNeighborsClassifier(n_neighbors=optimal_k2 , algorithm = 'kd_tree',)\n",
    "\n",
    "# fitting the model\n",
    "knn_optimal.fit(trnc_bow_train,y_train)\n",
    "\n",
    "# predict the response\n",
    "pred = knn_optimal.predict(trnc_bow_test)\n",
    "\n",
    "# evaluate accuracy\n",
    "acc2 = accuracy_score(y_test, pred) * 100\n",
    "print('\\nThe accuracy of the knn classifier for k = %d is %f%%' % (optimal_k2, acc2))"
   ]
  },
  {
   "cell_type": "code",
   "execution_count": 25,
   "metadata": {},
   "outputs": [
    {
     "data": {
      "image/png": "[encoded data removed]",
      "text/plain": [
       "<matplotlib.figure.Figure at 0x67aa2a4b00>"
      ]
     },
     "metadata": {},
     "output_type": "display_data"
    }
   ],
   "source": [
    "from sklearn.metrics import confusion_matrix\n",
    "import seaborn as sns\n",
    "cm = confusion_matrix(y_test,pred)\n",
    "sns.heatmap(cm, annot=True,fmt='d')\n",
    "plt.title('Confusion Matrix for BoW kd-tree')\n",
    "plt.show()"
   ]
  },
  {
   "cell_type": "markdown",
   "metadata": {
    "_uuid": "7fa422afe7920c7bed4c5d74f991eaf5fd44cfe1"
   },
   "source": [
    "**KNN on TF-IDF**"
   ]
  },
  {
   "cell_type": "code",
   "execution_count": 26,
   "metadata": {
    "_uuid": "9458d1972fcb5094bb9aa127f7be4d2f20cf6fbc",
    "collapsed": true
   },
   "outputs": [],
   "source": [
    "#using TF-IDF for text to numerical conversion\n",
    "\n",
    "tf_idf = TfidfVectorizer(max_features=5000)\n",
    "tf_X_train = tf_idf.fit_transform(X_train)\n",
    "tf_X_test = tf_idf.transform(X_test)"
   ]
  },
  {
   "cell_type": "markdown",
   "metadata": {
    "_uuid": "733b48f3886fc6a024c1b70435b4afd3347c74b4"
   },
   "source": [
    "**Brute force method**"
   ]
  },
  {
   "cell_type": "code",
   "execution_count": 27,
   "metadata": {
    "_uuid": "a6ad998a45c6f47a2d68e7a321bce8d89af39388"
   },
   "outputs": [
    {
     "name": "stdout",
     "output_type": "stream",
     "text": [
      "best k =  {'n_neighbors': 9}\n",
      "Accuracy on train data =  89.64090909090909\n"
     ]
    }
   ],
   "source": [
    "from sklearn.model_selection import GridSearchCV\n",
    "knn = KNeighborsClassifier(algorithm = 'brute')\n",
    "param_grid = { 'n_neighbors':np.arange(5,15,2)}\n",
    "grid = GridSearchCV(estimator = knn, param_grid = param_grid ,cv = 3)\n",
    "grid.fit(tf_X_train, y_train)\n",
    "print(\"best k = \", grid.best_params_)\n",
    "print(\"Accuracy on train data = \", grid.best_score_*100)\n",
    "tr_acc3 = grid.best_score_*100\n",
    "a = grid.best_params_\n",
    "optimal_k3 = a.get('n_neighbors')"
   ]
  },
  {
   "cell_type": "code",
   "execution_count": 28,
   "metadata": {},
   "outputs": [
    {
     "data": {
      "image/png": "[encoded data removed]",
      "text/plain": [
       "<matplotlib.figure.Figure at 0x67a9bdfa58>"
      ]
     },
     "metadata": {},
     "output_type": "display_data"
    }
   ],
   "source": [
    "neig = [i for i in range(5,15,2)]\n",
    "error = [(1-i)*100 for i in grid.cv_results_['mean_test_score']]\n",
    "plt.plot(neig, error)\n",
    "plt.title('Error plot')\n",
    "plt.xlabel('No. of Neighbors')\n",
    "plt.ylabel('Test_Error')\n",
    "plt.show()"
   ]
  },
  {
   "cell_type": "code",
   "execution_count": 29,
   "metadata": {
    "_uuid": "735799453c09eb0826b2822f6034117d59d3e5d8"
   },
   "outputs": [
    {
     "name": "stdout",
     "output_type": "stream",
     "text": [
      "\n",
      "The accuracy of the knn classifier for k = 9 is 90.375000%\n"
     ]
    }
   ],
   "source": [
    "knn_optimal = KNeighborsClassifier(n_neighbors=optimal_k3 , algorithm = 'brute')\n",
    "\n",
    "# fitting the model\n",
    "knn_optimal.fit(tf_X_train, y_train)\n",
    "\n",
    "# predict the response\n",
    "pred = knn_optimal.predict(tf_X_test)\n",
    "\n",
    "# evaluate accuracy\n",
    "acc3 = accuracy_score(y_test, pred) * 100\n",
    "print('\\nThe accuracy of the knn classifier for k = %d is %f%%' % (optimal_k3, acc3))"
   ]
  },
  {
   "cell_type": "code",
   "execution_count": 30,
   "metadata": {},
   "outputs": [
    {
     "data": {
      "image/png": "[encoded data removed]",
      "text/plain": [
       "<matplotlib.figure.Figure at 0x67a9a5f2e8>"
      ]
     },
     "metadata": {},
     "output_type": "display_data"
    }
   ],
   "source": [
    "cm = confusion_matrix(y_test,pred)\n",
    "sns.heatmap(cm, annot=True,fmt='d')\n",
    "plt.title('Confusion Matrix for TF-IDF BruteForce')\n",
    "plt.show()"
   ]
  },
  {
   "cell_type": "markdown",
   "metadata": {
    "_uuid": "95845c9f3176423cadd7d881c098b51fac54f589"
   },
   "source": [
    "**kd_tree algorithm**"
   ]
  },
  {
   "cell_type": "code",
   "execution_count": 31,
   "metadata": {
    "_uuid": "f151307ca226ca72dacf8c1438789cee4c4c725d",
    "collapsed": true
   },
   "outputs": [],
   "source": [
    "tsvd = TruncatedSVD(n_components=1000)\n",
    "trnc_tf_train = tsvd.fit_transform(tf_X_train)\n",
    "trnc_tf_test = tsvd.transform(tf_X_test)"
   ]
  },
  {
   "cell_type": "code",
   "execution_count": 32,
   "metadata": {},
   "outputs": [
    {
     "name": "stdout",
     "output_type": "stream",
     "text": [
      "best k =  {'n_neighbors': 13}\n",
      "Accuracy on train data =  89.03181818181818\n"
     ]
    }
   ],
   "source": [
    "from sklearn.model_selection import GridSearchCV\n",
    "knn = KNeighborsClassifier(algorithm = 'kd_tree')\n",
    "param_grid = { 'n_neighbors':np.arange(5,15,2)}\n",
    "grid = GridSearchCV(estimator = knn, param_grid = param_grid ,cv = 3,  n_jobs = 2)\n",
    "grid.fit(trnc_tf_train, y_train)\n",
    "print(\"best k = \", grid.best_params_)\n",
    "print(\"Accuracy on train data = \", grid.best_score_*100)\n",
    "tr_acc4 = grid.best_score_*100\n",
    "a = grid.best_params_\n",
    "optimal_k4 = a.get('neighbors')"
   ]
  },
  {
   "cell_type": "code",
   "execution_count": 33,
   "metadata": {},
   "outputs": [
    {
     "data": {
      "image/png": "[encoded data removed]",
      "text/plain": [
       "<matplotlib.figure.Figure at 0x67a9c12cc0>"
      ]
     },
     "metadata": {},
     "output_type": "display_data"
    }
   ],
   "source": [
    "neig = [i for i in range(5,15,2)]\n",
    "error = [(1-i)*100 for i in grid.cv_results_['mean_test_score']]\n",
    "plt.plot(neig, error)\n",
    "plt.title('Error plot')\n",
    "plt.xlabel('No. of Neighbors')\n",
    "plt.ylabel('Test_Error')\n",
    "plt.show()"
   ]
  },
  {
   "cell_type": "code",
   "execution_count": 41,
   "metadata": {},
   "outputs": [],
   "source": [
    "optimal_k4 = a.get('n_neighbors')"
   ]
  },
  {
   "cell_type": "code",
   "execution_count": 42,
   "metadata": {},
   "outputs": [
    {
     "data": {
      "text/plain": [
       "13"
      ]
     },
     "execution_count": 42,
     "metadata": {},
     "output_type": "execute_result"
    }
   ],
   "source": [
    "optimal_k4"
   ]
  },
  {
   "cell_type": "code",
   "execution_count": 43,
   "metadata": {
    "_uuid": "b05ae3b40e20441374c8983f6fa803a79b17f2cf"
   },
   "outputs": [
    {
     "name": "stdout",
     "output_type": "stream",
     "text": [
      "\n",
      "The accuracy of the knn classifier for k = 13 is 89.812500%\n"
     ]
    }
   ],
   "source": [
    "knn_optimal = KNeighborsClassifier(n_neighbors=optimal_k4 , algorithm = 'kd_tree')\n",
    "\n",
    "# fitting the model\n",
    "knn_optimal.fit(trnc_tf_train, y_train)\n",
    "\n",
    "# predict the response\n",
    "pred = knn_optimal.predict(trnc_tf_test)\n",
    "\n",
    "# evaluate accuracy\n",
    "acc4 = accuracy_score(y_test, pred) * 100\n",
    "print('\\nThe accuracy of the knn classifier for k = %d is %f%%' % (optimal_k4, acc4))"
   ]
  },
  {
   "cell_type": "code",
   "execution_count": 44,
   "metadata": {},
   "outputs": [
    {
     "data": {
      "image/png": "[encoded data removed]",
      "text/plain": [
       "<matplotlib.figure.Figure at 0x67a9382ac8>"
      ]
     },
     "metadata": {},
     "output_type": "display_data"
    }
   ],
   "source": [
    "cm = confusion_matrix(y_test,pred)\n",
    "sns.heatmap(cm, annot=True,fmt='d')\n",
    "plt.title('Confusion Matrix for TF-IDF kd-tree')\n",
    "plt.show()"
   ]
  },
  {
   "cell_type": "code",
   "execution_count": 45,
   "metadata": {
    "collapsed": true
   },
   "outputs": [],
   "source": [
    "del bow_X_train\n",
    "del bow_X_test\n",
    "del trnc_bow_train\n",
    "del trnc_bow_test\n",
    "del tf_X_train\n",
    "del tf_X_test\n",
    "del trnc_tf_train\n",
    "del trnc_tf_test "
   ]
  },
  {
   "cell_type": "markdown",
   "metadata": {
    "_uuid": "81cf9f5361f4f0ad00b802f8d276ab95292d4d66"
   },
   "source": [
    "**KNN on Avg Word2vec**"
   ]
  },
  {
   "cell_type": "code",
   "execution_count": 46,
   "metadata": {
    "_uuid": "e3ff598a8a967cb7b3ef83ea1d89fabb36381e06",
    "collapsed": true
   },
   "outputs": [],
   "source": [
    "w2v_data = X_train\n",
    "\n",
    "splitted = []\n",
    "for row in w2v_data: \n",
    "    splitted.append([word for word in row.split()])     #splitting words\n",
    "    \n",
    "train_w2v = Word2Vec(splitted,min_count=5,size=150, workers=4)\n",
    "\n",
    "avg_X_train = []\n",
    "for row in splitted:\n",
    "    vec = np.zeros(150)\n",
    "    count = 0\n",
    "    for word in row:\n",
    "        try:\n",
    "            vec += train_w2v[word]\n",
    "            count += 1\n",
    "        except:\n",
    "            pass\n",
    "    avg_X_train.append(vec/count)\n",
    "    \n",
    "#================================================================\n",
    "w2v_data = X_test\n",
    "\n",
    "splitted = []\n",
    "for row in w2v_data: \n",
    "    splitted.append([word for word in row.split()])     #splitting words\n",
    "    \n",
    "train_w2v = Word2Vec(splitted,min_count=5,size=150, workers=4)\n",
    "\n",
    "avg_X_test = []\n",
    "for row in splitted:\n",
    "    vec = np.zeros(150)\n",
    "    count = 0\n",
    "    for word in row:\n",
    "        try:\n",
    "            vec += train_w2v[word]\n",
    "            count += 1\n",
    "        except:\n",
    "            pass\n",
    "    avg_X_test.append(vec/count)"
   ]
  },
  {
   "cell_type": "markdown",
   "metadata": {
    "_uuid": "fdb1d3060492c88aa9f3ab930715c248c373e4a0"
   },
   "source": [
    "**Brute force method**"
   ]
  },
  {
   "cell_type": "code",
   "execution_count": 47,
   "metadata": {
    "_uuid": "7fd89f09fe1ee4a77d86b0d945155803c8f1df70"
   },
   "outputs": [
    {
     "name": "stdout",
     "output_type": "stream",
     "text": [
      "best k =  {'n_neighbors': 13}\n",
      "Accuracy on train data =  89.4\n"
     ]
    }
   ],
   "source": [
    "from sklearn.model_selection import GridSearchCV\n",
    "knn = KNeighborsClassifier(algorithm = 'brute')\n",
    "param_grid = { 'n_neighbors':np.arange(5,15,2)}\n",
    "grid = GridSearchCV(estimator = knn, param_grid = param_grid ,cv = 3,  n_jobs = 2)\n",
    "grid.fit(avg_X_train, y_train)\n",
    "\n",
    "print(\"best k = \", grid.best_params_)\n",
    "print(\"Accuracy on train data = \", grid.best_score_*100)\n",
    "tr_acc5 = grid.best_score_*100\n",
    "a = grid.best_params_\n",
    "optimal_k5 = a.get('n_neighbors')"
   ]
  },
  {
   "cell_type": "code",
   "execution_count": 48,
   "metadata": {},
   "outputs": [
    {
     "data": {
      "image/png": "[encoded data removed]",
      "text/plain": [
       "<matplotlib.figure.Figure at 0x67a9c05470>"
      ]
     },
     "metadata": {},
     "output_type": "display_data"
    }
   ],
   "source": [
    "neig = [i for i in range(5,15,2)]\n",
    "error = [(1-i)*100 for i in grid.cv_results_['mean_test_score']]\n",
    "plt.plot(neig, error)\n",
    "plt.title('Error plot')\n",
    "plt.xlabel('No. of Neighbors')\n",
    "plt.ylabel('Test_Error')\n",
    "plt.show()"
   ]
  },
  {
   "cell_type": "code",
   "execution_count": 49,
   "metadata": {
    "_uuid": "7d3689526ba2a8843de4d9fd6844481e83c460d4"
   },
   "outputs": [
    {
     "name": "stdout",
     "output_type": "stream",
     "text": [
      "\n",
      "The accuracy of the knn classifier for k = 13 is 89.800000%\n"
     ]
    }
   ],
   "source": [
    "knn_optimal = KNeighborsClassifier(n_neighbors=optimal_k5 , algorithm = 'brute', n_jobs = 2)\n",
    "\n",
    "# fitting the model\n",
    "knn_optimal.fit(avg_X_train, y_train)\n",
    "\n",
    "# predict the response\n",
    "pred = knn_optimal.predict(avg_X_test)\n",
    "\n",
    "# evaluate accuracy\n",
    "acc5 = accuracy_score(y_test, pred) * 100\n",
    "print('\\nThe accuracy of the knn classifier for k = %d is %f%%' % (optimal_k5, acc5))"
   ]
  },
  {
   "cell_type": "code",
   "execution_count": 50,
   "metadata": {},
   "outputs": [
    {
     "data": {
      "image/png": "[encoded data removed]",
      "text/plain": [
       "<matplotlib.figure.Figure at 0x67a9f04278>"
      ]
     },
     "metadata": {},
     "output_type": "display_data"
    }
   ],
   "source": [
    "cm = confusion_matrix(y_test,pred)\n",
    "sns.heatmap(cm, annot=True,fmt='d')\n",
    "plt.title('Confusion Matrix for AG W2V Bruteforce')\n",
    "plt.show()"
   ]
  },
  {
   "cell_type": "markdown",
   "metadata": {
    "_uuid": "2e99b86e59a37cd1d16ec81b44ecb59a082ade0c"
   },
   "source": [
    "**kd_tree algorithm**"
   ]
  },
  {
   "cell_type": "code",
   "execution_count": 51,
   "metadata": {
    "_uuid": "e9b609d8fe58ebac71fff0b4159e189f0c8ef054"
   },
   "outputs": [
    {
     "name": "stdout",
     "output_type": "stream",
     "text": [
      "best k =  {'n_neighbors': 13}\n",
      "Accuracy on train data =  89.4\n"
     ]
    }
   ],
   "source": [
    "from sklearn.model_selection import GridSearchCV\n",
    "knn = KNeighborsClassifier(algorithm = 'kd_tree')\n",
    "param_grid = { 'n_neighbors':np.arange(5,15,2)}\n",
    "grid = GridSearchCV(estimator = knn, param_grid = param_grid ,cv = 3,  n_jobs = 2)\n",
    "grid.fit(avg_X_train, y_train)\n",
    "print(\"best k = \", grid.best_params_)\n",
    "print(\"Accuracy on train data = \", grid.best_score_*100)\n",
    "tr_acc6 = grid.best_score_*100\n",
    "a = grid.best_params_\n",
    "optimal_k6 = a.get('neighbors')"
   ]
  },
  {
   "cell_type": "code",
   "execution_count": 52,
   "metadata": {},
   "outputs": [
    {
     "data": {
      "image/png": "[encoded data removed]",
      "text/plain": [
       "<matplotlib.figure.Figure at 0x67aa57dd30>"
      ]
     },
     "metadata": {},
     "output_type": "display_data"
    }
   ],
   "source": [
    "neig = [i for i in range(5,15,2)]\n",
    "error = [(1-i)*100 for i in grid.cv_results_['mean_test_score']]\n",
    "plt.plot(neig, error)\n",
    "plt.title('Error plot')\n",
    "plt.xlabel('No. of Neighbors')\n",
    "plt.ylabel('Test_Error')\n",
    "plt.show()"
   ]
  },
  {
   "cell_type": "code",
   "execution_count": 54,
   "metadata": {
    "collapsed": true
   },
   "outputs": [],
   "source": [
    "optimal_k6 = a.get('n_neighbors')"
   ]
  },
  {
   "cell_type": "code",
   "execution_count": 55,
   "metadata": {
    "_uuid": "f83e99fbe80c51f6b34266a8072fadf17bf7d8f8"
   },
   "outputs": [
    {
     "name": "stdout",
     "output_type": "stream",
     "text": [
      "\n",
      "The accuracy of the knn classifier for k = 13 is 89.800000%\n"
     ]
    }
   ],
   "source": [
    "knn_optimal = KNeighborsClassifier(n_neighbors=optimal_k6 , algorithm = 'kd_tree', n_jobs = 2)\n",
    "\n",
    "# fitting the model\n",
    "knn_optimal.fit(avg_X_train, y_train)\n",
    "\n",
    "# predict the response\n",
    "pred = knn_optimal.predict(avg_X_test)\n",
    "\n",
    "# evaluate accuracy\n",
    "acc6 = accuracy_score(y_test, pred) * 100\n",
    "print('\\nThe accuracy of the knn classifier for k = %d is %f%%' % (optimal_k6, acc6))"
   ]
  },
  {
   "cell_type": "code",
   "execution_count": 56,
   "metadata": {},
   "outputs": [
    {
     "data": {
      "image/png": "[encoded data removed]",
      "text/plain": [
       "<matplotlib.figure.Figure at 0x67a951f710>"
      ]
     },
     "metadata": {},
     "output_type": "display_data"
    }
   ],
   "source": [
    "cm = confusion_matrix(y_test,pred)\n",
    "sns.heatmap(cm, annot=True,fmt='d')\n",
    "plt.title('Confusion Matrix for AVG W2V kd-tree')\n",
    "plt.show()"
   ]
  },
  {
   "cell_type": "code",
   "execution_count": 57,
   "metadata": {
    "collapsed": true
   },
   "outputs": [],
   "source": [
    "del avg_X_train\n",
    "del avg_X_test"
   ]
  },
  {
   "cell_type": "markdown",
   "metadata": {
    "_uuid": "f83cfa3c3017d33ba7195030ce525d8b8a741f4c"
   },
   "source": [
    "**KNN on TF-IDF AVG WORD2VEC**"
   ]
  },
  {
   "cell_type": "code",
   "execution_count": 58,
   "metadata": {
    "_uuid": "9bf603726305e40a69ba6e7f92ba782e3f69a5fa",
    "collapsed": true
   },
   "outputs": [],
   "source": [
    "tf_w_data = X_train\n",
    "tf_idf = TfidfVectorizer(max_features=5000)\n",
    "tf_idf_data = tf_idf.fit_transform(tf_w_data)\n",
    "tf_train_data = []\n",
    "tf_idf_data = tf_idf_data.toarray()\n",
    "i = 0\n",
    "splitted = []\n",
    "for row in tf_w_data: \n",
    "    splitted.append([word for word in row.split()])\n",
    "for row in splitted:\n",
    "    vec = [0 for i in range(150)]\n",
    "    \n",
    "    temp_tfidf = []\n",
    "    for val in tf_idf_data[i]:\n",
    "        if val != 0:\n",
    "            temp_tfidf.append(val)\n",
    "    \n",
    "    count = 0\n",
    "    tf_idf_sum = 0\n",
    "    for word in row:\n",
    "        try:\n",
    "            count += 1\n",
    "            tf_idf_sum = tf_idf_sum + temp_tfidf[count-1]\n",
    "            vec += (temp_tfidf[count-1] * train_w2v[word])\n",
    "        except:\n",
    "            pass\n",
    "    #print(vec)\n",
    "    try:\n",
    "        vec = (float)(1/tf_idf_sum) * vec\n",
    "    except:\n",
    "        pass\n",
    "    tf_train_data.append(vec)\n",
    "    i = i + 1\n",
    "    \n",
    "    \n",
    "    \n",
    "#====================================================================================\n",
    "\n",
    "tf_w_data = X_test\n",
    "tf_idf_data = tf_idf.transform(tf_w_data)\n",
    "tf_test_data = []\n",
    "tf_idf_data = tf_idf_data.toarray()\n",
    "i = 0\n",
    "splitted = []\n",
    "for row in tf_w_data: \n",
    "    splitted.append([word for word in row.split()])\n",
    "for row in splitted:\n",
    "    vec = [0 for i in range(150)]\n",
    "    \n",
    "    temp_tfidf = []\n",
    "    for val in tf_idf_data[i]:\n",
    "        if val != 0:\n",
    "            temp_tfidf.append(val)\n",
    "    \n",
    "    count = 0\n",
    "    tf_idf_sum = 0\n",
    "    for word in row:\n",
    "        try:\n",
    "            count += 1\n",
    "            tf_idf_sum = tf_idf_sum + temp_tfidf[count-1]\n",
    "            vec += (temp_tfidf[count-1] * train_w2v[word])\n",
    "        except:\n",
    "            pass\n",
    "    try:\n",
    "        vec = (float)(1/tf_idf_sum) * vec\n",
    "    except:\n",
    "        pass\n",
    "    tf_test_data.append(vec)\n",
    "    i = i + 1"
   ]
  },
  {
   "cell_type": "markdown",
   "metadata": {
    "_uuid": "1b3dd12949a7de93d175161ddc21862ac27816a6"
   },
   "source": [
    "**Brute force algorithm**"
   ]
  },
  {
   "cell_type": "code",
   "execution_count": 59,
   "metadata": {
    "_uuid": "55c45eb84d5aef2ef54010f82e036dd9b197507d"
   },
   "outputs": [
    {
     "name": "stdout",
     "output_type": "stream",
     "text": [
      "best k =  {'n_neighbors': 13}\n",
      "Accuracy on train data =  88.82272727272728\n"
     ]
    }
   ],
   "source": [
    "from sklearn.model_selection import GridSearchCV\n",
    "knn = KNeighborsClassifier(algorithm = 'brute')\n",
    "param_grid = { 'n_neighbors':np.arange(5,15,2)}\n",
    "grid = GridSearchCV(estimator = knn, param_grid = param_grid ,cv = 3,  n_jobs = 2)\n",
    "grid.fit(tf_train_data, y_train)\n",
    "print(\"best k = \", grid.best_params_)\n",
    "print(\"Accuracy on train data = \", grid.best_score_*100)\n",
    "tr_acc7 = grid.best_score_*100\n",
    "a = grid.best_params_\n",
    "optimal_k7 = a.get('n_neighbors')"
   ]
  },
  {
   "cell_type": "code",
   "execution_count": 60,
   "metadata": {},
   "outputs": [
    {
     "data": {
      "image/png": "[encoded data removed]",
      "text/plain": [
       "<matplotlib.figure.Figure at 0x67aa403588>"
      ]
     },
     "metadata": {},
     "output_type": "display_data"
    }
   ],
   "source": [
    "neig = [i for i in range(5,15,2)]\n",
    "error = [(1-i)*100 for i in grid.cv_results_['mean_test_score']]\n",
    "plt.plot(neig, error)\n",
    "plt.title('Error plot')\n",
    "plt.xlabel('No. of Neighbors')\n",
    "plt.ylabel('Test_Error')\n",
    "plt.show()"
   ]
  },
  {
   "cell_type": "code",
   "execution_count": 61,
   "metadata": {
    "_uuid": "315695e42197a5e2139795faff08bf63bea4d52e"
   },
   "outputs": [
    {
     "name": "stdout",
     "output_type": "stream",
     "text": [
      "\n",
      "The accuracy of the knn classifier for k = 13 is 89.662500%\n"
     ]
    }
   ],
   "source": [
    "knn_optimal = KNeighborsClassifier(n_neighbors=optimal_k7 , algorithm = 'brute', n_jobs = 2)\n",
    "\n",
    "# fitting the model\n",
    "knn_optimal.fit(tf_train_data, y_train)\n",
    "\n",
    "# predict the response\n",
    "pred = knn_optimal.predict(tf_test_data)\n",
    "\n",
    "# evaluate accuracy\n",
    "acc7 = accuracy_score(y_test, pred) * 100\n",
    "print('\\nThe accuracy of the knn classifier for k = %d is %f%%' % (optimal_k7, acc7))"
   ]
  },
  {
   "cell_type": "code",
   "execution_count": 62,
   "metadata": {},
   "outputs": [
    {
     "data": {
      "image/png": "[encoded data removed]",
      "text/plain": [
       "<matplotlib.figure.Figure at 0x67aa2047f0>"
      ]
     },
     "metadata": {},
     "output_type": "display_data"
    }
   ],
   "source": [
    "cm = confusion_matrix(y_test,pred)\n",
    "sns.heatmap(cm, annot=True,fmt='d')\n",
    "plt.title('Confusion Matrix for TF-IDF W2V BruteForce')\n",
    "plt.show()"
   ]
  },
  {
   "cell_type": "markdown",
   "metadata": {
    "_uuid": "4d5f701f3e8870b9d423d474240f4b631aa6ad1e"
   },
   "source": [
    "**kd_tree algorithm**"
   ]
  },
  {
   "cell_type": "code",
   "execution_count": 64,
   "metadata": {
    "_uuid": "9960aff5092eb2611e34d3a6a4de13769086c95e"
   },
   "outputs": [
    {
     "name": "stdout",
     "output_type": "stream",
     "text": [
      "best k =  {'n_neighbors': 13}\n",
      "Accuracy on train data =  88.82272727272728\n"
     ]
    }
   ],
   "source": [
    "from sklearn.model_selection import GridSearchCV\n",
    "knn = KNeighborsClassifier(algorithm = 'kd_tree')\n",
    "param_grid = { 'n_neighbors':np.arange(5,15,2)}\n",
    "grid = GridSearchCV(estimator = knn, param_grid = param_grid ,cv = 3,  n_jobs = 2)\n",
    "grid.fit(tf_train_data, y_train)\n",
    "print(\"best k = \", grid.best_params_)\n",
    "print(\"Accuracy on train data = \", grid.best_score_*100)\n",
    "tr_acc8 = grid.best_score_*100\n",
    "a = grid.best_params_\n",
    "optimal_k8 = a.get('n_neighbors')"
   ]
  },
  {
   "cell_type": "code",
   "execution_count": 65,
   "metadata": {},
   "outputs": [
    {
     "data": {
      "image/png": "[encoded data removed]",
      "text/plain": [
       "<matplotlib.figure.Figure at 0x67a9c012e8>"
      ]
     },
     "metadata": {},
     "output_type": "display_data"
    }
   ],
   "source": [
    "neig = [i for i in range(5,15,2)]\n",
    "error = [(1-i)*100 for i in grid.cv_results_['mean_test_score']]\n",
    "plt.plot(neig, error)\n",
    "plt.title('Error plot')\n",
    "plt.xlabel('No. of Neighbors')\n",
    "plt.ylabel('Test_Error')\n",
    "plt.show()"
   ]
  },
  {
   "cell_type": "code",
   "execution_count": 66,
   "metadata": {
    "_uuid": "5d2dd2e435706e5e70aa640d092b0744b5514596"
   },
   "outputs": [
    {
     "name": "stdout",
     "output_type": "stream",
     "text": [
      "\n",
      "The accuracy of the knn classifier for k = 13 is 89.662500%\n"
     ]
    }
   ],
   "source": [
    "knn_optimal = KNeighborsClassifier(n_neighbors=optimal_k8 , algorithm = 'kd_tree', n_jobs = 2)\n",
    "\n",
    "# fitting the model\n",
    "knn_optimal.fit(tf_train_data, y_train)\n",
    "\n",
    "# predict the response\n",
    "pred = knn_optimal.predict(tf_test_data)\n",
    "\n",
    "# evaluate accuracy\n",
    "acc8 = accuracy_score(y_test, pred) * 100\n",
    "print('\\nThe accuracy of the knn classifier for k = %d is %f%%' % (optimal_k8, acc8))"
   ]
  },
  {
   "cell_type": "code",
   "execution_count": 67,
   "metadata": {},
   "outputs": [
    {
     "data": {
      "image/png": "[encoded data removed]",
      "text/plain": [
       "<matplotlib.figure.Figure at 0x67add48e80>"
      ]
     },
     "metadata": {},
     "output_type": "display_data"
    }
   ],
   "source": [
    "cm = confusion_matrix(y_test,pred)\n",
    "sns.heatmap(cm, annot=True,fmt='d')\n",
    "plt.title('Confusion Matrix for TF-IDF W2V kd-tree')\n",
    "plt.show()"
   ]
  },
  {
   "cell_type": "code",
   "execution_count": 70,
   "metadata": {},
   "outputs": [
    {
     "name": "stdout",
     "output_type": "stream",
     "text": [
      "+------------+-----------+-----------+----------------+---------------+\n",
      "|   Model    | Algorithm | Optimal K | Train_Error(%) | Test_Error(%) |\n",
      "+------------+-----------+-----------+----------------+---------------+\n",
      "|    BoW     |   Brute   |     7     |     10.94      |     10.06     |\n",
      "|    BoW     |  kd-tree  |     11    |     10.86      |     10.02     |\n",
      "|   TF-IDF   |   Brute   |     9     |     10.36      |      9.62     |\n",
      "|   TF-IDF   |  kd-tree  |     13    |     10.97      |     10.19     |\n",
      "|  AVG W2V   |   Brute   |     13    |      10.6      |      10.2     |\n",
      "|  AVG W2V   |  kd-tree  |     13    |      10.6      |      10.2     |\n",
      "| TF-IDF W2V |   Brute   |     13    |     11.18      |     10.34     |\n",
      "| TF-IDF W2V |  kd-tree  |     13    |     11.18      |     10.34     |\n",
      "+------------+-----------+-----------+----------------+---------------+\n"
     ]
    }
   ],
   "source": [
    "from prettytable import PrettyTable\n",
    "\n",
    "x = PrettyTable()\n",
    "\n",
    "model1 = 'BoW'\n",
    "model2 = 'TF-IDF'\n",
    "model3 = 'AVG W2V'\n",
    "model4 = 'TF-IDF W2V'\n",
    "\n",
    "type1 = 'Brute'\n",
    "type2 = 'kd-tree'\n",
    "\n",
    "x.field_names = [\"Model\",\"Algorithm\",\"Optimal K\",\"Train_Error(%)\",\"Test_Error(%)\"]\n",
    "\n",
    "tr_err1 = np.around(100-tr_acc1, decimals =2)\n",
    "err1 = np.around(100-acc1, decimals = 2)\n",
    "\n",
    "tr_err2 = np.around(100-tr_acc2, decimals =2)\n",
    "err2 = np.around(100-acc2, decimals = 2) \n",
    "\n",
    "tr_err3 = np.around(100-tr_acc3, decimals =2)\n",
    "err3 = np.around(100-acc3, decimals = 2) \n",
    "\n",
    "tr_err4 = np.around(100-tr_acc4, decimals =2)\n",
    "err4 = np.around(100-acc4, decimals = 2) \n",
    "\n",
    "tr_err5 = np.around(100-tr_acc5, decimals =2)\n",
    "err5 = np.around(100-acc5, decimals = 2) \n",
    "\n",
    "tr_err6 = np.around(100-tr_acc6, decimals =2)\n",
    "err6 = np.around(100-acc6, decimals = 2) \n",
    "\n",
    "tr_err7 = np.around(100-tr_acc7, decimals =2)\n",
    "err7 = np.around(100-acc7, decimals = 2) \n",
    "\n",
    "tr_err8 = np.around(100-tr_acc8, decimals =2)\n",
    "err8 = np.around(100-acc8, decimals = 2) \n",
    "\n",
    "\n",
    "\n",
    "\n",
    "x.add_row([model1,type1,optimal_k1,tr_err1,err1])\n",
    "x.add_row([model1,type2,optimal_k2,tr_err2,err2])\n",
    "x.add_row([model2,type1,optimal_k3,tr_err3,err3])\n",
    "x.add_row([model2,type2,optimal_k4,tr_err4,err4])\n",
    "x.add_row([model3,type1,optimal_k5,tr_err5,err5])\n",
    "x.add_row([model3,type2,optimal_k6,tr_err6,err6])\n",
    "x.add_row([model4,type1,optimal_k7,tr_err7,err7])\n",
    "x.add_row([model4,type2,optimal_k8,tr_err8,err8])\n",
    "\n",
    "\n",
    "print(x)"
   ]
  },
  {
   "cell_type": "markdown",
   "metadata": {
    "_uuid": "4584475ee7d84923dc740d7b6f014e699631bbaa"
   },
   "source": [
    "**Summary and Observations**\n",
    "\n",
    "* Considered a sample of 30k datapoints. (Box Running times)\n",
    "* Plotted Error plots based on K values \n",
    "* Shown Confusion Matrix using sns heatmap, Majorly saw most of the points are classifing as positive.\n",
    "* Used PrettyTable to show all the data as a table manner.\n",
    "* from the table we can see that TF-IDF on brute force gave less test error compared to other models.\n",
    "* Intrestingly noted that, on AVG W2V and TF-IDF W2V on both algorithms gave exactly same results."
   ]
  },
  {
   "cell_type": "code",
   "execution_count": null,
   "metadata": {
    "collapsed": true
   },
   "outputs": [],
   "source": []
  }
 ],
 "metadata": {
  "kernelspec": {
   "display_name": "Python 3",
   "language": "python",
   "name": "python3"
  },
  "language_info": {
   "codemirror_mode": {
    "name": "ipython",
    "version": 3
   },
   "file_extension": ".py",
   "mimetype": "text/x-python",
   "name": "python",
   "nbconvert_exporter": "python",
   "pygments_lexer": "ipython3",
   "version": "3.6.3"
  }
 },
 "nbformat": 4,
 "nbformat_minor": 1
}

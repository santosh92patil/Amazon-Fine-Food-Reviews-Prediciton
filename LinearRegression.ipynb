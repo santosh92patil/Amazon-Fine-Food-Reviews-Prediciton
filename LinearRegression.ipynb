{
 "cells": [
  {
   "cell_type": "code",
   "execution_count": 18,
   "metadata": {
    "collapsed": true
   },
   "outputs": [],
   "source": [
    "from sklearn.datasets import load_boston\n",
    "boston = load_boston()\n"
   ]
  },
  {
   "cell_type": "code",
   "execution_count": 19,
   "metadata": {},
   "outputs": [
    {
     "name": "stdout",
     "output_type": "stream",
     "text": [
      "(506, 13)\n"
     ]
    }
   ],
   "source": [
    "print(boston.data.shape)"
   ]
  },
  {
   "cell_type": "code",
   "execution_count": 20,
   "metadata": {
    "scrolled": true
   },
   "outputs": [
    {
     "name": "stdout",
     "output_type": "stream",
     "text": [
      "['CRIM' 'ZN' 'INDUS' 'CHAS' 'NOX' 'RM' 'AGE' 'DIS' 'RAD' 'TAX' 'PTRATIO'\n",
      " 'B' 'LSTAT']\n"
     ]
    }
   ],
   "source": [
    "print(boston.feature_names)"
   ]
  },
  {
   "cell_type": "code",
   "execution_count": 21,
   "metadata": {},
   "outputs": [
    {
     "name": "stdout",
     "output_type": "stream",
     "text": [
      "[24.  21.6 34.7 33.4 36.2 28.7 22.9 27.1 16.5 18.9 15.  18.9 21.7 20.4\n",
      " 18.2 19.9 23.1 17.5 20.2 18.2 13.6 19.6 15.2 14.5 15.6 13.9 16.6 14.8\n",
      " 18.4 21.  12.7 14.5 13.2 13.1 13.5 18.9 20.  21.  24.7 30.8 34.9 26.6\n",
      " 25.3 24.7 21.2 19.3 20.  16.6 14.4 19.4 19.7 20.5 25.  23.4 18.9 35.4\n",
      " 24.7 31.6 23.3 19.6 18.7 16.  22.2 25.  33.  23.5 19.4 22.  17.4 20.9\n",
      " 24.2 21.7 22.8 23.4 24.1 21.4 20.  20.8 21.2 20.3 28.  23.9 24.8 22.9\n",
      " 23.9 26.6 22.5 22.2 23.6 28.7 22.6 22.  22.9 25.  20.6 28.4 21.4 38.7\n",
      " 43.8 33.2 27.5 26.5 18.6 19.3 20.1 19.5 19.5 20.4 19.8 19.4 21.7 22.8\n",
      " 18.8 18.7 18.5 18.3 21.2 19.2 20.4 19.3 22.  20.3 20.5 17.3 18.8 21.4\n",
      " 15.7 16.2 18.  14.3 19.2 19.6 23.  18.4 15.6 18.1 17.4 17.1 13.3 17.8\n",
      " 14.  14.4 13.4 15.6 11.8 13.8 15.6 14.6 17.8 15.4 21.5 19.6 15.3 19.4\n",
      " 17.  15.6 13.1 41.3 24.3 23.3 27.  50.  50.  50.  22.7 25.  50.  23.8\n",
      " 23.8 22.3 17.4 19.1 23.1 23.6 22.6 29.4 23.2 24.6 29.9 37.2 39.8 36.2\n",
      " 37.9 32.5 26.4 29.6 50.  32.  29.8 34.9 37.  30.5 36.4 31.1 29.1 50.\n",
      " 33.3 30.3 34.6 34.9 32.9 24.1 42.3 48.5 50.  22.6 24.4 22.5 24.4 20.\n",
      " 21.7 19.3 22.4 28.1 23.7 25.  23.3 28.7 21.5 23.  26.7 21.7 27.5 30.1\n",
      " 44.8 50.  37.6 31.6 46.7 31.5 24.3 31.7 41.7 48.3 29.  24.  25.1 31.5\n",
      " 23.7 23.3 22.  20.1 22.2 23.7 17.6 18.5 24.3 20.5 24.5 26.2 24.4 24.8\n",
      " 29.6 42.8 21.9 20.9 44.  50.  36.  30.1 33.8 43.1 48.8 31.  36.5 22.8\n",
      " 30.7 50.  43.5 20.7 21.1 25.2 24.4 35.2 32.4 32.  33.2 33.1 29.1 35.1\n",
      " 45.4 35.4 46.  50.  32.2 22.  20.1 23.2 22.3 24.8 28.5 37.3 27.9 23.9\n",
      " 21.7 28.6 27.1 20.3 22.5 29.  24.8 22.  26.4 33.1 36.1 28.4 33.4 28.2\n",
      " 22.8 20.3 16.1 22.1 19.4 21.6 23.8 16.2 17.8 19.8 23.1 21.  23.8 23.1\n",
      " 20.4 18.5 25.  24.6 23.  22.2 19.3 22.6 19.8 17.1 19.4 22.2 20.7 21.1\n",
      " 19.5 18.5 20.6 19.  18.7 32.7 16.5 23.9 31.2 17.5 17.2 23.1 24.5 26.6\n",
      " 22.9 24.1 18.6 30.1 18.2 20.6 17.8 21.7 22.7 22.6 25.  19.9 20.8 16.8\n",
      " 21.9 27.5 21.9 23.1 50.  50.  50.  50.  50.  13.8 13.8 15.  13.9 13.3\n",
      " 13.1 10.2 10.4 10.9 11.3 12.3  8.8  7.2 10.5  7.4 10.2 11.5 15.1 23.2\n",
      "  9.7 13.8 12.7 13.1 12.5  8.5  5.   6.3  5.6  7.2 12.1  8.3  8.5  5.\n",
      " 11.9 27.9 17.2 27.5 15.  17.2 17.9 16.3  7.   7.2  7.5 10.4  8.8  8.4\n",
      " 16.7 14.2 20.8 13.4 11.7  8.3 10.2 10.9 11.   9.5 14.5 14.1 16.1 14.3\n",
      " 11.7 13.4  9.6  8.7  8.4 12.8 10.5 17.1 18.4 15.4 10.8 11.8 14.9 12.6\n",
      " 14.1 13.  13.4 15.2 16.1 17.8 14.9 14.1 12.7 13.5 14.9 20.  16.4 17.7\n",
      " 19.5 20.2 21.4 19.9 19.  19.1 19.1 20.1 19.9 19.6 23.2 29.8 13.8 13.3\n",
      " 16.7 12.  14.6 21.4 23.  23.7 25.  21.8 20.6 21.2 19.1 20.6 15.2  7.\n",
      "  8.1 13.6 20.1 21.8 24.5 23.1 19.7 18.3 21.2 17.5 16.8 22.4 20.6 23.9\n",
      " 22.  11.9]\n"
     ]
    }
   ],
   "source": [
    "print(boston.target)"
   ]
  },
  {
   "cell_type": "code",
   "execution_count": 22,
   "metadata": {},
   "outputs": [
    {
     "name": "stdout",
     "output_type": "stream",
     "text": [
      "Boston House Prices dataset\n",
      "===========================\n",
      "\n",
      "Notes\n",
      "------\n",
      "Data Set Characteristics:  \n",
      "\n",
      "    :Number of Instances: 506 \n",
      "\n",
      "    :Number of Attributes: 13 numeric/categorical predictive\n",
      "    \n",
      "    :Median Value (attribute 14) is usually the target\n",
      "\n",
      "    :Attribute Information (in order):\n",
      "        - CRIM     per capita crime rate by town\n",
      "        - ZN       proportion of residential land zoned for lots over 25,000 sq.ft.\n",
      "        - INDUS    proportion of non-retail business acres per town\n",
      "        - CHAS     Charles River dummy variable (= 1 if tract bounds river; 0 otherwise)\n",
      "        - NOX      nitric oxides concentration (parts per 10 million)\n",
      "        - RM       average number of rooms per dwelling\n",
      "        - AGE      proportion of owner-occupied units built prior to 1940\n",
      "        - DIS      weighted distances to five Boston employment centres\n",
      "        - RAD      index of accessibility to radial highways\n",
      "        - TAX      full-value property-tax rate per $10,000\n",
      "        - PTRATIO  pupil-teacher ratio by town\n",
      "        - B        1000(Bk - 0.63)^2 where Bk is the proportion of blacks by town\n",
      "        - LSTAT    % lower status of the population\n",
      "        - MEDV     Median value of owner-occupied homes in $1000's\n",
      "\n",
      "    :Missing Attribute Values: None\n",
      "\n",
      "    :Creator: Harrison, D. and Rubinfeld, D.L.\n",
      "\n",
      "This is a copy of UCI ML housing dataset.\n",
      "http://archive.ics.uci.edu/ml/datasets/Housing\n",
      "\n",
      "\n",
      "This dataset was taken from the StatLib library which is maintained at Carnegie Mellon University.\n",
      "\n",
      "The Boston house-price data of Harrison, D. and Rubinfeld, D.L. 'Hedonic\n",
      "prices and the demand for clean air', J. Environ. Economics & Management,\n",
      "vol.5, 81-102, 1978.   Used in Belsley, Kuh & Welsch, 'Regression diagnostics\n",
      "...', Wiley, 1980.   N.B. Various transformations are used in the table on\n",
      "pages 244-261 of the latter.\n",
      "\n",
      "The Boston house-price data has been used in many machine learning papers that address regression\n",
      "problems.   \n",
      "     \n",
      "**References**\n",
      "\n",
      "   - Belsley, Kuh & Welsch, 'Regression diagnostics: Identifying Influential Data and Sources of Collinearity', Wiley, 1980. 244-261.\n",
      "   - Quinlan,R. (1993). Combining Instance-Based and Model-Based Learning. In Proceedings on the Tenth International Conference of Machine Learning, 236-243, University of Massachusetts, Amherst. Morgan Kaufmann.\n",
      "   - many more! (see http://archive.ics.uci.edu/ml/datasets/Housing)\n",
      "\n"
     ]
    }
   ],
   "source": [
    "print(boston.DESCR)"
   ]
  },
  {
   "cell_type": "code",
   "execution_count": 23,
   "metadata": {},
   "outputs": [
    {
     "name": "stdout",
     "output_type": "stream",
     "text": [
      "        0     1     2    3      4      5     6       7    8      9     10  \\\n",
      "0  0.00632  18.0  2.31  0.0  0.538  6.575  65.2  4.0900  1.0  296.0  15.3   \n",
      "1  0.02731   0.0  7.07  0.0  0.469  6.421  78.9  4.9671  2.0  242.0  17.8   \n",
      "2  0.02729   0.0  7.07  0.0  0.469  7.185  61.1  4.9671  2.0  242.0  17.8   \n",
      "3  0.03237   0.0  2.18  0.0  0.458  6.998  45.8  6.0622  3.0  222.0  18.7   \n",
      "4  0.06905   0.0  2.18  0.0  0.458  7.147  54.2  6.0622  3.0  222.0  18.7   \n",
      "\n",
      "       11    12  \n",
      "0  396.90  4.98  \n",
      "1  396.90  9.14  \n",
      "2  392.83  4.03  \n",
      "3  394.63  2.94  \n",
      "4  396.90  5.33  \n"
     ]
    }
   ],
   "source": [
    "import pandas as pd\n",
    "bos = pd.DataFrame(boston.data)\n",
    "print(bos.head())"
   ]
  },
  {
   "cell_type": "code",
   "execution_count": 24,
   "metadata": {
    "collapsed": true
   },
   "outputs": [],
   "source": [
    "bos['PRICE'] = boston.target\n",
    "\n",
    "X = bos.drop('PRICE', axis = 1)\n",
    "Y = bos['PRICE']"
   ]
  },
  {
   "cell_type": "code",
   "execution_count": 32,
   "metadata": {},
   "outputs": [
    {
     "name": "stdout",
     "output_type": "stream",
     "text": [
      "(339, 13)\n",
      "(167, 13)\n",
      "(339,)\n",
      "(167,)\n"
     ]
    }
   ],
   "source": [
    "import sklearn\n",
    "X_train, X_test, Y_train, Y_test = sklearn.cross_validation.train_test_split(X, Y, test_size = 0.33, random_state = 5)\n",
    "print(X_train.shape)\n",
    "print(X_test.shape)\n",
    "print(Y_train.shape)\n",
    "print(Y_test.shape)"
   ]
  },
  {
   "cell_type": "code",
   "execution_count": 34,
   "metadata": {},
   "outputs": [
    {
     "data": {
      "image/png": "[encoded data removed]",
      "text/plain": [
       "<matplotlib.figure.Figure at 0x27c07852e8>"
      ]
     },
     "metadata": {},
     "output_type": "display_data"
    }
   ],
   "source": [
    "# code source:https://medium.com/@haydar_ai/learning-data-science-day-9-linear-regression-on-boston-housing-dataset-cd62a80775ef\n",
    "from sklearn.linear_model import LinearRegression\n",
    "import matplotlib.pyplot as plt\n",
    "\n",
    "lm = LinearRegression()\n",
    "lm.fit(X_train, Y_train)\n",
    "\n",
    "Y_pred = lm.predict(X_test)\n",
    "\n",
    "plt.scatter(Y_test, Y_pred)\n",
    "plt.xlabel(\"Prices: $Y_i$\")\n",
    "plt.ylabel(\"Predicted prices: $\\hat{Y}_i$\")\n",
    "plt.title(\"Prices vs Predicted prices: $Y_i$ vs $\\hat{Y}_i$\")\n",
    "plt.show()"
   ]
  },
  {
   "cell_type": "code",
   "execution_count": 35,
   "metadata": {},
   "outputs": [
    {
     "data": {
      "image/png": "[encoded data removed]",
      "text/plain": [
       "<matplotlib.figure.Figure at 0x27c391bd30>"
      ]
     },
     "metadata": {},
     "output_type": "display_data"
    }
   ],
   "source": [
    "delta_y = Y_test - Y_pred;\n",
    "\n",
    "import seaborn as sns;\n",
    "import numpy as np;\n",
    "sns.set_style('whitegrid')\n",
    "sns.kdeplot(np.array(delta_y), bw=0.5)\n",
    "plt.show()\n"
   ]
  },
  {
   "cell_type": "code",
   "execution_count": 36,
   "metadata": {},
   "outputs": [
    {
     "data": {
      "image/png": "[encoded data removed]",
      "text/plain": [
       "<matplotlib.figure.Figure at 0x27c3951630>"
      ]
     },
     "metadata": {},
     "output_type": "display_data"
    }
   ],
   "source": [
    "sns.set_style('whitegrid')\n",
    "sns.kdeplot(np.array(Y_pred), bw=0.5)\n",
    "plt.show()"
   ]
  },
  {
   "cell_type": "code",
   "execution_count": 63,
   "metadata": {},
   "outputs": [],
   "source": [
    "from sklearn.preprocessing import StandardScaler\n",
    "scalar = StandardScaler()\n",
    "\n",
    "X_train = scalar.fit_transform(X_train)\n",
    "X_test = scalar.transform(X_test)"
   ]
  },
  {
   "cell_type": "code",
   "execution_count": 94,
   "metadata": {},
   "outputs": [
    {
     "name": "stderr",
     "output_type": "stream",
     "text": [
      "C:\\Users\\HP\\Anaconda3\\lib\\site-packages\\sklearn\\linear_model\\stochastic_gradient.py:128: FutureWarning: max_iter and tol parameters have been added in <class 'sklearn.linear_model.stochastic_gradient.SGDRegressor'> in 0.19. If both are left unset, they default to max_iter=5 and tol=None. If tol is not None, max_iter defaults to max_iter=1000. From 0.21, default max_iter will be 1000, and default tol will be 1e-3.\n",
      "  \"and default tol will be 1e-3.\" % type(self), FutureWarning)\n"
     ]
    }
   ],
   "source": [
    "from sklearn.linear_model import SGDRegressor\n",
    "\n",
    "sgd = SGDRegressor(loss='squared_loss')\n",
    "sgd.fit(X_train,Y_train)\n",
    "\n",
    "y_pred = sgd.predict(X_test)"
   ]
  },
  {
   "cell_type": "code",
   "execution_count": 95,
   "metadata": {},
   "outputs": [
    {
     "name": "stdout",
     "output_type": "stream",
     "text": [
      "Test error = 30.813856772865837\n"
     ]
    }
   ],
   "source": [
    "from sklearn.metrics import mean_squared_error\n",
    "\n",
    "test_err = mean_squared_error(Y_test,y_pred)\n",
    "\n",
    "print(\"Test error =\",test_err)"
   ]
  },
  {
   "cell_type": "markdown",
   "metadata": {},
   "source": [
    "# # SGD code"
   ]
  },
  {
   "cell_type": "code",
   "execution_count": 178,
   "metadata": {},
   "outputs": [],
   "source": [
    "# Predicting\n",
    "\n",
    "def predict(row,coefficients):\n",
    "    y_dash = coefficients[0]\n",
    "    for i in range(len(row)-1):\n",
    "        y_dash += coefficients[i+1] * row[i]\n",
    "    return y_dash\n",
    "\n",
    "# estimating coefficients using SGD\n",
    "\n",
    "def coeff(data_X,data_Y,step_size,n_epochs):\n",
    "    coef = np.random.rand(len(data_X[0])+1)\n",
    "    for epoch in range(n_epochs):\n",
    "        err_sum = 0\n",
    "        j=0\n",
    "        for row in data_X:\n",
    "            y_dash = predict(row,coef)\n",
    "            err = data_Y.iloc[j] - y_dash\n",
    "          #  err_sum += err**2\n",
    "            coef[0] = coef[0] + step_size * err\n",
    "            j=j+1\n",
    "            for i in range(len(row)-1):\n",
    "                coef[i+1] = coef[i+1] + step_size * err * row[i]\n",
    "        \n",
    "        print('# of epoch=%d, step_size=%.3f, Squared_error=%.3f' % (epoch, step_size, err))\n",
    "    \n",
    "\n",
    "    return coef"
   ]
  },
  {
   "cell_type": "code",
   "execution_count": 188,
   "metadata": {},
   "outputs": [
    {
     "name": "stdout",
     "output_type": "stream",
     "text": [
      "# of epoch=0, step_size=0.000, Squared_error=16.386\n",
      "# of epoch=1, step_size=0.000, Squared_error=14.806\n",
      "# of epoch=2, step_size=0.000, Squared_error=13.476\n",
      "# of epoch=3, step_size=0.000, Squared_error=12.353\n",
      "# of epoch=4, step_size=0.000, Squared_error=11.401\n",
      "# of epoch=5, step_size=0.000, Squared_error=10.593\n",
      "# of epoch=6, step_size=0.000, Squared_error=9.903\n",
      "# of epoch=7, step_size=0.000, Squared_error=9.313\n",
      "# of epoch=8, step_size=0.000, Squared_error=8.804\n",
      "# of epoch=9, step_size=0.000, Squared_error=8.365\n",
      "# of epoch=10, step_size=0.000, Squared_error=7.982\n",
      "# of epoch=11, step_size=0.000, Squared_error=7.648\n",
      "# of epoch=12, step_size=0.000, Squared_error=7.353\n",
      "# of epoch=13, step_size=0.000, Squared_error=7.093\n",
      "# of epoch=14, step_size=0.000, Squared_error=6.860\n",
      "# of epoch=15, step_size=0.000, Squared_error=6.651\n",
      "# of epoch=16, step_size=0.000, Squared_error=6.463\n",
      "# of epoch=17, step_size=0.000, Squared_error=6.291\n",
      "# of epoch=18, step_size=0.000, Squared_error=6.135\n",
      "# of epoch=19, step_size=0.000, Squared_error=5.990\n",
      "# of epoch=20, step_size=0.000, Squared_error=5.857\n",
      "# of epoch=21, step_size=0.000, Squared_error=5.733\n",
      "# of epoch=22, step_size=0.000, Squared_error=5.617\n",
      "# of epoch=23, step_size=0.000, Squared_error=5.508\n",
      "# of epoch=24, step_size=0.000, Squared_error=5.406\n",
      "# of epoch=25, step_size=0.000, Squared_error=5.309\n",
      "# of epoch=26, step_size=0.000, Squared_error=5.217\n",
      "# of epoch=27, step_size=0.000, Squared_error=5.130\n",
      "# of epoch=28, step_size=0.000, Squared_error=5.046\n",
      "# of epoch=29, step_size=0.000, Squared_error=4.967\n",
      "# of epoch=30, step_size=0.000, Squared_error=4.891\n",
      "# of epoch=31, step_size=0.000, Squared_error=4.819\n",
      "# of epoch=32, step_size=0.000, Squared_error=4.749\n",
      "# of epoch=33, step_size=0.000, Squared_error=4.683\n",
      "# of epoch=34, step_size=0.000, Squared_error=4.619\n",
      "# of epoch=35, step_size=0.000, Squared_error=4.557\n",
      "# of epoch=36, step_size=0.000, Squared_error=4.498\n",
      "# of epoch=37, step_size=0.000, Squared_error=4.442\n",
      "# of epoch=38, step_size=0.000, Squared_error=4.387\n",
      "# of epoch=39, step_size=0.000, Squared_error=4.335\n",
      "# of epoch=40, step_size=0.000, Squared_error=4.285\n",
      "# of epoch=41, step_size=0.000, Squared_error=4.237\n",
      "# of epoch=42, step_size=0.000, Squared_error=4.191\n",
      "# of epoch=43, step_size=0.000, Squared_error=4.147\n",
      "# of epoch=44, step_size=0.000, Squared_error=4.105\n",
      "# of epoch=45, step_size=0.000, Squared_error=4.064\n",
      "# of epoch=46, step_size=0.000, Squared_error=4.026\n",
      "# of epoch=47, step_size=0.000, Squared_error=3.988\n",
      "# of epoch=48, step_size=0.000, Squared_error=3.953\n",
      "# of epoch=49, step_size=0.000, Squared_error=3.919\n",
      "# of epoch=50, step_size=0.000, Squared_error=3.887\n",
      "# of epoch=51, step_size=0.000, Squared_error=3.856\n",
      "# of epoch=52, step_size=0.000, Squared_error=3.827\n",
      "# of epoch=53, step_size=0.000, Squared_error=3.799\n",
      "# of epoch=54, step_size=0.000, Squared_error=3.773\n",
      "# of epoch=55, step_size=0.000, Squared_error=3.748\n",
      "# of epoch=56, step_size=0.000, Squared_error=3.724\n",
      "# of epoch=57, step_size=0.000, Squared_error=3.702\n",
      "# of epoch=58, step_size=0.000, Squared_error=3.680\n",
      "# of epoch=59, step_size=0.000, Squared_error=3.660\n",
      "# of epoch=60, step_size=0.000, Squared_error=3.642\n",
      "# of epoch=61, step_size=0.000, Squared_error=3.624\n",
      "# of epoch=62, step_size=0.000, Squared_error=3.607\n",
      "# of epoch=63, step_size=0.000, Squared_error=3.592\n",
      "# of epoch=64, step_size=0.000, Squared_error=3.577\n",
      "# of epoch=65, step_size=0.000, Squared_error=3.564\n",
      "# of epoch=66, step_size=0.000, Squared_error=3.552\n",
      "# of epoch=67, step_size=0.000, Squared_error=3.540\n",
      "# of epoch=68, step_size=0.000, Squared_error=3.530\n",
      "# of epoch=69, step_size=0.000, Squared_error=3.520\n",
      "# of epoch=70, step_size=0.000, Squared_error=3.511\n",
      "# of epoch=71, step_size=0.000, Squared_error=3.504\n",
      "# of epoch=72, step_size=0.000, Squared_error=3.496\n",
      "# of epoch=73, step_size=0.000, Squared_error=3.490\n",
      "# of epoch=74, step_size=0.000, Squared_error=3.485\n",
      "# of epoch=75, step_size=0.000, Squared_error=3.480\n",
      "# of epoch=76, step_size=0.000, Squared_error=3.476\n",
      "# of epoch=77, step_size=0.000, Squared_error=3.473\n",
      "# of epoch=78, step_size=0.000, Squared_error=3.470\n",
      "# of epoch=79, step_size=0.000, Squared_error=3.468\n",
      "# of epoch=80, step_size=0.000, Squared_error=3.467\n",
      "# of epoch=81, step_size=0.000, Squared_error=3.466\n",
      "# of epoch=82, step_size=0.000, Squared_error=3.466\n",
      "# of epoch=83, step_size=0.000, Squared_error=3.466\n",
      "# of epoch=84, step_size=0.000, Squared_error=3.467\n",
      "# of epoch=85, step_size=0.000, Squared_error=3.468\n",
      "# of epoch=86, step_size=0.000, Squared_error=3.470\n",
      "# of epoch=87, step_size=0.000, Squared_error=3.473\n",
      "# of epoch=88, step_size=0.000, Squared_error=3.476\n",
      "# of epoch=89, step_size=0.000, Squared_error=3.479\n",
      "# of epoch=90, step_size=0.000, Squared_error=3.483\n",
      "# of epoch=91, step_size=0.000, Squared_error=3.487\n",
      "# of epoch=92, step_size=0.000, Squared_error=3.491\n",
      "# of epoch=93, step_size=0.000, Squared_error=3.496\n",
      "# of epoch=94, step_size=0.000, Squared_error=3.502\n",
      "# of epoch=95, step_size=0.000, Squared_error=3.508\n",
      "# of epoch=96, step_size=0.000, Squared_error=3.514\n",
      "# of epoch=97, step_size=0.000, Squared_error=3.520\n",
      "# of epoch=98, step_size=0.000, Squared_error=3.527\n",
      "# of epoch=99, step_size=0.000, Squared_error=3.534\n",
      "# of epoch=100, step_size=0.000, Squared_error=3.541\n",
      "# of epoch=101, step_size=0.000, Squared_error=3.549\n",
      "# of epoch=102, step_size=0.000, Squared_error=3.556\n",
      "# of epoch=103, step_size=0.000, Squared_error=3.564\n",
      "# of epoch=104, step_size=0.000, Squared_error=3.573\n",
      "# of epoch=105, step_size=0.000, Squared_error=3.581\n",
      "# of epoch=106, step_size=0.000, Squared_error=3.590\n",
      "# of epoch=107, step_size=0.000, Squared_error=3.599\n",
      "# of epoch=108, step_size=0.000, Squared_error=3.608\n",
      "# of epoch=109, step_size=0.000, Squared_error=3.618\n",
      "# of epoch=110, step_size=0.000, Squared_error=3.627\n",
      "# of epoch=111, step_size=0.000, Squared_error=3.637\n",
      "# of epoch=112, step_size=0.000, Squared_error=3.647\n",
      "# of epoch=113, step_size=0.000, Squared_error=3.657\n",
      "# of epoch=114, step_size=0.000, Squared_error=3.667\n",
      "# of epoch=115, step_size=0.000, Squared_error=3.677\n",
      "# of epoch=116, step_size=0.000, Squared_error=3.688\n",
      "# of epoch=117, step_size=0.000, Squared_error=3.698\n",
      "# of epoch=118, step_size=0.000, Squared_error=3.709\n",
      "# of epoch=119, step_size=0.000, Squared_error=3.720\n",
      "# of epoch=120, step_size=0.000, Squared_error=3.731\n",
      "# of epoch=121, step_size=0.000, Squared_error=3.742\n",
      "# of epoch=122, step_size=0.000, Squared_error=3.753\n",
      "# of epoch=123, step_size=0.000, Squared_error=3.764\n",
      "# of epoch=124, step_size=0.000, Squared_error=3.775\n",
      "# of epoch=125, step_size=0.000, Squared_error=3.786\n",
      "# of epoch=126, step_size=0.000, Squared_error=3.798\n",
      "# of epoch=127, step_size=0.000, Squared_error=3.809\n",
      "# of epoch=128, step_size=0.000, Squared_error=3.821\n",
      "# of epoch=129, step_size=0.000, Squared_error=3.832\n",
      "# of epoch=130, step_size=0.000, Squared_error=3.844\n",
      "# of epoch=131, step_size=0.000, Squared_error=3.855\n",
      "# of epoch=132, step_size=0.000, Squared_error=3.867\n",
      "# of epoch=133, step_size=0.000, Squared_error=3.879\n",
      "# of epoch=134, step_size=0.000, Squared_error=3.890\n",
      "# of epoch=135, step_size=0.000, Squared_error=3.902\n",
      "# of epoch=136, step_size=0.000, Squared_error=3.914\n",
      "# of epoch=137, step_size=0.000, Squared_error=3.925\n",
      "# of epoch=138, step_size=0.000, Squared_error=3.937\n",
      "# of epoch=139, step_size=0.000, Squared_error=3.949\n",
      "# of epoch=140, step_size=0.000, Squared_error=3.961\n",
      "# of epoch=141, step_size=0.000, Squared_error=3.973\n",
      "# of epoch=142, step_size=0.000, Squared_error=3.984\n",
      "# of epoch=143, step_size=0.000, Squared_error=3.996\n",
      "# of epoch=144, step_size=0.000, Squared_error=4.008\n",
      "# of epoch=145, step_size=0.000, Squared_error=4.020\n",
      "# of epoch=146, step_size=0.000, Squared_error=4.031\n",
      "# of epoch=147, step_size=0.000, Squared_error=4.043\n",
      "# of epoch=148, step_size=0.000, Squared_error=4.055\n",
      "# of epoch=149, step_size=0.000, Squared_error=4.067\n",
      "[22.40195316 -1.53071792  0.39933587 -0.66948851  0.31741351 -0.92380438\n",
      "  4.40543897 -1.1436835  -1.73213755  0.98331521 -0.81935951 -2.13811771\n",
      "  1.29532431  0.62254025]\n"
     ]
    }
   ],
   "source": [
    "step_size = 0.0001\n",
    "n_epochs = 150\n",
    "#X_data = np.random.rand(X_train)\n",
    "coef = coeff(X_train,Y_train, step_size, n_epochs)\n",
    "print(coef)"
   ]
  },
  {
   "cell_type": "code",
   "execution_count": 189,
   "metadata": {},
   "outputs": [],
   "source": [
    "predictions=[]\n",
    "for i in range(len(X_test)):\n",
    "    pred = predict(X_test[i],coef)\n",
    "    predictions.append(pred)\n"
   ]
  },
  {
   "cell_type": "code",
   "execution_count": 190,
   "metadata": {},
   "outputs": [
    {
     "name": "stdout",
     "output_type": "stream",
     "text": [
      "Test error = 36.852\n"
     ]
    }
   ],
   "source": [
    "test_err = mean_squared_error(Y_test,predictions)\n",
    "\n",
    "print(\"Test error = %.3f\"%(test_err))"
   ]
  },
  {
   "cell_type": "code",
   "execution_count": 201,
   "metadata": {
    "scrolled": true
   },
   "outputs": [
    {
     "data": {
      "image/png": "[encoded data removed]",
      "text/plain": [
       "<matplotlib.figure.Figure at 0x27c404ecc0>"
      ]
     },
     "metadata": {},
     "output_type": "display_data"
    }
   ],
   "source": [
    "\n",
    "plt.scatter(Y_pred,predictions,color=['red','green'])\n",
    "plt.xlabel(\"Actuall Prices\")\n",
    "plt.ylabel(\"Predicted prices\")\n",
    "plt.title(\"Prices vs Predicted prices\")\n",
    "plt.show()"
   ]
  },
  {
   "cell_type": "markdown",
   "metadata": {},
   "source": [
    "## Observations and summary\n",
    "\n",
    "* from this plot we can observe that,red points are prediction points using SGDRegressor and green points are from myy own SGD  function uisng finding optimal coefficients.*\n",
    "\n",
    "* If we observe them both are almost in the same line, if they match exactly both are absoluetly same. but here they are almost same means giving error nearly same.*"
   ]
  }
 ],
 "metadata": {
  "kernelspec": {
   "display_name": "Python 3",
   "language": "python",
   "name": "python3"
  },
  "language_info": {
   "codemirror_mode": {
    "name": "ipython",
    "version": 3
   },
   "file_extension": ".py",
   "mimetype": "text/x-python",
   "name": "python",
   "nbconvert_exporter": "python",
   "pygments_lexer": "ipython3",
   "version": "3.6.3"
  }
 },
 "nbformat": 4,
 "nbformat_minor": 2
}

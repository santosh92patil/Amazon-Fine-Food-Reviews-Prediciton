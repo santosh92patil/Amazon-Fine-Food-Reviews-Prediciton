{
 "cells": [
  {
   "cell_type": "markdown",
   "metadata": {},
   "source": [
    "** Importing Libraries **"
   ]
  },
  {
   "cell_type": "code",
   "execution_count": 1,
   "metadata": {
    "collapsed": true
   },
   "outputs": [],
   "source": [
    "import warnings\n",
    "warnings.filterwarnings(\"ignore\")\n",
    "\n",
    "import pandas as pd\n",
    "import numpy as np\n",
    "\n",
    "import nltk\n",
    "from nltk.corpus import stopwords\n",
    "from nltk.stem import PorterStemmer\n",
    "\n",
    "from sklearn.feature_extraction.text import CountVectorizer\n",
    "from sklearn.feature_extraction.text import TfidfVectorizer\n",
    "\n",
    "from prettytable import PrettyTable\n",
    "\n",
    "from sklearn.linear_model import LogisticRegression\n",
    "\n",
    "from sklearn.metrics import accuracy_score\n",
    "from sklearn.metrics import precision_score\n",
    "from sklearn.metrics import f1_score\n",
    "from sklearn.metrics import recall_score\n",
    "from sklearn.metrics import confusion_matrix\n",
    "\n",
    "from sklearn.model_selection import GridSearchCV, RandomizedSearchCV\n",
    "from sklearn.preprocessing import StandardScaler\n",
    "\n",
    "from scipy import *\n",
    "from scipy.sparse import *"
   ]
  },
  {
   "cell_type": "code",
   "execution_count": 2,
   "metadata": {
    "collapsed": true
   },
   "outputs": [],
   "source": [
    "path = 'Reviews.csv'\n",
    "df = pd.read_csv(path)\n",
    "data = df"
   ]
  },
  {
   "cell_type": "code",
   "execution_count": 3,
   "metadata": {
    "collapsed": true
   },
   "outputs": [],
   "source": [
    "#Removing Neural reviews\n",
    "data_s = data[data['Score']!=3]\n",
    "\n",
    "#Updating Score to 0 or 1\n",
    "def partition(x):\n",
    "    if x<3:\n",
    "        return 0\n",
    "    return 1\n",
    "\n",
    "score_upd = data_s['Score']\n",
    "temp = score_upd.map(partition)\n",
    "data_s['Score'] = temp"
   ]
  },
  {
   "cell_type": "code",
   "execution_count": 4,
   "metadata": {
    "collapsed": true
   },
   "outputs": [],
   "source": [
    "final_data = data_s.drop_duplicates(subset=('UserId','ProfileName','Time','Text'))\n",
    "final = final_data[final_data['HelpfulnessNumerator']<=final_data['HelpfulnessDenominator']]"
   ]
  },
  {
   "cell_type": "code",
   "execution_count": 5,
   "metadata": {
    "collapsed": true
   },
   "outputs": [],
   "source": [
    "final = final.sort_values(['Time'], axis=0)   #TIme based sorting\n",
    "final = final.head(100000)"
   ]
  },
  {
   "cell_type": "code",
   "execution_count": 6,
   "metadata": {
    "collapsed": true
   },
   "outputs": [],
   "source": [
    "final_X = final['Text']\n",
    "final_y = final['Score']"
   ]
  },
  {
   "cell_type": "markdown",
   "metadata": {},
   "source": [
    "** Data preprocessing\n",
    "\n",
    "* stopword\n",
    "* stemming\n",
    "* Punctuations removal"
   ]
  },
  {
   "cell_type": "code",
   "execution_count": 7,
   "metadata": {},
   "outputs": [
    {
     "name": "stdout",
     "output_type": "stream",
     "text": [
      "100.00 %\r"
     ]
    }
   ],
   "source": [
    "import re\n",
    "temp_1 =[]\n",
    "snow = nltk.stem.SnowballStemmer('english')\n",
    "i = 0\n",
    "N = len(final_X)\n",
    "for sentence in final_X:\n",
    "    sentence = sentence.lower()\n",
    "    cleanr = re.compile('<.*?>')\n",
    "    sentence = re.sub(cleanr, ' ', sentence)        #Removing HTML tags\n",
    "    sentence = re.sub(r'[?|!|\\'|\"|#]',r'',sentence)\n",
    "    sentence = re.sub(r'[.|,|)|(|\\|/]',r' ',sentence)        #Removing Punctuations\n",
    "    \n",
    "    words = [snow.stem(word) for word in sentence.split() if word not in stopwords.words('english')]        #Splitting the words\n",
    "    temp_1.append(words)                                                                            # and doing stemming\n",
    "    print(\"{0:.2f} %\".format((i/N)*100),end ='\\r')\n",
    "    i = i+1\n",
    "    \n",
    "final_X = temp_1   "
   ]
  },
  {
   "cell_type": "code",
   "execution_count": 8,
   "metadata": {
    "collapsed": true
   },
   "outputs": [],
   "source": [
    "# Joining the splitted words back to sentence\n",
    "\n",
    "sent = []\n",
    "for row in final_X:\n",
    "    seq = ''\n",
    "    for word in row:\n",
    "        seq = seq + ' ' + word\n",
    "    sent.append(seq)\n",
    "\n",
    "final_X = sent"
   ]
  },
  {
   "cell_type": "code",
   "execution_count": 9,
   "metadata": {
    "collapsed": true
   },
   "outputs": [],
   "source": [
    "#Splitting data into train and test\n",
    "#Splitting data into train and test\n",
    "X_train = final_X[:75000]\n",
    "X_test = final_X[75000:]\n",
    "y_train = final_y[:75000]\n",
    "y_test = final_y[75000:]"
   ]
  },
  {
   "cell_type": "markdown",
   "metadata": {},
   "source": [
    "## Logistic Regression on BoW"
   ]
  },
  {
   "cell_type": "code",
   "execution_count": 10,
   "metadata": {
    "collapsed": true
   },
   "outputs": [],
   "source": [
    "# Bag of Words\n",
    "\n",
    "count_vect = CountVectorizer(max_features = 2000, dtype='float')\n",
    "bow_X_train = count_vect.fit_transform(X_train)\n",
    "bow_X_test = count_vect.transform(X_test)"
   ]
  },
  {
   "cell_type": "markdown",
   "metadata": {},
   "source": [
    "### GridSearchCV"
   ]
  },
  {
   "cell_type": "code",
   "execution_count": 11,
   "metadata": {},
   "outputs": [
    {
     "name": "stdout",
     "output_type": "stream",
     "text": [
      "best C =  {'C': 1}\n",
      "Accuracy on train data =  92.50933333333333\n"
     ]
    }
   ],
   "source": [
    "lam = [0.001,0.01,0.1,1,10]\n",
    "clf = LogisticRegression()\n",
    "param_grid = {'C':lam}\n",
    "grid = GridSearchCV(estimator = clf,param_grid=param_grid ,cv = 5,n_jobs = 3)\n",
    "grid.fit(bow_X_train, y_train)\n",
    "print(\"best C = \", grid.best_params_)\n",
    "print(\"Accuracy on train data = \", grid.best_score_*100)\n",
    "a = grid.best_params_\n",
    "optimal_a1 = a.get('C')"
   ]
  },
  {
   "cell_type": "code",
   "execution_count": 12,
   "metadata": {},
   "outputs": [
    {
     "data": {
      "image/png": "[encoded data removed]",
      "text/plain": [
       "<matplotlib.figure.Figure at 0xc5e31ccba8>"
      ]
     },
     "metadata": {},
     "output_type": "display_data"
    }
   ],
   "source": [
    "import matplotlib.pyplot as plt \n",
    "\n",
    "error = [(1-i)*100 for i in grid.cv_results_['mean_test_score']]\n",
    "plt.plot(lam, error)\n",
    "plt.title('Error plot')\n",
    "plt.xlabel('lambda value')\n",
    "plt.ylabel('Test_Error')\n",
    "plt.show()"
   ]
  },
  {
   "cell_type": "markdown",
   "metadata": {},
   "source": [
    "** Using L2 Regularizer (By default its L2)**"
   ]
  },
  {
   "cell_type": "code",
   "execution_count": 13,
   "metadata": {},
   "outputs": [
    {
     "name": "stdout",
     "output_type": "stream",
     "text": [
      "\n",
      "Accuracy=91.864000%\n",
      "\n",
      "precision=93.632223%\n",
      "\n",
      "recall=97.182054%\n",
      "\n",
      "F1-Score=95.374119%\n"
     ]
    }
   ],
   "source": [
    "clf = LogisticRegression(C = optimal_a1)\n",
    "\n",
    "clf.fit(bow_X_train,y_train)\n",
    "\n",
    "pred = clf.predict(bow_X_test)\n",
    "\n",
    "acc1 = accuracy_score(y_test, pred) * 100\n",
    "pre1 = precision_score(y_test, pred) * 100\n",
    "rec1 = recall_score(y_test, pred) * 100\n",
    "f11 = f1_score(y_test, pred) * 100\n",
    "\n",
    "print('\\nAccuracy=%f%%' % (acc1))\n",
    "print('\\nprecision=%f%%' % (pre1))\n",
    "print('\\nrecall=%f%%' % (rec1))\n",
    "print('\\nF1-Score=%f%%' % (f11))"
   ]
  },
  {
   "cell_type": "code",
   "execution_count": 14,
   "metadata": {},
   "outputs": [
    {
     "data": {
      "image/png": "[encoded data removed]",
      "text/plain": [
       "<matplotlib.figure.Figure at 0xc5ce258be0>"
      ]
     },
     "metadata": {},
     "output_type": "display_data"
    }
   ],
   "source": [
    "import seaborn as sns\n",
    "cm = confusion_matrix(y_test,pred)\n",
    "sns.heatmap(cm, annot=True,fmt='d')\n",
    "plt.title('Confusion Matrix')\n",
    "plt.show()"
   ]
  },
  {
   "cell_type": "markdown",
   "metadata": {},
   "source": [
    "** Using L1 Regularizer **"
   ]
  },
  {
   "cell_type": "code",
   "execution_count": 15,
   "metadata": {},
   "outputs": [
    {
     "name": "stdout",
     "output_type": "stream",
     "text": [
      "\n",
      "Accuracy=91.872000%\n",
      "\n",
      "precision=93.558884%\n",
      "\n",
      "recall=97.279385%\n",
      "\n",
      "F1-Score=95.382868%\n"
     ]
    }
   ],
   "source": [
    "clf = LogisticRegression(C = optimal_a1 , penalty='l1')\n",
    "\n",
    "clf.fit(bow_X_train,y_train)\n",
    "\n",
    "pred = clf.predict(bow_X_test)\n",
    "\n",
    "acc2 = accuracy_score(y_test, pred) * 100\n",
    "pre2 = precision_score(y_test, pred) * 100\n",
    "rec2 = recall_score(y_test, pred) * 100\n",
    "f12 = f1_score(y_test, pred) * 100\n",
    "\n",
    "print('\\nAccuracy=%f%%' % (acc2))\n",
    "print('\\nprecision=%f%%' % (pre2))\n",
    "print('\\nrecall=%f%%' % (rec2))\n",
    "print('\\nF1-Score=%f%%' % (f12))"
   ]
  },
  {
   "cell_type": "code",
   "execution_count": 16,
   "metadata": {},
   "outputs": [
    {
     "data": {
      "image/png": "[encoded data removed]",
      "text/plain": [
       "<matplotlib.figure.Figure at 0xc5e4a094a8>"
      ]
     },
     "metadata": {},
     "output_type": "display_data"
    }
   ],
   "source": [
    "cm = confusion_matrix(y_test,pred)\n",
    "sns.heatmap(cm, annot=True,fmt='d')\n",
    "plt.title('Confusion Matrix for BoW')\n",
    "plt.show()"
   ]
  },
  {
   "cell_type": "code",
   "execution_count": 17,
   "metadata": {},
   "outputs": [
    {
     "name": "stdout",
     "output_type": "stream",
     "text": [
      "+------+-------------+---+-------------+---------------+--------------+-----------+-------------+\n",
      "|  CV  | Regularizer | C | Test_Acc(%) | Test_Error(%) | Precision(%) | Recall(%) | F1-Score(%) |\n",
      "+------+-------------+---+-------------+---------------+--------------+-----------+-------------+\n",
      "| Grid |      L2     | 1 |    91.86    |      8.14     |    93.63     |   97.18   |    95.37    |\n",
      "| Grid |      L1     | 1 |    91.87    |      8.13     |    93.56     |   97.28   |    95.38    |\n",
      "+------+-------------+---+-------------+---------------+--------------+-----------+-------------+\n"
     ]
    }
   ],
   "source": [
    "x = PrettyTable()\n",
    "\n",
    "reg1 = 'L2'\n",
    "reg2 = 'L1'\n",
    "cv = 'Grid'\n",
    "x.field_names = [\"CV\",\"Regularizer\",\"C\",\"Test_Acc(%)\",\"Test_Error(%)\",\"Precision(%)\",\"Recall(%)\",\"F1-Score(%)\"]\n",
    "\n",
    "acc1 = np.around(acc1, decimals = 2)\n",
    "err1 = np.around(100-acc1, decimals = 2) \n",
    "pre1 = np.around(pre1, decimals = 2)\n",
    "rec1 = np.around(rec1, decimals = 2)\n",
    "f11 = np.around(f11, decimals = 2)\n",
    "\n",
    "acc2 = np.around(acc2, decimals = 2)\n",
    "err2 = np.around(100-acc2, decimals = 2) \n",
    "pre2 = np.around(pre2, decimals = 2)\n",
    "rec2 = np.around(rec2, decimals = 2)\n",
    "f12 = np.around(f12, decimals = 2)\n",
    "\n",
    "x.add_row([cv,reg1,optimal_a1,acc1,err1,pre1,rec1,f11])\n",
    "x.add_row([cv,reg2,optimal_a1,acc2,err2,pre2,rec2,f12])\n",
    "\n",
    "print(x)"
   ]
  },
  {
   "cell_type": "code",
   "execution_count": 18,
   "metadata": {},
   "outputs": [
    {
     "data": {
      "image/png": "[encoded data removed]",
      "text/plain": [
       "<matplotlib.figure.Figure at 0xc5ce2582e8>"
      ]
     },
     "metadata": {},
     "output_type": "display_data"
    }
   ],
   "source": [
    "positive_log = np.array(list(map(abs,clf.coef_))).argsort()[0][1970:2000]\n",
    "\n",
    "pos={}\n",
    "\n",
    "for index in positive_log:\n",
    "    for i in count_vect.vocabulary_:\n",
    "        if count_vect.vocabulary_[i] == index:\n",
    "            pos[i]=clf.coef_[0][index]\n",
    "            \n",
    "\n",
    "from wordcloud import WordCloud\n",
    "\n",
    "wordcloud = WordCloud(width = 800, height = 600,\n",
    "background_color ='white').generate_from_frequencies(pos)\n",
    "plt.imshow(wordcloud)\n",
    "plt.title(\"Positive Frequent words\")\n",
    "plt.show()"
   ]
  },
  {
   "cell_type": "markdown",
   "metadata": {},
   "source": [
    "### RandomizedSearchCV"
   ]
  },
  {
   "cell_type": "code",
   "execution_count": 19,
   "metadata": {},
   "outputs": [
    {
     "name": "stdout",
     "output_type": "stream",
     "text": [
      "best C =  {'C': 0.37837950974696655}\n",
      "Accuracy on train data =  92.58133333333333\n"
     ]
    }
   ],
   "source": [
    "from scipy.stats import uniform\n",
    "clf = LogisticRegression()\n",
    "param_grid = { 'C':uniform()}\n",
    "grid = RandomizedSearchCV(estimator = clf,param_distributions=param_grid ,cv = 5,n_jobs = 3)\n",
    "grid.fit(bow_X_train, y_train)\n",
    "print(\"best C = \", grid.best_params_)\n",
    "print(\"Accuracy on train data = \", grid.best_score_*100)\n",
    "a = grid.best_params_\n",
    "optimal_a1 = a.get('C')"
   ]
  },
  {
   "cell_type": "code",
   "execution_count": 20,
   "metadata": {},
   "outputs": [
    {
     "data": {
      "image/png": "[encoded data removed]",
      "text/plain": [
       "<matplotlib.figure.Figure at 0xc5ea46dda0>"
      ]
     },
     "metadata": {},
     "output_type": "display_data"
    }
   ],
   "source": [
    "lam =[]\n",
    "for i in range(10):\n",
    "    lam.append(grid.cv_results_['params'][i]['C'])\n",
    "ind = np.argsort(lam)\n",
    "error = [(1-i)*100 for i in grid.cv_results_['mean_test_score']]\n",
    "l_values=[]\n",
    "err=[]\n",
    "for i in ind:\n",
    "    l_values.append(lam[i])\n",
    "    err.append(error[i])\n",
    "plt.plot(l_values, err)\n",
    "plt.title('Error plot')\n",
    "plt.xlabel('lambda value')\n",
    "plt.ylabel('Test_Error')\n",
    "plt.show()"
   ]
  },
  {
   "cell_type": "markdown",
   "metadata": {},
   "source": [
    "** Using L2 Regularizer (By default its L2) **"
   ]
  },
  {
   "cell_type": "code",
   "execution_count": 21,
   "metadata": {},
   "outputs": [
    {
     "name": "stdout",
     "output_type": "stream",
     "text": [
      "\n",
      "Accuracy=91.972000%\n",
      "\n",
      "precision=93.569934%\n",
      "\n",
      "recall=97.390619%\n",
      "\n",
      "F1-Score=95.442055%\n"
     ]
    }
   ],
   "source": [
    "clf = LogisticRegression(C = optimal_a1)\n",
    "\n",
    "clf.fit(bow_X_train,y_train)\n",
    "\n",
    "pred = clf.predict(bow_X_test)\n",
    "\n",
    "acc1 = accuracy_score(y_test, pred) * 100\n",
    "pre1 = precision_score(y_test, pred) * 100\n",
    "rec1 = recall_score(y_test, pred) * 100\n",
    "f11 = f1_score(y_test, pred) * 100\n",
    "\n",
    "print('\\nAccuracy=%f%%' % (acc1))\n",
    "print('\\nprecision=%f%%' % (pre1))\n",
    "print('\\nrecall=%f%%' % (rec1))\n",
    "print('\\nF1-Score=%f%%' % (f11))\n"
   ]
  },
  {
   "cell_type": "code",
   "execution_count": 22,
   "metadata": {},
   "outputs": [
    {
     "data": {
      "image/png": "[encoded data removed]",
      "text/plain": [
       "<matplotlib.figure.Figure at 0xc5e4a78a90>"
      ]
     },
     "metadata": {},
     "output_type": "display_data"
    }
   ],
   "source": [
    "cm = confusion_matrix(y_test,pred)\n",
    "sns.heatmap(cm, annot=True,fmt='d')\n",
    "plt.title('Confusion Matrix')\n",
    "plt.show()"
   ]
  },
  {
   "cell_type": "markdown",
   "metadata": {},
   "source": [
    "** Using L1 Regularizer **"
   ]
  },
  {
   "cell_type": "code",
   "execution_count": 116,
   "metadata": {},
   "outputs": [
    {
     "name": "stdout",
     "output_type": "stream",
     "text": [
      "\n",
      "Accuracy=91.932000%\n",
      "\n",
      "precision=93.539914%\n",
      "\n",
      "recall=97.376715%\n",
      "\n",
      "F1-Score=95.419761%\n"
     ]
    }
   ],
   "source": [
    "clf = LogisticRegression(C = optimal_a1 , penalty='l1')\n",
    "\n",
    "clf.fit(bow_X_train,y_train)\n",
    "\n",
    "pred = clf.predict(bow_X_test)\n",
    "\n",
    "acc2 = accuracy_score(y_test, pred) * 100\n",
    "pre2 = precision_score(y_test, pred) * 100\n",
    "rec2 = recall_score(y_test, pred) * 100\n",
    "f12 = f1_score(y_test, pred) * 100\n",
    "\n",
    "print('\\nAccuracy=%f%%' % (acc2))\n",
    "print('\\nprecision=%f%%' % (pre2))\n",
    "print('\\nrecall=%f%%' % (rec2))\n",
    "print('\\nF1-Score=%f%%' % (f12))\n"
   ]
  },
  {
   "cell_type": "code",
   "execution_count": 24,
   "metadata": {},
   "outputs": [
    {
     "data": {
      "image/png": "[encoded data removed]",
      "text/plain": [
       "<matplotlib.figure.Figure at 0xc5e4633588>"
      ]
     },
     "metadata": {},
     "output_type": "display_data"
    }
   ],
   "source": [
    "cm = confusion_matrix(y_test,pred)\n",
    "sns.heatmap(cm, annot=True,fmt='d')\n",
    "plt.title('Confusion Matrix')\n",
    "plt.show()"
   ]
  },
  {
   "cell_type": "code",
   "execution_count": 25,
   "metadata": {},
   "outputs": [
    {
     "name": "stdout",
     "output_type": "stream",
     "text": [
      "+--------+-------------+---------------------+-------------+---------------+--------------+-----------+-------------+\n",
      "|   CV   | Regularizer |          C          | Test_Acc(%) | Test_Error(%) | Precision(%) | Recall(%) | F1-Score(%) |\n",
      "+--------+-------------+---------------------+-------------+---------------+--------------+-----------+-------------+\n",
      "| Random |      L2     | 0.37837950974696655 |    91.97    |      8.03     |    93.57     |   97.39   |    95.44    |\n",
      "| Random |      L1     | 0.37837950974696655 |    91.98    |      8.02     |    93.41     |   97.59   |    95.46    |\n",
      "+--------+-------------+---------------------+-------------+---------------+--------------+-----------+-------------+\n"
     ]
    }
   ],
   "source": [
    "x = PrettyTable()\n",
    "\n",
    "reg1 = 'L2'\n",
    "reg2 = 'L1'\n",
    "cv = 'Random'\n",
    "x.field_names = [\"CV\",\"Regularizer\",\"C\",\"Test_Acc(%)\",\"Test_Error(%)\",\"Precision(%)\",\"Recall(%)\",\"F1-Score(%)\"]\n",
    "\n",
    "acc1 = np.around(acc1, decimals = 2)\n",
    "err1 = np.around(100-acc1, decimals = 2) \n",
    "pre1 = np.around(pre1, decimals = 2)\n",
    "rec1 = np.around(rec1, decimals = 2)\n",
    "f11 = np.around(f11, decimals = 2)\n",
    "\n",
    "\n",
    "acc2 = np.around(acc2, decimals = 2)\n",
    "err2 = np.around(100-acc2, decimals = 2) \n",
    "pre2 = np.around(pre2, decimals = 2)\n",
    "rec2 = np.around(rec2, decimals = 2)\n",
    "f12 = np.around(f12, decimals = 2)\n",
    "\n",
    "x.add_row([cv,reg1,optimal_a1,acc1,err1,pre1,rec1,f11])\n",
    "x.add_row([cv,reg2,optimal_a1,acc2,err2,pre2,rec2,f12])\n",
    "\n",
    "print(x)"
   ]
  },
  {
   "cell_type": "markdown",
   "metadata": {},
   "source": [
    "## Perturbation Test ##"
   ]
  },
  {
   "cell_type": "markdown",
   "metadata": {},
   "source": [
    "** Pertubation test means adding noise to one of the data point and comparing the difference b/w change in previous weights and New weights to find of collinearity. **"
   ]
  },
  {
   "cell_type": "code",
   "execution_count": 117,
   "metadata": {},
   "outputs": [
    {
     "name": "stdout",
     "output_type": "stream",
     "text": [
      "86.95\n"
     ]
    }
   ],
   "source": [
    "# to calculate percentage change for both weights\n",
    "\n",
    "def Weight_change(Pre_weights,New_weights):\n",
    "    ch = 0\n",
    "    for i in range(Pre_weights.shape[0]):\n",
    "        if Pre_weights[i] != New_weights[i]:\n",
    "            ch += 1\n",
    "    \n",
    "    per = (ch / Pre_weights.shape[0])*100\n",
    "    \n",
    "    return per\n",
    "        \n",
    "\n",
    "# Calculating previous weights\n",
    "\n",
    "pre_w = clf.coef_[0]\n",
    "\n",
    "noise_data = bow_X_train.todense()\n",
    "noise_data[1323] += 0.01\n",
    "\n",
    "clf = LogisticRegression(C = optimal_a1 , penalty='l1')\n",
    "clf.fit(noise_data,y_train)\n",
    "\n",
    "new_w = clf.coef_[0]\n",
    "\n",
    "per_Change = Weight_change(pre_w,new_w)\n",
    "\n",
    "print(per_Change)"
   ]
  },
  {
   "cell_type": "markdown",
   "metadata": {},
   "source": [
    "** Weights differ so much  we can say features are collinear **"
   ]
  },
  {
   "cell_type": "markdown",
   "metadata": {},
   "source": [
    "** Increasing lambda value to see error reports and sparsity check on L1 regularizer.**\n",
    "** As C Decreases Lambda value Increases **"
   ]
  },
  {
   "cell_type": "code",
   "execution_count": 32,
   "metadata": {
    "collapsed": true
   },
   "outputs": [],
   "source": [
    "clf = LogisticRegression(C=100, penalty='l1')\n",
    "clf.fit(bow_X_train, y_train)\n",
    "\n",
    "pred = clf.predict(bow_X_test)\n",
    "ac1 = accuracy_score(y_test, pred) * 100\n",
    "er1 = np.around(100 - ac1, decimals = 2)\n",
    "\n",
    "w = clf.coef_\n",
    "s1 = np.count_nonzero(w)\n",
    "\n",
    "#======================================================================\n",
    "\n",
    "clf = LogisticRegression(C=10, penalty='l1')\n",
    "clf.fit(bow_X_train, y_train)\n",
    "\n",
    "pred = clf.predict(bow_X_test)\n",
    "ac2 = accuracy_score(y_test, pred) * 100\n",
    "er2 = np.around(100 - ac2, decimals = 2)\n",
    "\n",
    "w = clf.coef_\n",
    "s2 = np.count_nonzero(w)\n",
    "\n",
    "#======================================================================\n",
    "\n",
    "clf = LogisticRegression(C=1, penalty='l1')\n",
    "clf.fit(bow_X_train, y_train)\n",
    "\n",
    "pred = clf.predict(bow_X_test)\n",
    "ac3 = accuracy_score(y_test, pred) * 100\n",
    "er3 = np.around(100 - ac3, decimals = 2)\n",
    "\n",
    "w = clf.coef_\n",
    "s3 = np.count_nonzero(w)\n",
    "\n",
    "#======================================================================\n",
    "\n",
    "clf = LogisticRegression(C=0.1, penalty='l1')\n",
    "clf.fit(bow_X_train, y_train)\n",
    "\n",
    "pred = clf.predict(bow_X_test)\n",
    "ac4 = accuracy_score(y_test, pred) * 100\n",
    "er4 = np.around(100 - ac4, decimals = 2)\n",
    "\n",
    "w = clf.coef_\n",
    "s4 = np.count_nonzero(w)\n",
    "\n",
    "#======================================================================\n",
    "\n",
    "clf = LogisticRegression(C=0.01, penalty='l1')\n",
    "clf.fit(bow_X_train, y_train)\n",
    "\n",
    "pred = clf.predict(bow_X_test)\n",
    "ac5 = accuracy_score(y_test, pred) * 100\n",
    "er5 = np.around(100 - ac5, decimals = 2)\n",
    "\n",
    "w = clf.coef_\n",
    "s5 = np.count_nonzero(w)\n",
    "\n",
    "#======================================================================"
   ]
  },
  {
   "cell_type": "markdown",
   "metadata": {},
   "source": [
    "** Sparsity is Number of Non-Zero elements in weight vector **"
   ]
  },
  {
   "cell_type": "code",
   "execution_count": 33,
   "metadata": {},
   "outputs": [
    {
     "name": "stdout",
     "output_type": "stream",
     "text": [
      "+------+----------------+----------+\n",
      "|  C   | Train_Error(%) | Sparsity |\n",
      "+------+----------------+----------+\n",
      "| 100  |      8.18      |   1997   |\n",
      "|  10  |      8.21      |   1975   |\n",
      "|  1   |      8.13      |   1806   |\n",
      "| 0.1  |      8.4       |   815    |\n",
      "| 0.01 |     11.54      |   129    |\n",
      "+------+----------------+----------+\n"
     ]
    }
   ],
   "source": [
    "x = PrettyTable()\n",
    "\n",
    "c = [100,10,1,0.1,0.01]\n",
    "\n",
    "x.field_names = ['C','Train_Error(%)','Sparsity']\n",
    "\n",
    "x.add_row([c[0],er1,s1])\n",
    "x.add_row([c[1],er2,s2])\n",
    "x.add_row([c[2],er3,s3])\n",
    "x.add_row([c[3],er4,s4])\n",
    "x.add_row([c[4],er5,s5])\n",
    "\n",
    "print(x)"
   ]
  },
  {
   "cell_type": "markdown",
   "metadata": {},
   "source": [
    "## Logistic Regression on Tf-Idf"
   ]
  },
  {
   "cell_type": "code",
   "execution_count": 34,
   "metadata": {
    "collapsed": true
   },
   "outputs": [],
   "source": [
    "tf_idf = TfidfVectorizer(max_features=2000)\n",
    "tf_X_train = tf_idf.fit_transform(X_train)\n",
    "tf_X_test = tf_idf.transform(X_test)"
   ]
  },
  {
   "cell_type": "markdown",
   "metadata": {},
   "source": [
    "### GridSearchCV"
   ]
  },
  {
   "cell_type": "code",
   "execution_count": 69,
   "metadata": {},
   "outputs": [
    {
     "name": "stdout",
     "output_type": "stream",
     "text": [
      "best C =  {'C': 10}\n",
      "Accuracy on train data =  92.77333333333333\n"
     ]
    }
   ],
   "source": [
    "lam = [0.001,0.01,0.1,1,10]\n",
    "clf = LogisticRegression()\n",
    "param_grid = {'C':lam}\n",
    "grid = GridSearchCV(estimator = clf,param_grid=param_grid ,cv = 5,n_jobs = 3)\n",
    "grid.fit(tf_X_train, y_train)\n",
    "print(\"best C = \", grid.best_params_)\n",
    "print(\"Accuracy on train data = \", grid.best_score_*100)\n",
    "a = grid.best_params_\n",
    "optimal_a1 = a.get('C')"
   ]
  },
  {
   "cell_type": "code",
   "execution_count": 70,
   "metadata": {},
   "outputs": [
    {
     "data": {
      "image/png": "[encoded data removed]",
      "text/plain": [
       "<matplotlib.figure.Figure at 0xc5ea821f60>"
      ]
     },
     "metadata": {},
     "output_type": "display_data"
    }
   ],
   "source": [
    "error = [(1-i)*100 for i in grid.cv_results_['mean_test_score']]\n",
    "plt.plot(lam, error)\n",
    "plt.title('Error plot')\n",
    "plt.xlabel('lambda value')\n",
    "plt.ylabel('Test_Error')\n",
    "plt.show()"
   ]
  },
  {
   "cell_type": "markdown",
   "metadata": {},
   "source": [
    "** Using L2 Regularizer **"
   ]
  },
  {
   "cell_type": "code",
   "execution_count": 71,
   "metadata": {},
   "outputs": [
    {
     "name": "stdout",
     "output_type": "stream",
     "text": [
      "\n",
      "Accuracy=92.132000%\n",
      "\n",
      "precision=93.869972%\n",
      "\n",
      "recall=97.233037%\n",
      "\n",
      "F1-Score=95.521912%\n"
     ]
    }
   ],
   "source": [
    "clf = LogisticRegression(C = optimal_a1)\n",
    "\n",
    "clf.fit(tf_X_train,y_train)\n",
    "\n",
    "pred = clf.predict(tf_X_test)\n",
    "\n",
    "acc1 = accuracy_score(y_test, pred) * 100\n",
    "pre1 = precision_score(y_test, pred) * 100\n",
    "rec1 = recall_score(y_test, pred) * 100\n",
    "f11 = f1_score(y_test, pred) * 100\n",
    "\n",
    "print('\\nAccuracy=%f%%' % (acc1))\n",
    "print('\\nprecision=%f%%' % (pre1))\n",
    "print('\\nrecall=%f%%' % (rec1))\n",
    "print('\\nF1-Score=%f%%' % (f11))"
   ]
  },
  {
   "cell_type": "code",
   "execution_count": 72,
   "metadata": {},
   "outputs": [
    {
     "data": {
      "image/png": "[encoded data removed]",
      "text/plain": [
       "<matplotlib.figure.Figure at 0xc5e4a2b9b0>"
      ]
     },
     "metadata": {},
     "output_type": "display_data"
    }
   ],
   "source": [
    "cm = confusion_matrix(y_test,pred)\n",
    "sns.heatmap(cm, annot=True,fmt='d')\n",
    "plt.title('Confusion Matrix')\n",
    "plt.show()"
   ]
  },
  {
   "cell_type": "markdown",
   "metadata": {},
   "source": [
    "** Using L1 Regularizer **"
   ]
  },
  {
   "cell_type": "code",
   "execution_count": 73,
   "metadata": {},
   "outputs": [
    {
     "name": "stdout",
     "output_type": "stream",
     "text": [
      "\n",
      "Accuracy=92.080000%\n",
      "\n",
      "precision=93.976661%\n",
      "\n",
      "recall=97.043011%\n",
      "\n",
      "F1-Score=95.485224%\n"
     ]
    }
   ],
   "source": [
    "clf = LogisticRegression(C = optimal_a1 , penalty='l1')\n",
    "\n",
    "clf.fit(tf_X_train,y_train)\n",
    "\n",
    "pred = clf.predict(tf_X_test)\n",
    "\n",
    "acc2 = accuracy_score(y_test, pred) * 100\n",
    "pre2 = precision_score(y_test, pred) * 100\n",
    "rec2 = recall_score(y_test, pred) * 100\n",
    "f12 = f1_score(y_test, pred) * 100\n",
    "\n",
    "print('\\nAccuracy=%f%%' % (acc2))\n",
    "print('\\nprecision=%f%%' % (pre2))\n",
    "print('\\nrecall=%f%%' % (rec2))\n",
    "print('\\nF1-Score=%f%%' % (f12))"
   ]
  },
  {
   "cell_type": "code",
   "execution_count": 74,
   "metadata": {},
   "outputs": [
    {
     "data": {
      "image/png": "[encoded data removed]",
      "text/plain": [
       "<matplotlib.figure.Figure at 0xc5e49d3f28>"
      ]
     },
     "metadata": {},
     "output_type": "display_data"
    }
   ],
   "source": [
    "cm = confusion_matrix(y_test,pred)\n",
    "sns.heatmap(cm, annot=True,fmt='d')\n",
    "plt.title('Confusion Matrix')\n",
    "plt.show()"
   ]
  },
  {
   "cell_type": "code",
   "execution_count": 75,
   "metadata": {},
   "outputs": [
    {
     "name": "stdout",
     "output_type": "stream",
     "text": [
      "+------+-------------+----+-------------+---------------+--------------+-----------+-------------+\n",
      "|  CV  | Regularizer | C  | Test_Acc(%) | Test_Error(%) | Precision(%) | Recall(%) | F1-Score(%) |\n",
      "+------+-------------+----+-------------+---------------+--------------+-----------+-------------+\n",
      "| Grid |      L2     | 10 |    92.13    |      7.87     |    93.87     |   97.23   |    95.52    |\n",
      "| Grid |      L1     | 10 |    92.08    |      7.92     |    93.98     |   97.04   |    95.49    |\n",
      "+------+-------------+----+-------------+---------------+--------------+-----------+-------------+\n"
     ]
    }
   ],
   "source": [
    "x = PrettyTable()\n",
    "\n",
    "reg1 = 'L2'\n",
    "reg2 = 'L1'\n",
    "cv = 'Grid'\n",
    "x.field_names = [\"CV\",\"Regularizer\",\"C\",\"Test_Acc(%)\",\"Test_Error(%)\",\"Precision(%)\",\"Recall(%)\",\"F1-Score(%)\"]\n",
    "\n",
    "acc1 = np.around(acc1, decimals = 2)\n",
    "err1 = np.around(100-acc1, decimals = 2) \n",
    "pre1 = np.around(pre1, decimals = 2)\n",
    "rec1 = np.around(rec1, decimals = 2)\n",
    "f11 = np.around(f11, decimals = 2)\n",
    "\n",
    "acc2 = np.around(acc2, decimals = 2)\n",
    "err2 = np.around(100-acc2, decimals = 2) \n",
    "pre2 = np.around(pre2, decimals = 2)\n",
    "rec2 = np.around(rec2, decimals = 2)\n",
    "f12 = np.around(f12, decimals = 2)\n",
    "\n",
    "x.add_row([cv,reg1,optimal_a1,acc1,err1,pre1,rec1,f11])\n",
    "x.add_row([cv,reg2,optimal_a1,acc2,err2,pre2,rec2,f12])\n",
    "\n",
    "print(x)"
   ]
  },
  {
   "cell_type": "code",
   "execution_count": 76,
   "metadata": {},
   "outputs": [
    {
     "data": {
      "image/png": "[encoded data removed]",
      "text/plain": [
       "<matplotlib.figure.Figure at 0xc5e46f5080>"
      ]
     },
     "metadata": {},
     "output_type": "display_data"
    }
   ],
   "source": [
    "positive_log = np.array(list(map(abs,clf.coef_))).argsort()[0][1970:2000]\n",
    "\n",
    "pos={}\n",
    "\n",
    "for index in positive_log:\n",
    "    for i in tf_idf.vocabulary_:\n",
    "        if tf_idf.vocabulary_[i] == index:\n",
    "            pos[i]=clf.coef_[0][index]\n",
    "            \n",
    "\n",
    "from wordcloud import WordCloud\n",
    "\n",
    "wordcloud = WordCloud(width = 800, height = 600,background_color ='white').generate_from_frequencies(pos)\n",
    "plt.imshow(wordcloud)\n",
    "plt.title(\"Positive Frequent words\")\n",
    "plt.show()"
   ]
  },
  {
   "cell_type": "markdown",
   "metadata": {},
   "source": [
    "### RandomizedSearchCV"
   ]
  },
  {
   "cell_type": "code",
   "execution_count": 58,
   "metadata": {},
   "outputs": [
    {
     "name": "stdout",
     "output_type": "stream",
     "text": [
      "best C =  {'C': 0.9208376313215118}\n",
      "Accuracy on train data =  92.62133333333334\n"
     ]
    }
   ],
   "source": [
    "clf = LogisticRegression()\n",
    "param_grid = { 'C':uniform()}\n",
    "grid = RandomizedSearchCV(estimator = clf,param_distributions=param_grid ,cv = 5,n_jobs = 3)\n",
    "grid.fit(tf_X_train, y_train)\n",
    "print(\"best C = \", grid.best_params_)\n",
    "print(\"Accuracy on train data = \", grid.best_score_*100)\n",
    "a = grid.best_params_\n",
    "optimal_a1 = a.get('C')"
   ]
  },
  {
   "cell_type": "code",
   "execution_count": 59,
   "metadata": {},
   "outputs": [
    {
     "data": {
      "image/png": "[encoded data removed]",
      "text/plain": [
       "<matplotlib.figure.Figure at 0xc5ea36ba90>"
      ]
     },
     "metadata": {},
     "output_type": "display_data"
    }
   ],
   "source": [
    "lam =[]\n",
    "for i in range(10):\n",
    "    lam.append(grid.cv_results_['params'][i]['C'])\n",
    "ind = np.argsort(lam)\n",
    "error = [(1-i)*100 for i in grid.cv_results_['mean_test_score']]\n",
    "l_values=[]\n",
    "err=[]\n",
    "for i in ind:\n",
    "    l_values.append(lam[i])\n",
    "    err.append(error[i])\n",
    "plt.plot(l_values, err)\n",
    "plt.title('Error plot')\n",
    "plt.xlabel('lambda value')\n",
    "plt.ylabel('Test_Error')\n",
    "plt.show()"
   ]
  },
  {
   "cell_type": "code",
   "execution_count": 60,
   "metadata": {},
   "outputs": [
    {
     "name": "stdout",
     "output_type": "stream",
     "text": [
      "\n",
      "Accuracy=91.888000%\n",
      "\n",
      "precision=92.830850%\n",
      "\n",
      "recall=98.183166%\n",
      "\n",
      "F1-Score=95.432021%\n"
     ]
    }
   ],
   "source": [
    "clf = LogisticRegression(C = optimal_a1)\n",
    "\n",
    "clf.fit(tf_X_train,y_train)\n",
    "\n",
    "pred = clf.predict(tf_X_test)\n",
    "\n",
    "acc1 = accuracy_score(y_test, pred) * 100\n",
    "pre1 = precision_score(y_test, pred) * 100\n",
    "rec1 = recall_score(y_test, pred) * 100\n",
    "f11 = f1_score(y_test, pred) * 100\n",
    "\n",
    "print('\\nAccuracy=%f%%' % (acc1))\n",
    "print('\\nprecision=%f%%' % (pre1))\n",
    "print('\\nrecall=%f%%' % (rec1))\n",
    "print('\\nF1-Score=%f%%' % (f11))"
   ]
  },
  {
   "cell_type": "code",
   "execution_count": 61,
   "metadata": {},
   "outputs": [
    {
     "data": {
      "image/png": "[encoded data removed]",
      "text/plain": [
       "<matplotlib.figure.Figure at 0xc5e4b67ac8>"
      ]
     },
     "metadata": {},
     "output_type": "display_data"
    }
   ],
   "source": [
    "cm = confusion_matrix(y_test,pred)\n",
    "sns.heatmap(cm, annot=True,fmt='d')\n",
    "plt.title('Confusion Matrix')\n",
    "plt.show()"
   ]
  },
  {
   "cell_type": "code",
   "execution_count": 118,
   "metadata": {},
   "outputs": [
    {
     "name": "stdout",
     "output_type": "stream",
     "text": [
      "\n",
      "Accuracy=92.076000%\n",
      "\n",
      "precision=93.250342%\n",
      "\n",
      "recall=97.905080%\n",
      "\n",
      "F1-Score=95.521038%\n"
     ]
    }
   ],
   "source": [
    "clf = LogisticRegression(C = optimal_a1 , penalty='l1')\n",
    "\n",
    "clf.fit(tf_X_train,y_train)\n",
    "\n",
    "pred = clf.predict(tf_X_test)\n",
    "\n",
    "acc2 = accuracy_score(y_test, pred) * 100\n",
    "pre2 = precision_score(y_test, pred) * 100\n",
    "rec2 = recall_score(y_test, pred) * 100\n",
    "f12 = f1_score(y_test, pred) * 100\n",
    "\n",
    "print('\\nAccuracy=%f%%' % (acc2))\n",
    "print('\\nprecision=%f%%' % (pre2))\n",
    "print('\\nrecall=%f%%' % (rec2))\n",
    "print('\\nF1-Score=%f%%' % (f12))"
   ]
  },
  {
   "cell_type": "code",
   "execution_count": 63,
   "metadata": {},
   "outputs": [
    {
     "data": {
      "image/png": "[encoded data removed]",
      "text/plain": [
       "<matplotlib.figure.Figure at 0xc5ea77b160>"
      ]
     },
     "metadata": {},
     "output_type": "display_data"
    }
   ],
   "source": [
    "cm = confusion_matrix(y_test,pred)\n",
    "sns.heatmap(cm, annot=True,fmt='d')\n",
    "plt.title('Confusion Matrix')\n",
    "plt.show()"
   ]
  },
  {
   "cell_type": "code",
   "execution_count": 95,
   "metadata": {},
   "outputs": [
    {
     "name": "stdout",
     "output_type": "stream",
     "text": [
      "+--------+-------------+-------------------+-------------+---------------+--------------+-----------+-------------+\n",
      "|   CV   | Regularizer |         C         | Test_Acc(%) | Test_Error(%) | Precision(%) | Recall(%) | F1-Score(%) |\n",
      "+--------+-------------+-------------------+-------------+---------------+--------------+-----------+-------------+\n",
      "| Random |      L2     | 0.493586334683907 |    86.34    |     13.66     |    90.97     |   93.45   |    92.19    |\n",
      "| Random |      L1     | 0.493586334683907 |     86.6    |      13.4     |    90.52     |   94.36   |     92.4    |\n",
      "+--------+-------------+-------------------+-------------+---------------+--------------+-----------+-------------+\n"
     ]
    }
   ],
   "source": [
    "x = PrettyTable()\n",
    "\n",
    "reg1 = 'L2'\n",
    "reg2 = 'L1'\n",
    "cv = 'Random'\n",
    "x.field_names = [\"CV\",\"Regularizer\",\"C\",\"Test_Acc(%)\",\"Test_Error(%)\",\"Precision(%)\",\"Recall(%)\",\"F1-Score(%)\"]\n",
    "\n",
    "acc1 = np.around(acc1, decimals = 2)\n",
    "err1 = np.around(100-acc1, decimals = 2) \n",
    "pre1 = np.around(pre1, decimals = 2)\n",
    "rec1 = np.around(rec1, decimals = 2)\n",
    "f11 = np.around(f11, decimals = 2)\n",
    "\n",
    "acc2 = np.around(acc2, decimals = 2)\n",
    "err2 = np.around(100-acc2, decimals = 2) \n",
    "pre2 = np.around(pre2, decimals = 2)\n",
    "rec2 = np.around(rec2, decimals = 2)\n",
    "f12 = np.around(f12, decimals = 2)\n",
    "\n",
    "x.add_row([cv,reg1,optimal_a1,acc1,err1,pre1,rec1,f11])\n",
    "x.add_row([cv,reg2,optimal_a1,acc2,err2,pre2,rec2,f12])\n",
    "\n",
    "print(x)"
   ]
  },
  {
   "cell_type": "markdown",
   "metadata": {},
   "source": [
    "## Perturbation test on TF-IDF ##"
   ]
  },
  {
   "cell_type": "code",
   "execution_count": 119,
   "metadata": {},
   "outputs": [
    {
     "name": "stdout",
     "output_type": "stream",
     "text": [
      "50.949999999999996\n"
     ]
    }
   ],
   "source": [
    "pre_w = clf.coef_[0]\n",
    "\n",
    "noise_data = tf_X_train.todense()\n",
    "noise_data[1323] += 0.01\n",
    "\n",
    "clf = LogisticRegression(C = optimal_a1 , penalty='l1')\n",
    "clf.fit(noise_data,y_train)\n",
    "\n",
    "new_w = clf.coef_[0]\n",
    "\n",
    "per_Change = Weight_change(pre_w,new_w)\n",
    "\n",
    "print(per_Change)"
   ]
  },
  {
   "cell_type": "markdown",
   "metadata": {},
   "source": [
    "** Even here we get change in weight vectors is high, so features are collinear. **"
   ]
  },
  {
   "cell_type": "code",
   "execution_count": 65,
   "metadata": {
    "collapsed": true
   },
   "outputs": [],
   "source": [
    "clf = LogisticRegression(C=100, penalty='l1')\n",
    "clf.fit(tf_X_train, y_train)\n",
    "\n",
    "pred = clf.predict(tf_X_test)\n",
    "ac1 = accuracy_score(y_test, pred) * 100\n",
    "er1 = np.around(100 - ac1, decimals = 2)\n",
    "\n",
    "w = clf.coef_\n",
    "s1 = np.count_nonzero(w)\n",
    "\n",
    "#======================================================================\n",
    "\n",
    "clf = LogisticRegression(C=10, penalty='l1')\n",
    "clf.fit(tf_X_train, y_train)\n",
    "\n",
    "pred = clf.predict(tf_X_test)\n",
    "ac2 = accuracy_score(y_test, pred) * 100\n",
    "er2 = np.around(100 - ac2, decimals = 2)\n",
    "\n",
    "w = clf.coef_\n",
    "s2 = np.count_nonzero(w)\n",
    "\n",
    "#======================================================================\n",
    "\n",
    "clf = LogisticRegression(C=1, penalty='l1')\n",
    "clf.fit(tf_X_train, y_train)\n",
    "\n",
    "pred = clf.predict(tf_X_test)\n",
    "ac3 = accuracy_score(y_test, pred) * 100\n",
    "er3 = np.around(100 - ac3, decimals = 2)\n",
    "\n",
    "w = clf.coef_\n",
    "s3 = np.count_nonzero(w)\n",
    "\n",
    "#======================================================================\n",
    "\n",
    "clf = LogisticRegression(C=0.1, penalty='l1')\n",
    "clf.fit(tf_X_train, y_train)\n",
    "\n",
    "pred = clf.predict(tf_X_test)\n",
    "ac4 = accuracy_score(y_test, pred) * 100\n",
    "er4 = np.around(100 - ac4, decimals = 2)\n",
    "\n",
    "w = clf.coef_\n",
    "s4 = np.count_nonzero(w)\n",
    "\n",
    "#======================================================================\n",
    "\n",
    "clf = LogisticRegression(C=0.01, penalty='l1')\n",
    "clf.fit(tf_X_train, y_train)\n",
    "\n",
    "pred = clf.predict(tf_X_test)\n",
    "ac5 = accuracy_score(y_test, pred) * 100\n",
    "er5 = np.around(100 - ac5, decimals = 2)\n",
    "\n",
    "w = clf.coef_\n",
    "s5 = np.count_nonzero(w)\n",
    "\n",
    "#======================================================================"
   ]
  },
  {
   "cell_type": "code",
   "execution_count": 66,
   "metadata": {},
   "outputs": [
    {
     "name": "stdout",
     "output_type": "stream",
     "text": [
      "+------+----------------+----------+\n",
      "|  C   | Train_Error(%) | Sparsity |\n",
      "+------+----------------+----------+\n",
      "| 100  |      7.93      |   1987   |\n",
      "|  10  |      7.92      |   1891   |\n",
      "|  1   |      7.84      |   1215   |\n",
      "| 0.1  |     10.36      |   226    |\n",
      "| 0.01 |      13.7      |    6     |\n",
      "+------+----------------+----------+\n"
     ]
    }
   ],
   "source": [
    "x = PrettyTable()\n",
    "\n",
    "c = [100,10,1,0.1,0.01]\n",
    "\n",
    "x.field_names = ['C','Train_Error(%)','Sparsity']\n",
    "\n",
    "x.add_row([c[0],er1,s1])\n",
    "x.add_row([c[1],er2,s2])\n",
    "x.add_row([c[2],er3,s3])\n",
    "x.add_row([c[3],er4,s4])\n",
    "x.add_row([c[4],er5,s5])\n",
    "\n",
    "print(x)"
   ]
  },
  {
   "cell_type": "markdown",
   "metadata": {},
   "source": [
    "## AVG Word2Vec ##"
   ]
  },
  {
   "cell_type": "code",
   "execution_count": 78,
   "metadata": {},
   "outputs": [
    {
     "name": "stderr",
     "output_type": "stream",
     "text": [
      "C:\\Users\\HP\\Anaconda3\\lib\\site-packages\\gensim\\utils.py:1209: UserWarning: detected Windows; aliasing chunkize to chunkize_serial\n",
      "  warnings.warn(\"detected Windows; aliasing chunkize to chunkize_serial\")\n"
     ]
    }
   ],
   "source": [
    "from gensim.models import Word2Vec\n",
    "\n",
    "w2v_data = X_train\n",
    "\n",
    "splitted = []\n",
    "for row in w2v_data: \n",
    "    splitted.append([word for word in row.split()])     #splitting words\n",
    "    \n",
    "train_w2v = Word2Vec(splitted,min_count=5,size=150, workers=4)\n",
    "\n",
    "avg_X_train = []\n",
    "for row in splitted:\n",
    "    vec = np.zeros(150)\n",
    "    count = 0\n",
    "    for word in row:\n",
    "        try:\n",
    "            vec += train_w2v[word]\n",
    "            count += 1\n",
    "        except:\n",
    "            pass\n",
    "    avg_X_train.append(vec/count)\n",
    "    \n",
    "#================================================================\n",
    "w2v_data = X_test\n",
    "\n",
    "splitted = []\n",
    "for row in w2v_data: \n",
    "    splitted.append([word for word in row.split()])     #splitting words\n",
    "    \n",
    "train_w2v = Word2Vec(splitted,min_count=5,size=150, workers=4)\n",
    "\n",
    "avg_X_test = []\n",
    "for row in splitted:\n",
    "    vec = np.zeros(150)\n",
    "    count = 0\n",
    "    for word in row:\n",
    "        try:\n",
    "            vec += train_w2v[word]\n",
    "            count += 1\n",
    "        except:\n",
    "            pass\n",
    "    if count==0:\n",
    "        avg_X_test.append(vec)\n",
    "    else:\n",
    "        avg_X_test.append(vec/count)"
   ]
  },
  {
   "cell_type": "markdown",
   "metadata": {},
   "source": [
    "** GridSearchCV **"
   ]
  },
  {
   "cell_type": "code",
   "execution_count": 83,
   "metadata": {},
   "outputs": [
    {
     "name": "stdout",
     "output_type": "stream",
     "text": [
      "best C =  {'C': 10}\n",
      "Accuracy on train data =  82.77866666666667\n"
     ]
    }
   ],
   "source": [
    "lam = [0.001,0.01,0.1,1,10]\n",
    "clf = LogisticRegression(class_weight ='balanced')\n",
    "param_grid = {'C':lam}\n",
    "grid = GridSearchCV(estimator = clf,param_grid=param_grid ,cv = 5,n_jobs = 3)\n",
    "grid.fit(avg_X_train, y_train)\n",
    "print(\"best C = \", grid.best_params_)\n",
    "print(\"Accuracy on train data = \", grid.best_score_*100)\n",
    "a = grid.best_params_\n",
    "optimal_a1 = a.get('C')"
   ]
  },
  {
   "cell_type": "code",
   "execution_count": 84,
   "metadata": {},
   "outputs": [
    {
     "data": {
      "image/png": "[encoded data removed]",
      "text/plain": [
       "<matplotlib.figure.Figure at 0xc5ea324cf8>"
      ]
     },
     "metadata": {},
     "output_type": "display_data"
    }
   ],
   "source": [
    "error = [(1-i)*100 for i in grid.cv_results_['mean_test_score']]\n",
    "plt.plot(lam, error)\n",
    "plt.title('Error plot')\n",
    "plt.xlabel('lambda value')\n",
    "plt.ylabel('Test_Error')\n",
    "plt.show()"
   ]
  },
  {
   "cell_type": "markdown",
   "metadata": {},
   "source": [
    "** Using L2 Reg **"
   ]
  },
  {
   "cell_type": "code",
   "execution_count": 85,
   "metadata": {},
   "outputs": [
    {
     "name": "stdout",
     "output_type": "stream",
     "text": [
      "\n",
      "Accuracy=85.644000%\n",
      "\n",
      "precision=90.144177%\n",
      "\n",
      "recall=93.599370%\n",
      "\n",
      "F1-Score=91.839287%\n"
     ]
    }
   ],
   "source": [
    "clf = LogisticRegression(C = optimal_a1,class_weight = 'balanced')\n",
    "\n",
    "clf.fit(avg_X_train,y_train)\n",
    "\n",
    "pred = clf.predict(avg_X_test)\n",
    "\n",
    "acc1 = accuracy_score(y_test, pred) * 100\n",
    "pre1 = precision_score(y_test, pred) * 100\n",
    "rec1 = recall_score(y_test, pred) * 100\n",
    "f11 = f1_score(y_test, pred) * 100\n",
    "\n",
    "print('\\nAccuracy=%f%%' % (acc1))\n",
    "print('\\nprecision=%f%%' % (pre1))\n",
    "print('\\nrecall=%f%%' % (rec1))\n",
    "print('\\nF1-Score=%f%%' % (f11))"
   ]
  },
  {
   "cell_type": "code",
   "execution_count": 86,
   "metadata": {},
   "outputs": [
    {
     "data": {
      "image/png": "[encoded data removed]",
      "text/plain": [
       "<matplotlib.figure.Figure at 0xc6335f17f0>"
      ]
     },
     "metadata": {},
     "output_type": "display_data"
    }
   ],
   "source": [
    "cm = confusion_matrix(y_test,pred)\n",
    "sns.heatmap(cm, annot=True,fmt='d')\n",
    "plt.title('Confusion Matrix')\n",
    "plt.show()"
   ]
  },
  {
   "cell_type": "markdown",
   "metadata": {},
   "source": [
    "** Using L1 Reg **"
   ]
  },
  {
   "cell_type": "code",
   "execution_count": 87,
   "metadata": {},
   "outputs": [
    {
     "name": "stdout",
     "output_type": "stream",
     "text": [
      "\n",
      "Accuracy=85.560000%\n",
      "\n",
      "precision=90.124174%\n",
      "\n",
      "recall=93.515944%\n",
      "\n",
      "F1-Score=91.788736%\n"
     ]
    }
   ],
   "source": [
    "clf = LogisticRegression(C = optimal_a1,penalty='l1',class_weight = 'balanced')\n",
    "\n",
    "clf.fit(avg_X_train,y_train)\n",
    "\n",
    "pred = clf.predict(avg_X_test)\n",
    "\n",
    "acc2 = accuracy_score(y_test, pred) * 100\n",
    "pre2 = precision_score(y_test, pred) * 100\n",
    "rec2 = recall_score(y_test, pred) * 100\n",
    "f12 = f1_score(y_test, pred) * 100\n",
    "\n",
    "print('\\nAccuracy=%f%%' % (acc2))\n",
    "print('\\nprecision=%f%%' % (pre2))\n",
    "print('\\nrecall=%f%%' % (rec2))\n",
    "print('\\nF1-Score=%f%%' % (f12))"
   ]
  },
  {
   "cell_type": "code",
   "execution_count": 88,
   "metadata": {},
   "outputs": [
    {
     "data": {
      "image/png": "[encoded data removed]",
      "text/plain": [
       "<matplotlib.figure.Figure at 0xc6360f5470>"
      ]
     },
     "metadata": {},
     "output_type": "display_data"
    }
   ],
   "source": [
    "cm = confusion_matrix(y_test,pred)\n",
    "sns.heatmap(cm, annot=True,fmt='d')\n",
    "plt.title('Confusion Matrix')\n",
    "plt.show()"
   ]
  },
  {
   "cell_type": "code",
   "execution_count": 89,
   "metadata": {},
   "outputs": [
    {
     "name": "stdout",
     "output_type": "stream",
     "text": [
      "+------+-------------+----+-------------+---------------+--------------+-----------+-------------+\n",
      "|  CV  | Regularizer | C  | Test_Acc(%) | Test_Error(%) | Precision(%) | Recall(%) | F1-Score(%) |\n",
      "+------+-------------+----+-------------+---------------+--------------+-----------+-------------+\n",
      "| Grid |      L2     | 10 |    85.64    |     14.36     |    90.14     |    93.6   |    91.84    |\n",
      "| Grid |      L1     | 10 |    85.56    |     14.44     |    90.12     |   93.52   |    91.79    |\n",
      "+------+-------------+----+-------------+---------------+--------------+-----------+-------------+\n"
     ]
    }
   ],
   "source": [
    "x = PrettyTable()\n",
    "\n",
    "reg1 = 'L2'\n",
    "reg2 = 'L1'\n",
    "cv = 'Grid'\n",
    "x.field_names = [\"CV\",\"Regularizer\",\"C\",\"Test_Acc(%)\",\"Test_Error(%)\",\"Precision(%)\",\"Recall(%)\",\"F1-Score(%)\"]\n",
    "\n",
    "acc1 = np.around(acc1, decimals = 2)\n",
    "err1 = np.around(100-acc1, decimals = 2) \n",
    "pre1 = np.around(pre1, decimals = 2)\n",
    "rec1 = np.around(rec1, decimals = 2)\n",
    "f11 = np.around(f11, decimals = 2)\n",
    "\n",
    "acc2 = np.around(acc2, decimals = 2)\n",
    "err2 = np.around(100-acc2, decimals = 2) \n",
    "pre2 = np.around(pre2, decimals = 2)\n",
    "rec2 = np.around(rec2, decimals = 2)\n",
    "f12 = np.around(f12, decimals = 2)\n",
    "\n",
    "x.add_row([cv,reg1,optimal_a1,acc1,err1,pre1,rec1,f11])\n",
    "x.add_row([cv,reg2,optimal_a1,acc2,err2,pre2,rec2,f12])\n",
    "\n",
    "print(x)"
   ]
  },
  {
   "cell_type": "markdown",
   "metadata": {},
   "source": [
    "** RandomSearchCV **"
   ]
  },
  {
   "cell_type": "code",
   "execution_count": 90,
   "metadata": {},
   "outputs": [
    {
     "name": "stdout",
     "output_type": "stream",
     "text": [
      "best C =  {'C': 0.493586334683907}\n",
      "Accuracy on train data =  91.35600000000001\n"
     ]
    }
   ],
   "source": [
    "clf = LogisticRegression()\n",
    "param_grid = { 'C':uniform()}\n",
    "grid = RandomizedSearchCV(estimator = clf,param_distributions=param_grid ,cv = 5,n_jobs = 3)\n",
    "grid.fit(avg_X_train, y_train)\n",
    "print(\"best C = \", grid.best_params_)\n",
    "print(\"Accuracy on train data = \", grid.best_score_*100)\n",
    "a = grid.best_params_\n",
    "optimal_a1 = a.get('C')"
   ]
  },
  {
   "cell_type": "code",
   "execution_count": 91,
   "metadata": {},
   "outputs": [
    {
     "data": {
      "image/png": "[encoded data removed]",
      "text/plain": [
       "<matplotlib.figure.Figure at 0xc6334053c8>"
      ]
     },
     "metadata": {},
     "output_type": "display_data"
    }
   ],
   "source": [
    "lam =[]\n",
    "for i in range(10):\n",
    "    lam.append(grid.cv_results_['params'][i]['C'])\n",
    "ind = np.argsort(lam)\n",
    "error = [(1-i)*100 for i in grid.cv_results_['mean_test_score']]\n",
    "l_values=[]\n",
    "err=[]\n",
    "for i in ind:\n",
    "    l_values.append(lam[i])\n",
    "    err.append(error[i])\n",
    "plt.plot(l_values, err)\n",
    "plt.title('Error plot')\n",
    "plt.xlabel('lambda value')\n",
    "plt.ylabel('Test_Error')\n",
    "plt.show()"
   ]
  },
  {
   "cell_type": "markdown",
   "metadata": {},
   "source": [
    "** Using L2 **"
   ]
  },
  {
   "cell_type": "code",
   "execution_count": 92,
   "metadata": {},
   "outputs": [
    {
     "name": "stdout",
     "output_type": "stream",
     "text": [
      "\n",
      "Accuracy=86.336000%\n",
      "\n",
      "precision=90.967334%\n",
      "\n",
      "recall=93.446422%\n",
      "\n",
      "F1-Score=92.190215%\n"
     ]
    }
   ],
   "source": [
    "clf = LogisticRegression(C = optimal_a1,class_weight = 'balanced')\n",
    "\n",
    "clf.fit(avg_X_train,y_train)\n",
    "\n",
    "pred = clf.predict(avg_X_test)\n",
    "\n",
    "acc1 = accuracy_score(y_test, pred) * 100\n",
    "pre1 = precision_score(y_test, pred) * 100\n",
    "rec1 = recall_score(y_test, pred) * 100\n",
    "f11 = f1_score(y_test, pred) * 100\n",
    "\n",
    "print('\\nAccuracy=%f%%' % (acc1))\n",
    "print('\\nprecision=%f%%' % (pre1))\n",
    "print('\\nrecall=%f%%' % (rec1))\n",
    "print('\\nF1-Score=%f%%' % (f11))"
   ]
  },
  {
   "cell_type": "code",
   "execution_count": 93,
   "metadata": {},
   "outputs": [
    {
     "data": {
      "image/png": "[encoded data removed]",
      "text/plain": [
       "<matplotlib.figure.Figure at 0xc6330f4b38>"
      ]
     },
     "metadata": {},
     "output_type": "display_data"
    }
   ],
   "source": [
    "cm = confusion_matrix(y_test,pred)\n",
    "sns.heatmap(cm, annot=True,fmt='d')\n",
    "plt.title('Confusion Matrix')\n",
    "plt.show()"
   ]
  },
  {
   "cell_type": "markdown",
   "metadata": {},
   "source": [
    "** Using L1 **"
   ]
  },
  {
   "cell_type": "code",
   "execution_count": 94,
   "metadata": {},
   "outputs": [
    {
     "name": "stdout",
     "output_type": "stream",
     "text": [
      "\n",
      "Accuracy=86.600000%\n",
      "\n",
      "precision=90.516628%\n",
      "\n",
      "recall=94.359473%\n",
      "\n",
      "F1-Score=92.398112%\n"
     ]
    }
   ],
   "source": [
    "clf = LogisticRegression(C = optimal_a1,penalty='l1',class_weight = 'balanced')\n",
    "\n",
    "clf.fit(avg_X_train,y_train)\n",
    "\n",
    "pred = clf.predict(avg_X_test)\n",
    "\n",
    "acc2 = accuracy_score(y_test, pred) * 100\n",
    "pre2 = precision_score(y_test, pred) * 100\n",
    "rec2 = recall_score(y_test, pred) * 100\n",
    "f12 = f1_score(y_test, pred) * 100\n",
    "\n",
    "print('\\nAccuracy=%f%%' % (acc2))\n",
    "print('\\nprecision=%f%%' % (pre2))\n",
    "print('\\nrecall=%f%%' % (rec2))\n",
    "print('\\nF1-Score=%f%%' % (f12))"
   ]
  },
  {
   "cell_type": "code",
   "execution_count": 96,
   "metadata": {},
   "outputs": [
    {
     "data": {
      "image/png": "[encoded data removed]",
      "text/plain": [
       "<matplotlib.figure.Figure at 0xc634de1438>"
      ]
     },
     "metadata": {},
     "output_type": "display_data"
    }
   ],
   "source": [
    "cm = confusion_matrix(y_test,pred)\n",
    "sns.heatmap(cm, annot=True,fmt='d')\n",
    "plt.title('Confusion Matrix')\n",
    "plt.show()"
   ]
  },
  {
   "cell_type": "code",
   "execution_count": 97,
   "metadata": {},
   "outputs": [
    {
     "name": "stdout",
     "output_type": "stream",
     "text": [
      "+--------+-------------+-------------------+-------------+---------------+--------------+-----------+-------------+\n",
      "|   CV   | Regularizer |         C         | Test_Acc(%) | Test_Error(%) | Precision(%) | Recall(%) | F1-Score(%) |\n",
      "+--------+-------------+-------------------+-------------+---------------+--------------+-----------+-------------+\n",
      "| Random |      L2     | 0.493586334683907 |    86.34    |     13.66     |    90.97     |   93.45   |    92.19    |\n",
      "| Random |      L1     | 0.493586334683907 |     86.6    |      13.4     |    90.52     |   94.36   |     92.4    |\n",
      "+--------+-------------+-------------------+-------------+---------------+--------------+-----------+-------------+\n"
     ]
    }
   ],
   "source": [
    "x = PrettyTable()\n",
    "\n",
    "reg1 = 'L2'\n",
    "reg2 = 'L1'\n",
    "cv = 'Random'\n",
    "x.field_names = [\"CV\",\"Regularizer\",\"C\",\"Test_Acc(%)\",\"Test_Error(%)\",\"Precision(%)\",\"Recall(%)\",\"F1-Score(%)\"]\n",
    "\n",
    "acc1 = np.around(acc1, decimals = 2)\n",
    "err1 = np.around(100-acc1, decimals = 2) \n",
    "pre1 = np.around(pre1, decimals = 2)\n",
    "rec1 = np.around(rec1, decimals = 2)\n",
    "f11 = np.around(f11, decimals = 2)\n",
    "\n",
    "acc2 = np.around(acc2, decimals = 2)\n",
    "err2 = np.around(100-acc2, decimals = 2) \n",
    "pre2 = np.around(pre2, decimals = 2)\n",
    "rec2 = np.around(rec2, decimals = 2)\n",
    "f12 = np.around(f12, decimals = 2)\n",
    "\n",
    "x.add_row([cv,reg1,optimal_a1,acc1,err1,pre1,rec1,f11])\n",
    "x.add_row([cv,reg2,optimal_a1,acc2,err2,pre2,rec2,f12])\n",
    "\n",
    "print(x)"
   ]
  },
  {
   "cell_type": "code",
   "execution_count": 99,
   "metadata": {
    "collapsed": true
   },
   "outputs": [],
   "source": [
    "del avg_X_train\n",
    "del avg_X_test"
   ]
  },
  {
   "cell_type": "markdown",
   "metadata": {},
   "source": [
    "** TF-IDF Word2Vec **"
   ]
  },
  {
   "cell_type": "code",
   "execution_count": 100,
   "metadata": {
    "collapsed": true
   },
   "outputs": [],
   "source": [
    "tf_w_data = X_train\n",
    "tf_idf = TfidfVectorizer(max_features=2000)\n",
    "tf_idf_data = tf_idf.fit_transform(tf_w_data)\n",
    "tf_train_data = []\n",
    "tf_idf_data = tf_idf_data.toarray()\n",
    "i = 0\n",
    "splitted = []\n",
    "for row in tf_w_data: \n",
    "    splitted.append([word for word in row.split()])\n",
    "for row in splitted:\n",
    "    vec = [0 for i in range(150)]\n",
    "    \n",
    "    temp_tfidf = []\n",
    "    for val in tf_idf_data[i]:\n",
    "        if val != 0:\n",
    "            temp_tfidf.append(val)\n",
    "    \n",
    "    count = 0\n",
    "    tf_idf_sum = 0\n",
    "    for word in row:\n",
    "        try:\n",
    "            count += 1\n",
    "            tf_idf_sum = tf_idf_sum + temp_tfidf[count-1]\n",
    "            vec += (temp_tfidf[count-1] * train_w2v[word])\n",
    "        except:\n",
    "            pass\n",
    "    #print(vec)\n",
    "    try:\n",
    "        vec = (float)(1/tf_idf_sum) * vec\n",
    "    except:\n",
    "        pass\n",
    "    tf_train_data.append(vec)\n",
    "    i = i + 1\n",
    "    \n",
    "    \n",
    "    \n",
    "#====================================================================================\n",
    "\n",
    "tf_w_data = X_test\n",
    "tf_idf_data = tf_idf.transform(tf_w_data)\n",
    "tf_test_data = []\n",
    "tf_idf_data = tf_idf_data.toarray()\n",
    "i = 0\n",
    "splitted = []\n",
    "for row in tf_w_data: \n",
    "    splitted.append([word for word in row.split()])\n",
    "for row in splitted:\n",
    "    vec = [0 for i in range(150)]\n",
    "    \n",
    "    temp_tfidf = []\n",
    "    for val in tf_idf_data[i]:\n",
    "        if val != 0:\n",
    "            temp_tfidf.append(val)\n",
    "    \n",
    "    count = 0\n",
    "    tf_idf_sum = 0\n",
    "    for word in row:\n",
    "        try:\n",
    "            count += 1\n",
    "            tf_idf_sum = tf_idf_sum + temp_tfidf[count-1]\n",
    "            vec += (temp_tfidf[count-1] * train_w2v[word])\n",
    "        except:\n",
    "            pass\n",
    "    try:\n",
    "        vec = (float)(1/tf_idf_sum) * vec\n",
    "    except:\n",
    "        pass\n",
    "    tf_test_data.append(vec)\n",
    "    i = i + 1"
   ]
  },
  {
   "cell_type": "markdown",
   "metadata": {},
   "source": [
    "**GridSearchCV **"
   ]
  },
  {
   "cell_type": "code",
   "execution_count": 101,
   "metadata": {},
   "outputs": [
    {
     "name": "stdout",
     "output_type": "stream",
     "text": [
      "best C =  {'C': 10}\n",
      "Accuracy on train data =  77.29466666666667\n"
     ]
    }
   ],
   "source": [
    "lam = [0.001,0.01,0.1,1,10]\n",
    "clf = LogisticRegression(class_weight ='balanced')\n",
    "param_grid = {'C':lam}\n",
    "grid = GridSearchCV(estimator = clf,param_grid=param_grid ,cv = 5,n_jobs = 3)\n",
    "grid.fit(tf_train_data, y_train)\n",
    "print(\"best C = \", grid.best_params_)\n",
    "print(\"Accuracy on train data = \", grid.best_score_*100)\n",
    "a = grid.best_params_\n",
    "optimal_a1 = a.get('C')"
   ]
  },
  {
   "cell_type": "code",
   "execution_count": 102,
   "metadata": {},
   "outputs": [
    {
     "data": {
      "image/png": "[encoded data removed]",
      "text/plain": [
       "<matplotlib.figure.Figure at 0xc63515d550>"
      ]
     },
     "metadata": {},
     "output_type": "display_data"
    }
   ],
   "source": [
    "error = [(1-i)*100 for i in grid.cv_results_['mean_test_score']]\n",
    "plt.plot(lam, error)\n",
    "plt.title('Error plot')\n",
    "plt.xlabel('lambda value')\n",
    "plt.ylabel('Test_Error')\n",
    "plt.show()"
   ]
  },
  {
   "cell_type": "markdown",
   "metadata": {},
   "source": [
    "** Using L2 Reg **"
   ]
  },
  {
   "cell_type": "code",
   "execution_count": 103,
   "metadata": {},
   "outputs": [
    {
     "name": "stdout",
     "output_type": "stream",
     "text": [
      "\n",
      "Accuracy=76.744000%\n",
      "\n",
      "precision=96.506550%\n",
      "\n",
      "recall=75.797182%\n",
      "\n",
      "F1-Score=84.907326%\n"
     ]
    }
   ],
   "source": [
    "clf = LogisticRegression(C = optimal_a1,class_weight = 'balanced')\n",
    "\n",
    "clf.fit(tf_train_data,y_train)\n",
    "\n",
    "pred = clf.predict(tf_test_data)\n",
    "\n",
    "acc1 = accuracy_score(y_test, pred) * 100\n",
    "pre1 = precision_score(y_test, pred) * 100\n",
    "rec1 = recall_score(y_test, pred) * 100\n",
    "f11 = f1_score(y_test, pred) * 100\n",
    "\n",
    "print('\\nAccuracy=%f%%' % (acc1))\n",
    "print('\\nprecision=%f%%' % (pre1))\n",
    "print('\\nrecall=%f%%' % (rec1))\n",
    "print('\\nF1-Score=%f%%' % (f11))"
   ]
  },
  {
   "cell_type": "code",
   "execution_count": 104,
   "metadata": {},
   "outputs": [
    {
     "data": {
      "image/png": "[encoded data removed]",
      "text/plain": [
       "<matplotlib.figure.Figure at 0xc6361e7c88>"
      ]
     },
     "metadata": {},
     "output_type": "display_data"
    }
   ],
   "source": [
    "cm = confusion_matrix(y_test,pred)\n",
    "sns.heatmap(cm, annot=True,fmt='d')\n",
    "plt.title('Confusion Matrix')\n",
    "plt.show()"
   ]
  },
  {
   "cell_type": "markdown",
   "metadata": {},
   "source": [
    "** Using L1 Reg **"
   ]
  },
  {
   "cell_type": "code",
   "execution_count": 105,
   "metadata": {},
   "outputs": [
    {
     "name": "stdout",
     "output_type": "stream",
     "text": [
      "\n",
      "Accuracy=77.376000%\n",
      "\n",
      "precision=96.495327%\n",
      "\n",
      "recall=76.566555%\n",
      "\n",
      "F1-Score=85.383502%\n"
     ]
    }
   ],
   "source": [
    "clf = LogisticRegression(C = optimal_a1,penalty = 'l1',class_weight = 'balanced')\n",
    "\n",
    "clf.fit(tf_train_data,y_train)\n",
    "\n",
    "pred = clf.predict(tf_test_data)\n",
    "\n",
    "acc2 = accuracy_score(y_test, pred) * 100\n",
    "pre2 = precision_score(y_test, pred) * 100\n",
    "rec2 = recall_score(y_test, pred) * 100\n",
    "f12 = f1_score(y_test, pred) * 100\n",
    "\n",
    "print('\\nAccuracy=%f%%' % (acc2))\n",
    "print('\\nprecision=%f%%' % (pre2))\n",
    "print('\\nrecall=%f%%' % (rec2))\n",
    "print('\\nF1-Score=%f%%' % (f12))"
   ]
  },
  {
   "cell_type": "code",
   "execution_count": 106,
   "metadata": {},
   "outputs": [
    {
     "data": {
      "image/png": "[encoded data removed]",
      "text/plain": [
       "<matplotlib.figure.Figure at 0xc6341c4860>"
      ]
     },
     "metadata": {},
     "output_type": "display_data"
    }
   ],
   "source": [
    "cm = confusion_matrix(y_test,pred)\n",
    "sns.heatmap(cm, annot=True,fmt='d')\n",
    "plt.title('Confusion Matrix')\n",
    "plt.show()"
   ]
  },
  {
   "cell_type": "code",
   "execution_count": 107,
   "metadata": {},
   "outputs": [
    {
     "name": "stdout",
     "output_type": "stream",
     "text": [
      "+------+-------------+----+-------------+---------------+--------------+-----------+-------------+\n",
      "|  CV  | Regularizer | C  | Test_Acc(%) | Test_Error(%) | Precision(%) | Recall(%) | F1-Score(%) |\n",
      "+------+-------------+----+-------------+---------------+--------------+-----------+-------------+\n",
      "| Grid |      L2     | 10 |    76.74    |     23.26     |    96.51     |    75.8   |    84.91    |\n",
      "| Grid |      L1     | 10 |    77.38    |     22.62     |     96.5     |   76.57   |    85.38    |\n",
      "+------+-------------+----+-------------+---------------+--------------+-----------+-------------+\n"
     ]
    }
   ],
   "source": [
    "x = PrettyTable()\n",
    "\n",
    "reg1 = 'L2'\n",
    "reg2 = 'L1'\n",
    "cv = 'Grid'\n",
    "x.field_names = [\"CV\",\"Regularizer\",\"C\",\"Test_Acc(%)\",\"Test_Error(%)\",\"Precision(%)\",\"Recall(%)\",\"F1-Score(%)\"]\n",
    "\n",
    "acc1 = np.around(acc1, decimals = 2)\n",
    "err1 = np.around(100-acc1, decimals = 2) \n",
    "pre1 = np.around(pre1, decimals = 2)\n",
    "rec1 = np.around(rec1, decimals = 2)\n",
    "f11 = np.around(f11, decimals = 2)\n",
    "\n",
    "acc2 = np.around(acc2, decimals = 2)\n",
    "err2 = np.around(100-acc2, decimals = 2) \n",
    "pre2 = np.around(pre2, decimals = 2)\n",
    "rec2 = np.around(rec2, decimals = 2)\n",
    "f12 = np.around(f12, decimals = 2)\n",
    "\n",
    "x.add_row([cv,reg1,optimal_a1,acc1,err1,pre1,rec1,f11])\n",
    "x.add_row([cv,reg2,optimal_a1,acc2,err2,pre2,rec2,f12])\n",
    "\n",
    "print(x)"
   ]
  },
  {
   "cell_type": "markdown",
   "metadata": {},
   "source": [
    "** RandomSearchCV **"
   ]
  },
  {
   "cell_type": "code",
   "execution_count": 108,
   "metadata": {},
   "outputs": [
    {
     "name": "stdout",
     "output_type": "stream",
     "text": [
      "best C =  {'C': 0.7470521860621862}\n",
      "Accuracy on train data =  89.58133333333333\n"
     ]
    }
   ],
   "source": [
    "clf = LogisticRegression()\n",
    "param_grid = { 'C':uniform()}\n",
    "grid = RandomizedSearchCV(estimator = clf,param_distributions=param_grid ,cv = 5,n_jobs = 3)\n",
    "grid.fit(tf_train_data, y_train)\n",
    "print(\"best C = \", grid.best_params_)\n",
    "print(\"Accuracy on train data = \", grid.best_score_*100)\n",
    "a = grid.best_params_\n",
    "optimal_a1 = a.get('C')"
   ]
  },
  {
   "cell_type": "code",
   "execution_count": 109,
   "metadata": {},
   "outputs": [
    {
     "data": {
      "image/png": "[encoded data removed]",
      "text/plain": [
       "<matplotlib.figure.Figure at 0xc634010e10>"
      ]
     },
     "metadata": {},
     "output_type": "display_data"
    }
   ],
   "source": [
    "lam =[]\n",
    "for i in range(10):\n",
    "    lam.append(grid.cv_results_['params'][i]['C'])\n",
    "ind = np.argsort(lam)\n",
    "error = [(1-i)*100 for i in grid.cv_results_['mean_test_score']]\n",
    "l_values=[]\n",
    "err=[]\n",
    "for i in ind:\n",
    "    l_values.append(lam[i])\n",
    "    err.append(error[i])\n",
    "plt.plot(l_values, err)\n",
    "plt.title('Error plot')\n",
    "plt.xlabel('lambda value')\n",
    "plt.ylabel('Test_Error')\n",
    "plt.show()"
   ]
  },
  {
   "cell_type": "markdown",
   "metadata": {},
   "source": [
    "** Using L2 Reg **"
   ]
  },
  {
   "cell_type": "code",
   "execution_count": 110,
   "metadata": {},
   "outputs": [
    {
     "name": "stdout",
     "output_type": "stream",
     "text": [
      "\n",
      "Accuracy=75.868000%\n",
      "\n",
      "precision=96.338918%\n",
      "\n",
      "recall=74.884131%\n",
      "\n",
      "F1-Score=84.267348%\n"
     ]
    }
   ],
   "source": [
    "clf = LogisticRegression(C = optimal_a1,class_weight = 'balanced')\n",
    "\n",
    "clf.fit(tf_train_data,y_train)\n",
    "\n",
    "pred = clf.predict(tf_test_data)\n",
    "\n",
    "acc1 = accuracy_score(y_test, pred) * 100\n",
    "pre1 = precision_score(y_test, pred) * 100\n",
    "rec1 = recall_score(y_test, pred) * 100\n",
    "f11 = f1_score(y_test, pred) * 100\n",
    "\n",
    "print('\\nAccuracy=%f%%' % (acc1))\n",
    "print('\\nprecision=%f%%' % (pre1))\n",
    "print('\\nrecall=%f%%' % (rec1))\n",
    "print('\\nF1-Score=%f%%' % (f11))"
   ]
  },
  {
   "cell_type": "code",
   "execution_count": 111,
   "metadata": {},
   "outputs": [
    {
     "data": {
      "image/png": "[encoded data removed]",
      "text/plain": [
       "<matplotlib.figure.Figure at 0xc5ea827668>"
      ]
     },
     "metadata": {},
     "output_type": "display_data"
    }
   ],
   "source": [
    "cm = confusion_matrix(y_test,pred)\n",
    "sns.heatmap(cm, annot=True,fmt='d')\n",
    "plt.title('Confusion Matrix')\n",
    "plt.show()"
   ]
  },
  {
   "cell_type": "markdown",
   "metadata": {},
   "source": [
    "** Using L1 Reg **"
   ]
  },
  {
   "cell_type": "code",
   "execution_count": 112,
   "metadata": {},
   "outputs": [
    {
     "name": "stdout",
     "output_type": "stream",
     "text": [
      "\n",
      "Accuracy=76.460000%\n",
      "\n",
      "precision=96.425824%\n",
      "\n",
      "recall=75.523730%\n",
      "\n",
      "F1-Score=84.704353%\n"
     ]
    }
   ],
   "source": [
    "clf = LogisticRegression(C = optimal_a1,penalty = 'l1',class_weight = 'balanced')\n",
    "\n",
    "clf.fit(tf_train_data,y_train)\n",
    "\n",
    "pred = clf.predict(tf_test_data)\n",
    "\n",
    "acc2 = accuracy_score(y_test, pred) * 100\n",
    "pre2 = precision_score(y_test, pred) * 100\n",
    "rec2 = recall_score(y_test, pred) * 100\n",
    "f12 = f1_score(y_test, pred) * 100\n",
    "\n",
    "print('\\nAccuracy=%f%%' % (acc2))\n",
    "print('\\nprecision=%f%%' % (pre2))\n",
    "print('\\nrecall=%f%%' % (rec2))\n",
    "print('\\nF1-Score=%f%%' % (f12))"
   ]
  },
  {
   "cell_type": "code",
   "execution_count": 113,
   "metadata": {},
   "outputs": [
    {
     "data": {
      "image/png": "[encoded data removed]",
      "text/plain": [
       "<matplotlib.figure.Figure at 0xc63661b5c0>"
      ]
     },
     "metadata": {},
     "output_type": "display_data"
    }
   ],
   "source": [
    "cm = confusion_matrix(y_test,pred)\n",
    "sns.heatmap(cm, annot=True,fmt='d')\n",
    "plt.title('Confusion Matrix')\n",
    "plt.show()"
   ]
  },
  {
   "cell_type": "code",
   "execution_count": 115,
   "metadata": {},
   "outputs": [
    {
     "name": "stdout",
     "output_type": "stream",
     "text": [
      "+--------+-------------+--------------------+-------------+---------------+--------------+-----------+-------------+\n",
      "|   CV   | Regularizer |         C          | Test_Acc(%) | Test_Error(%) | Precision(%) | Recall(%) | F1-Score(%) |\n",
      "+--------+-------------+--------------------+-------------+---------------+--------------+-----------+-------------+\n",
      "| Random |      L2     | 0.7470521860621862 |    75.87    |     24.13     |    96.34     |   74.88   |    84.27    |\n",
      "| Random |      L1     | 0.7470521860621862 |    76.46    |     23.54     |    96.43     |   75.52   |     84.7    |\n",
      "+--------+-------------+--------------------+-------------+---------------+--------------+-----------+-------------+\n"
     ]
    }
   ],
   "source": [
    "x = PrettyTable()\n",
    "\n",
    "reg1 = 'L2'\n",
    "reg2 = 'L1'\n",
    "cv = 'Random'\n",
    "x.field_names = [\"CV\",\"Regularizer\",\"C\",\"Test_Acc(%)\",\"Test_Error(%)\",\"Precision(%)\",\"Recall(%)\",\"F1-Score(%)\"]\n",
    "\n",
    "acc1 = np.around(acc1, decimals = 2)\n",
    "err1 = np.around(100-acc1, decimals = 2) \n",
    "pre1 = np.around(pre1, decimals = 2)\n",
    "rec1 = np.around(rec1, decimals = 2)\n",
    "f11 = np.around(f11, decimals = 2)\n",
    "\n",
    "acc2 = np.around(acc2, decimals = 2)\n",
    "err2 = np.around(100-acc2, decimals = 2) \n",
    "pre2 = np.around(pre2, decimals = 2)\n",
    "rec2 = np.around(rec2, decimals = 2)\n",
    "f12 = np.around(f12, decimals = 2)\n",
    "\n",
    "x.add_row([cv,reg1,optimal_a1,acc1,err1,pre1,rec1,f11])\n",
    "x.add_row([cv,reg2,optimal_a1,acc2,err2,pre2,rec2,f12])\n",
    "\n",
    "print(x)"
   ]
  },
  {
   "cell_type": "markdown",
   "metadata": {},
   "source": [
    "## Summary And Observations ##"
   ]
  },
  {
   "cell_type": "markdown",
   "metadata": {},
   "source": [
    "* Considered 100k datapoints for running this model\n",
    "* Used Pretty table to show all the data in a table format so that user can understand whats going on with every model.\n",
    "* Done Perturbation test and found out that features are collinear.\n",
    "* Both BoW and TF-IDF models gave best accuracies compared to AVG W2V and TF-IDF W2V\n",
    "* Also Proved that as C value decreases sparsity also decreases.\n",
    "* Plotted Error plots, Heat maps for confusion matrix, Pretty tables for all models."
   ]
  }
 ],
 "metadata": {
  "kernelspec": {
   "display_name": "Python 3",
   "language": "python",
   "name": "python3"
  },
  "language_info": {
   "codemirror_mode": {
    "name": "ipython",
    "version": 3
   },
   "file_extension": ".py",
   "mimetype": "text/x-python",
   "name": "python",
   "nbconvert_exporter": "python",
   "pygments_lexer": "ipython3",
   "version": "3.6.3"
  }
 },
 "nbformat": 4,
 "nbformat_minor": 2
}

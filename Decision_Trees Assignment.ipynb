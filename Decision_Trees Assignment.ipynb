{
 "cells": [
  {
   "cell_type": "code",
   "execution_count": 1,
   "metadata": {
    "collapsed": true
   },
   "outputs": [],
   "source": [
    "import warnings\n",
    "warnings.filterwarnings(\"ignore\")\n",
    "\n",
    "import pandas as pd\n",
    "import numpy as np\n",
    "\n",
    "import nltk\n",
    "from nltk.corpus import stopwords\n",
    "from nltk.stem import PorterStemmer\n",
    "\n",
    "from sklearn.feature_extraction.text import CountVectorizer\n",
    "from sklearn.feature_extraction.text import TfidfVectorizer\n",
    "from gensim.models import Word2Vec\n",
    "\n",
    "from prettytable import PrettyTable\n",
    "import pickle\n",
    "import seaborn as sns\n",
    "import matplotlib.pyplot as plt\n",
    "\n",
    "\n",
    "from sklearn.tree import DecisionTreeClassifier\n",
    "\n",
    "from sklearn.metrics import accuracy_score\n",
    "from sklearn.metrics import precision_score\n",
    "from sklearn.metrics import f1_score\n",
    "from sklearn.metrics import recall_score\n",
    "from sklearn.metrics import confusion_matrix\n",
    "\n",
    "from sklearn.model_selection import GridSearchCV, RandomizedSearchCV\n",
    "from sklearn.preprocessing import StandardScaler"
   ]
  },
  {
   "cell_type": "code",
   "execution_count": 2,
   "metadata": {},
   "outputs": [],
   "source": [
    "df = pd.read_csv('Reviews.csv')\n",
    "data = df"
   ]
  },
  {
   "cell_type": "code",
   "execution_count": 3,
   "metadata": {},
   "outputs": [
    {
     "data": {
      "text/html": [
       "<div>\n",
       "<style>\n",
       "    .dataframe thead tr:only-child th {\n",
       "        text-align: right;\n",
       "    }\n",
       "\n",
       "    .dataframe thead th {\n",
       "        text-align: left;\n",
       "    }\n",
       "\n",
       "    .dataframe tbody tr th {\n",
       "        vertical-align: top;\n",
       "    }\n",
       "</style>\n",
       "<table border=\"1\" class=\"dataframe\">\n",
       "  <thead>\n",
       "    <tr style=\"text-align: right;\">\n",
       "      <th></th>\n",
       "      <th>Id</th>\n",
       "      <th>ProductId</th>\n",
       "      <th>UserId</th>\n",
       "      <th>ProfileName</th>\n",
       "      <th>HelpfulnessNumerator</th>\n",
       "      <th>HelpfulnessDenominator</th>\n",
       "      <th>Score</th>\n",
       "      <th>Time</th>\n",
       "      <th>Summary</th>\n",
       "      <th>Text</th>\n",
       "    </tr>\n",
       "  </thead>\n",
       "  <tbody>\n",
       "    <tr>\n",
       "      <th>0</th>\n",
       "      <td>1</td>\n",
       "      <td>B001E4KFG0</td>\n",
       "      <td>A3SGXH7AUHU8GW</td>\n",
       "      <td>delmartian</td>\n",
       "      <td>1</td>\n",
       "      <td>1</td>\n",
       "      <td>5</td>\n",
       "      <td>1303862400</td>\n",
       "      <td>Good Quality Dog Food</td>\n",
       "      <td>I have bought several of the Vitality canned d...</td>\n",
       "    </tr>\n",
       "    <tr>\n",
       "      <th>1</th>\n",
       "      <td>2</td>\n",
       "      <td>B00813GRG4</td>\n",
       "      <td>A1D87F6ZCVE5NK</td>\n",
       "      <td>dll pa</td>\n",
       "      <td>0</td>\n",
       "      <td>0</td>\n",
       "      <td>1</td>\n",
       "      <td>1346976000</td>\n",
       "      <td>Not as Advertised</td>\n",
       "      <td>Product arrived labeled as Jumbo Salted Peanut...</td>\n",
       "    </tr>\n",
       "    <tr>\n",
       "      <th>2</th>\n",
       "      <td>3</td>\n",
       "      <td>B000LQOCH0</td>\n",
       "      <td>ABXLMWJIXXAIN</td>\n",
       "      <td>Natalia Corres \"Natalia Corres\"</td>\n",
       "      <td>1</td>\n",
       "      <td>1</td>\n",
       "      <td>4</td>\n",
       "      <td>1219017600</td>\n",
       "      <td>\"Delight\" says it all</td>\n",
       "      <td>This is a confection that has been around a fe...</td>\n",
       "    </tr>\n",
       "    <tr>\n",
       "      <th>3</th>\n",
       "      <td>4</td>\n",
       "      <td>B000UA0QIQ</td>\n",
       "      <td>A395BORC6FGVXV</td>\n",
       "      <td>Karl</td>\n",
       "      <td>3</td>\n",
       "      <td>3</td>\n",
       "      <td>2</td>\n",
       "      <td>1307923200</td>\n",
       "      <td>Cough Medicine</td>\n",
       "      <td>If you are looking for the secret ingredient i...</td>\n",
       "    </tr>\n",
       "    <tr>\n",
       "      <th>4</th>\n",
       "      <td>5</td>\n",
       "      <td>B006K2ZZ7K</td>\n",
       "      <td>A1UQRSCLF8GW1T</td>\n",
       "      <td>Michael D. Bigham \"M. Wassir\"</td>\n",
       "      <td>0</td>\n",
       "      <td>0</td>\n",
       "      <td>5</td>\n",
       "      <td>1350777600</td>\n",
       "      <td>Great taffy</td>\n",
       "      <td>Great taffy at a great price.  There was a wid...</td>\n",
       "    </tr>\n",
       "  </tbody>\n",
       "</table>\n",
       "</div>"
      ],
      "text/plain": [
       "   Id   ProductId          UserId                      ProfileName  \\\n",
       "0   1  B001E4KFG0  A3SGXH7AUHU8GW                       delmartian   \n",
       "1   2  B00813GRG4  A1D87F6ZCVE5NK                           dll pa   \n",
       "2   3  B000LQOCH0   ABXLMWJIXXAIN  Natalia Corres \"Natalia Corres\"   \n",
       "3   4  B000UA0QIQ  A395BORC6FGVXV                             Karl   \n",
       "4   5  B006K2ZZ7K  A1UQRSCLF8GW1T    Michael D. Bigham \"M. Wassir\"   \n",
       "\n",
       "   HelpfulnessNumerator  HelpfulnessDenominator  Score        Time  \\\n",
       "0                     1                       1      5  1303862400   \n",
       "1                     0                       0      1  1346976000   \n",
       "2                     1                       1      4  1219017600   \n",
       "3                     3                       3      2  1307923200   \n",
       "4                     0                       0      5  1350777600   \n",
       "\n",
       "                 Summary                                               Text  \n",
       "0  Good Quality Dog Food  I have bought several of the Vitality canned d...  \n",
       "1      Not as Advertised  Product arrived labeled as Jumbo Salted Peanut...  \n",
       "2  \"Delight\" says it all  This is a confection that has been around a fe...  \n",
       "3         Cough Medicine  If you are looking for the secret ingredient i...  \n",
       "4            Great taffy  Great taffy at a great price.  There was a wid...  "
      ]
     },
     "execution_count": 3,
     "metadata": {},
     "output_type": "execute_result"
    }
   ],
   "source": [
    "data.head()"
   ]
  },
  {
   "cell_type": "code",
   "execution_count": 4,
   "metadata": {
    "collapsed": true
   },
   "outputs": [],
   "source": [
    "#Removing Neural reviews\n",
    "data_s = data[data['Score']!=3]\n",
    "\n",
    "#Updating Score to 0 or 1\n",
    "def partition(x):\n",
    "    if x<3:\n",
    "        return 0\n",
    "    return 1\n",
    "\n",
    "score_upd = data_s['Score']\n",
    "temp = score_upd.map(partition)\n",
    "data_s['Score'] = temp"
   ]
  },
  {
   "cell_type": "code",
   "execution_count": 5,
   "metadata": {},
   "outputs": [],
   "source": [
    "final_data = data_s.drop_duplicates(subset=('UserId','ProfileName','Time','Text'))\n",
    "final = final_data[final_data['HelpfulnessNumerator']<=final_data['HelpfulnessDenominator']]"
   ]
  },
  {
   "cell_type": "code",
   "execution_count": 6,
   "metadata": {
    "collapsed": true
   },
   "outputs": [],
   "source": [
    "final = final.sort_values(['Time'], axis=0)   #TIme based sorting\n",
    "final = final.head(100000)\n",
    "final_X = final['Text']\n",
    "final_y = final['Score']"
   ]
  },
  {
   "cell_type": "code",
   "execution_count": 7,
   "metadata": {},
   "outputs": [
    {
     "name": "stdout",
     "output_type": "stream",
     "text": [
      "100.00 %\r"
     ]
    }
   ],
   "source": [
    "import re\n",
    "temp_1 =[]\n",
    "snow = nltk.stem.SnowballStemmer('english')\n",
    "i = 0\n",
    "N = len(final_X)\n",
    "for sentence in final_X:\n",
    "    sentence = sentence.lower()\n",
    "    cleanr = re.compile('<.*?>')\n",
    "    sentence = re.sub(cleanr, ' ', sentence)        #Removing HTML tags\n",
    "    sentence = re.sub(r'[?|!|\\'|\"|#]',r'',sentence)\n",
    "    sentence = re.sub(r'[.|,|)|(|\\|/]',r' ',sentence)        #Removing Punctuations\n",
    "    \n",
    "    words = [snow.stem(word) for word in sentence.split() if word not in stopwords.words('english')]        #Splitting the words\n",
    "    temp_1.append(words)                                                                            # and doing stemming\n",
    "    print(\"{0:.2f} %\".format((i/N)*100),end ='\\r')\n",
    "    i = i+1\n",
    "    \n",
    "final_X = temp_1 "
   ]
  },
  {
   "cell_type": "code",
   "execution_count": 8,
   "metadata": {
    "collapsed": true
   },
   "outputs": [],
   "source": [
    "sent = []\n",
    "for row in final_X:\n",
    "    seq = ''\n",
    "    for word in row:\n",
    "        seq = seq + ' ' + word\n",
    "    sent.append(seq)\n",
    "\n",
    "final_X = sent"
   ]
  },
  {
   "cell_type": "code",
   "execution_count": 9,
   "metadata": {},
   "outputs": [
    {
     "data": {
      "text/plain": [
       "1    87729\n",
       "0    12271\n",
       "Name: Score, dtype: int64"
      ]
     },
     "execution_count": 9,
     "metadata": {},
     "output_type": "execute_result"
    }
   ],
   "source": [
    "final_y.value_counts()"
   ]
  },
  {
   "cell_type": "code",
   "execution_count": 10,
   "metadata": {
    "collapsed": true
   },
   "outputs": [],
   "source": [
    "X_train = final_X[:70000]\n",
    "X_test = final_X[70000:]\n",
    "y_train = final_y[:70000]\n",
    "y_test = final_y[70000:]"
   ]
  },
  {
   "cell_type": "markdown",
   "metadata": {},
   "source": [
    "** BOW vectorizer **"
   ]
  },
  {
   "cell_type": "code",
   "execution_count": 226,
   "metadata": {
    "collapsed": true
   },
   "outputs": [],
   "source": [
    "# Bag of Words\n",
    "\n",
    "count_vect = CountVectorizer(max_features = 2000)\n",
    "bow_X_train = count_vect.fit_transform(X_train)\n",
    "bow_X_test = count_vect.transform(X_test)"
   ]
  },
  {
   "cell_type": "markdown",
   "metadata": {},
   "source": [
    "** GRIDSEARCHCV **"
   ]
  },
  {
   "cell_type": "code",
   "execution_count": 227,
   "metadata": {},
   "outputs": [
    {
     "name": "stdout",
     "output_type": "stream",
     "text": [
      "best depth =  {'max_depth': 56}\n",
      "Accuracy on train data =  82.52000000000001\n"
     ]
    }
   ],
   "source": [
    "depth = [i for i in range(20,60,4)]\n",
    "clf = DecisionTreeClassifier(class_weight ='balanced')\n",
    "param_grid = {'max_depth':depth}\n",
    "grid = GridSearchCV(estimator = clf,param_grid=param_grid ,cv = 3,n_jobs = 3)\n",
    "grid.fit(bow_X_train, y_train)\n",
    "print(\"best depth = \", grid.best_params_)\n",
    "print(\"Accuracy on train data = \", grid.best_score_*100)\n",
    "a = grid.best_params_"
   ]
  },
  {
   "cell_type": "code",
   "execution_count": 228,
   "metadata": {},
   "outputs": [
    {
     "data": {
      "image/png": "[encoded data removed]",
      "text/plain": [
       "<matplotlib.figure.Figure at 0x4d997fb128>"
      ]
     },
     "metadata": {},
     "output_type": "display_data"
    }
   ],
   "source": [
    "error = [(1-i)*100 for i in grid.cv_results_['mean_test_score']]\n",
    "plt.plot(depth, error)\n",
    "plt.title('Error plot for BoW')\n",
    "plt.xlabel('Depth of Tree')\n",
    "plt.ylabel('Test_Error')\n",
    "plt.show()"
   ]
  },
  {
   "cell_type": "code",
   "execution_count": 229,
   "metadata": {},
   "outputs": [
    {
     "name": "stdout",
     "output_type": "stream",
     "text": [
      "56\n"
     ]
    }
   ],
   "source": [
    "optimal_depth = a.get('max_depth')\n",
    "print(optimal_depth)"
   ]
  },
  {
   "cell_type": "code",
   "execution_count": 230,
   "metadata": {},
   "outputs": [
    {
     "name": "stdout",
     "output_type": "stream",
     "text": [
      "\n",
      "Accuracy=82.136667%\n",
      "\n",
      "precision=92.607036%\n",
      "\n",
      "recall=86.188656%\n",
      "\n",
      "F1-Score=89.282643%\n"
     ]
    }
   ],
   "source": [
    "clf = DecisionTreeClassifier(max_depth = optimal_depth,class_weight = 'balanced')\n",
    "\n",
    "clf.fit(bow_X_train,y_train)\n",
    "\n",
    "pred = clf.predict(bow_X_test)\n",
    "\n",
    "acc1 = accuracy_score(y_test, pred) * 100\n",
    "pre1 = precision_score(y_test, pred) * 100\n",
    "rec1 = recall_score(y_test, pred) * 100\n",
    "f11 = f1_score(y_test, pred) * 100\n",
    "\n",
    "print('\\nAccuracy=%f%%' % (acc1))\n",
    "print('\\nprecision=%f%%' % (pre1))\n",
    "print('\\nrecall=%f%%' % (rec1))\n",
    "print('\\nF1-Score=%f%%' % (f11))"
   ]
  },
  {
   "cell_type": "code",
   "execution_count": 231,
   "metadata": {},
   "outputs": [
    {
     "data": {
      "image/png": "[encoded data removed]",
      "text/plain": [
       "<matplotlib.figure.Figure at 0x4d99d55550>"
      ]
     },
     "metadata": {},
     "output_type": "display_data"
    }
   ],
   "source": [
    "cm = confusion_matrix(y_test,pred)\n",
    "sns.heatmap(cm, annot=True,fmt='d')\n",
    "plt.title('Confusion Matrix for BoW')\n",
    "plt.show()"
   ]
  },
  {
   "cell_type": "code",
   "execution_count": 232,
   "metadata": {},
   "outputs": [],
   "source": [
    "negative_log = np.array(list(map(abs,clf.feature_importances_))).argsort()[0:10]\n",
    "positive_log = np.array(list(map(abs,clf.feature_importances_))).argsort()[1990:2000]"
   ]
  },
  {
   "cell_type": "code",
   "execution_count": 233,
   "metadata": {},
   "outputs": [],
   "source": [
    "neg={}\n",
    "pos={}\n",
    "for index in negative_log:\n",
    "    for i in count_vect.vocabulary_:\n",
    "        if count_vect.vocabulary_[i] == index:\n",
    "            neg[i]=clf.feature_importances_[index]\n",
    "            \n",
    "for index in positive_log:\n",
    "    for i in count_vect.vocabulary_:\n",
    "        if count_vect.vocabulary_[i] == index:\n",
    "            pos[i]=clf.feature_importances_[index]"
   ]
  },
  {
   "cell_type": "code",
   "execution_count": 234,
   "metadata": {},
   "outputs": [
    {
     "data": {
      "text/plain": [
       "{'bad': 0.015984613447138377,\n",
       " 'best': 0.0392048370812338,\n",
       " 'delici': 0.025187115591155985,\n",
       " 'disappoint': 0.03317057942526244,\n",
       " 'excel': 0.014888644888979464,\n",
       " 'good': 0.015447898194900361,\n",
       " 'great': 0.0639857476486451,\n",
       " 'love': 0.031907262676051894,\n",
       " 'perfect': 0.015186006551740567,\n",
       " 'tast': 0.012717093171152868}"
      ]
     },
     "execution_count": 234,
     "metadata": {},
     "output_type": "execute_result"
    }
   ],
   "source": [
    "pos"
   ]
  },
  {
   "cell_type": "code",
   "execution_count": 235,
   "metadata": {},
   "outputs": [
    {
     "name": "stdout",
     "output_type": "stream",
     "text": [
      "Negative Words Are=\n"
     ]
    },
    {
     "data": {
      "text/plain": [
       "{'fact': 0.0,\n",
       " 'freezer': 0.0,\n",
       " 'french': 0.0,\n",
       " 'frequent': 0.0,\n",
       " 'fri': 0.0,\n",
       " 'front': 0.0,\n",
       " 'frost': 0.0,\n",
       " 'frozen': 0.0,\n",
       " 'relax': 0.0,\n",
       " 'remain': 0.0}"
      ]
     },
     "execution_count": 235,
     "metadata": {},
     "output_type": "execute_result"
    }
   ],
   "source": [
    "print(\"Negative Words Are=\")\n",
    "neg"
   ]
  },
  {
   "cell_type": "code",
   "execution_count": 236,
   "metadata": {
    "collapsed": true
   },
   "outputs": [],
   "source": [
    "import graphviz\n",
    "from sklearn import tree"
   ]
  },
  {
   "cell_type": "code",
   "execution_count": 237,
   "metadata": {},
   "outputs": [],
   "source": [
    "voc = count_vect.vocabulary_\n",
    "\n",
    "ind=list(voc.values())\n",
    "indexes = np.array(ind).argsort()\n",
    "\n",
    "words=list(voc.keys())\n",
    "sorted_words=[]\n",
    "for i in indexes:\n",
    "    sorted_words.append(words[i])"
   ]
  },
  {
   "cell_type": "code",
   "execution_count": 238,
   "metadata": {},
   "outputs": [
    {
     "data": {
      "image/svg+xml": [
       "<?xml version=\"1.0\" encoding=\"UTF-8\" standalone=\"no\"?>\r\n",
       "<!DOCTYPE svg PUBLIC \"-//W3C//DTD SVG 1.1//EN\"\r\n",
       " \"http://www.w3.org/Graphics/SVG/1.1/DTD/svg11.dtd\">\r\n",
       "<!-- Generated by graphviz version 2.38.0 (20140413.2041)\r\n",
       " -->\r\n",
       "<!-- Title: Tree Pages: 1 -->\r\n",
       "<svg width=\"862pt\" height=\"356pt\"\r\n",
       " viewBox=\"0.00 0.00 861.50 356.00\" xmlns=\"http://www.w3.org/2000/svg\" xmlns:xlink=\"http://www.w3.org/1999/xlink\">\r\n",
       "<g id=\"graph0\" class=\"graph\" transform=\"scale(1 1) rotate(0) translate(4 352)\">\r\n",
       "<title>Tree</title>\r\n",
       "<polygon fill=\"white\" stroke=\"none\" points=\"-4,4 -4,-352 857.5,-352 857.5,4 -4,4\"/>\r\n",
       "<!-- 0 -->\r\n",
       "<g id=\"node1\" class=\"node\"><title>0</title>\r\n",
       "<path fill=\"none\" stroke=\"black\" d=\"M526.5,-348C526.5,-348 363.5,-348 363.5,-348 357.5,-348 351.5,-342 351.5,-336 351.5,-336 351.5,-292 351.5,-292 351.5,-286 357.5,-280 363.5,-280 363.5,-280 526.5,-280 526.5,-280 532.5,-280 538.5,-286 538.5,-292 538.5,-292 538.5,-336 538.5,-336 538.5,-342 532.5,-348 526.5,-348\"/>\r\n",
       "<text text-anchor=\"start\" x=\"411\" y=\"-332.8\" font-family=\"Helvetica,sans-Serif\" font-size=\"14.00\">great ≤ 0.5</text>\r\n",
       "<text text-anchor=\"start\" x=\"416\" y=\"-317.8\" font-family=\"Helvetica,sans-Serif\" font-size=\"14.00\">gini = 0.5</text>\r\n",
       "<text text-anchor=\"start\" x=\"389\" y=\"-302.8\" font-family=\"Helvetica,sans-Serif\" font-size=\"14.00\">samples = 70000</text>\r\n",
       "<text text-anchor=\"start\" x=\"359.5\" y=\"-287.8\" font-family=\"Helvetica,sans-Serif\" font-size=\"14.00\">value = [35000.0, 35000.0]</text>\r\n",
       "</g>\r\n",
       "<!-- 1 -->\r\n",
       "<g id=\"node2\" class=\"node\"><title>1</title>\r\n",
       "<path fill=\"#e58139\" fill-opacity=\"0.200000\" stroke=\"black\" d=\"M428,-244C428,-244 232,-244 232,-244 226,-244 220,-238 220,-232 220,-232 220,-188 220,-188 220,-182 226,-176 232,-176 232,-176 428,-176 428,-176 434,-176 440,-182 440,-188 440,-188 440,-232 440,-232 440,-238 434,-244 428,-244\"/>\r\n",
       "<text text-anchor=\"start\" x=\"298\" y=\"-228.8\" font-family=\"Helvetica,sans-Serif\" font-size=\"14.00\">best ≤ 0.5</text>\r\n",
       "<text text-anchor=\"start\" x=\"292.5\" y=\"-213.8\" font-family=\"Helvetica,sans-Serif\" font-size=\"14.00\">gini = 0.494</text>\r\n",
       "<text text-anchor=\"start\" x=\"274\" y=\"-198.8\" font-family=\"Helvetica,sans-Serif\" font-size=\"14.00\">samples = 52056</text>\r\n",
       "<text text-anchor=\"start\" x=\"228\" y=\"-183.8\" font-family=\"Helvetica,sans-Serif\" font-size=\"14.00\">value = [31662.791, 25283.438]</text>\r\n",
       "</g>\r\n",
       "<!-- 0&#45;&gt;1 -->\r\n",
       "<g id=\"edge1\" class=\"edge\"><title>0&#45;&gt;1</title>\r\n",
       "<path fill=\"none\" stroke=\"black\" d=\"M407.663,-279.884C397.319,-270.709 385.978,-260.65 375.236,-251.123\"/>\r\n",
       "<polygon fill=\"black\" stroke=\"black\" points=\"377.347,-248.317 367.543,-244.299 372.702,-253.553 377.347,-248.317\"/>\r\n",
       "<text text-anchor=\"middle\" x=\"369.038\" y=\"-265.555\" font-family=\"Helvetica,sans-Serif\" font-size=\"14.00\">True</text>\r\n",
       "</g>\r\n",
       "<!-- 7542 -->\r\n",
       "<g id=\"node9\" class=\"node\"><title>7542</title>\r\n",
       "<path fill=\"#399de5\" fill-opacity=\"0.654902\" stroke=\"black\" d=\"M649.5,-244C649.5,-244 470.5,-244 470.5,-244 464.5,-244 458.5,-238 458.5,-232 458.5,-232 458.5,-188 458.5,-188 458.5,-182 464.5,-176 470.5,-176 470.5,-176 649.5,-176 649.5,-176 655.5,-176 661.5,-182 661.5,-188 661.5,-188 661.5,-232 661.5,-232 661.5,-238 655.5,-244 649.5,-244\"/>\r\n",
       "<text text-anchor=\"start\" x=\"509.5\" y=\"-228.8\" font-family=\"Helvetica,sans-Serif\" font-size=\"14.00\">disappoint ≤ 0.5</text>\r\n",
       "<text text-anchor=\"start\" x=\"522.5\" y=\"-213.8\" font-family=\"Helvetica,sans-Serif\" font-size=\"14.00\">gini = 0.381</text>\r\n",
       "<text text-anchor=\"start\" x=\"504\" y=\"-198.8\" font-family=\"Helvetica,sans-Serif\" font-size=\"14.00\">samples = 17944</text>\r\n",
       "<text text-anchor=\"start\" x=\"466.5\" y=\"-183.8\" font-family=\"Helvetica,sans-Serif\" font-size=\"14.00\">value = [3337.209, 9716.562]</text>\r\n",
       "</g>\r\n",
       "<!-- 0&#45;&gt;7542 -->\r\n",
       "<g id=\"edge8\" class=\"edge\"><title>0&#45;&gt;7542</title>\r\n",
       "<path fill=\"none\" stroke=\"black\" d=\"M482.337,-279.884C492.681,-270.709 504.022,-260.65 514.764,-251.123\"/>\r\n",
       "<polygon fill=\"black\" stroke=\"black\" points=\"517.298,-253.553 522.457,-244.299 512.653,-248.317 517.298,-253.553\"/>\r\n",
       "<text text-anchor=\"middle\" x=\"520.962\" y=\"-265.555\" font-family=\"Helvetica,sans-Serif\" font-size=\"14.00\">False</text>\r\n",
       "</g>\r\n",
       "<!-- 2 -->\r\n",
       "<g id=\"node3\" class=\"node\"><title>2</title>\r\n",
       "<path fill=\"#e58139\" fill-opacity=\"0.301961\" stroke=\"black\" d=\"M208,-140C208,-140 12,-140 12,-140 6,-140 0,-134 0,-128 0,-128 0,-84 0,-84 0,-78 6,-72 12,-72 12,-72 208,-72 208,-72 214,-72 220,-78 220,-84 220,-84 220,-128 220,-128 220,-134 214,-140 208,-140\"/>\r\n",
       "<text text-anchor=\"start\" x=\"79\" y=\"-124.8\" font-family=\"Helvetica,sans-Serif\" font-size=\"14.00\">love ≤ 0.5</text>\r\n",
       "<text text-anchor=\"start\" x=\"72.5\" y=\"-109.8\" font-family=\"Helvetica,sans-Serif\" font-size=\"14.00\">gini = 0.484</text>\r\n",
       "<text text-anchor=\"start\" x=\"54\" y=\"-94.8\" font-family=\"Helvetica,sans-Serif\" font-size=\"14.00\">samples = 44597</text>\r\n",
       "<text text-anchor=\"start\" x=\"8\" y=\"-79.8\" font-family=\"Helvetica,sans-Serif\" font-size=\"14.00\">value = [30356.181, 21233.786]</text>\r\n",
       "</g>\r\n",
       "<!-- 1&#45;&gt;2 -->\r\n",
       "<g id=\"edge2\" class=\"edge\"><title>1&#45;&gt;2</title>\r\n",
       "<path fill=\"none\" stroke=\"black\" d=\"M258.572,-175.884C236.849,-165.812 212.827,-154.674 190.545,-144.344\"/>\r\n",
       "<polygon fill=\"black\" stroke=\"black\" points=\"191.99,-141.156 181.446,-140.125 189.046,-147.506 191.99,-141.156\"/>\r\n",
       "</g>\r\n",
       "<!-- 6857 -->\r\n",
       "<g id=\"node6\" class=\"node\"><title>6857</title>\r\n",
       "<path fill=\"#399de5\" fill-opacity=\"0.678431\" stroke=\"black\" d=\"M421.5,-140C421.5,-140 250.5,-140 250.5,-140 244.5,-140 238.5,-134 238.5,-128 238.5,-128 238.5,-84 238.5,-84 238.5,-78 244.5,-72 250.5,-72 250.5,-72 421.5,-72 421.5,-72 427.5,-72 433.5,-78 433.5,-84 433.5,-84 433.5,-128 433.5,-128 433.5,-134 427.5,-140 421.5,-140\"/>\r\n",
       "<text text-anchor=\"start\" x=\"299.5\" y=\"-124.8\" font-family=\"Helvetica,sans-Serif\" font-size=\"14.00\">would ≤ 0.5</text>\r\n",
       "<text text-anchor=\"start\" x=\"298.5\" y=\"-109.8\" font-family=\"Helvetica,sans-Serif\" font-size=\"14.00\">gini = 0.369</text>\r\n",
       "<text text-anchor=\"start\" x=\"284.5\" y=\"-94.8\" font-family=\"Helvetica,sans-Serif\" font-size=\"14.00\">samples = 7459</text>\r\n",
       "<text text-anchor=\"start\" x=\"246.5\" y=\"-79.8\" font-family=\"Helvetica,sans-Serif\" font-size=\"14.00\">value = [1306.61, 4049.652]</text>\r\n",
       "</g>\r\n",
       "<!-- 1&#45;&gt;6857 -->\r\n",
       "<g id=\"edge5\" class=\"edge\"><title>1&#45;&gt;6857</title>\r\n",
       "<path fill=\"none\" stroke=\"black\" d=\"M331.948,-175.884C332.425,-167.778 332.942,-158.982 333.443,-150.472\"/>\r\n",
       "<polygon fill=\"black\" stroke=\"black\" points=\"336.948,-150.488 334.041,-140.299 329.96,-150.077 336.948,-150.488\"/>\r\n",
       "</g>\r\n",
       "<!-- 3 -->\r\n",
       "<g id=\"node4\" class=\"node\"><title>3</title>\r\n",
       "<path fill=\"#c0c0c0\" stroke=\"black\" d=\"M89,-36C89,-36 59,-36 59,-36 53,-36 47,-30 47,-24 47,-24 47,-12 47,-12 47,-6 53,-0 59,-0 59,-0 89,-0 89,-0 95,-0 101,-6 101,-12 101,-12 101,-24 101,-24 101,-30 95,-36 89,-36\"/>\r\n",
       "<text text-anchor=\"middle\" x=\"74\" y=\"-14.3\" font-family=\"Helvetica,sans-Serif\" font-size=\"14.00\">(...)</text>\r\n",
       "</g>\r\n",
       "<!-- 2&#45;&gt;3 -->\r\n",
       "<g id=\"edge3\" class=\"edge\"><title>2&#45;&gt;3</title>\r\n",
       "<path fill=\"none\" stroke=\"black\" d=\"M96.1844,-71.9961C92.536,-63.2804 88.6447,-53.9846 85.1564,-45.6514\"/>\r\n",
       "<polygon fill=\"black\" stroke=\"black\" points=\"88.3751,-44.2763 81.2851,-36.4034 81.918,-46.9793 88.3751,-44.2763\"/>\r\n",
       "</g>\r\n",
       "<!-- 5342 -->\r\n",
       "<g id=\"node5\" class=\"node\"><title>5342</title>\r\n",
       "<path fill=\"#c0c0c0\" stroke=\"black\" d=\"M161,-36C161,-36 131,-36 131,-36 125,-36 119,-30 119,-24 119,-24 119,-12 119,-12 119,-6 125,-0 131,-0 131,-0 161,-0 161,-0 167,-0 173,-6 173,-12 173,-12 173,-24 173,-24 173,-30 167,-36 161,-36\"/>\r\n",
       "<text text-anchor=\"middle\" x=\"146\" y=\"-14.3\" font-family=\"Helvetica,sans-Serif\" font-size=\"14.00\">(...)</text>\r\n",
       "</g>\r\n",
       "<!-- 2&#45;&gt;5342 -->\r\n",
       "<g id=\"edge4\" class=\"edge\"><title>2&#45;&gt;5342</title>\r\n",
       "<path fill=\"none\" stroke=\"black\" d=\"M123.816,-71.9961C127.464,-63.2804 131.355,-53.9846 134.844,-45.6514\"/>\r\n",
       "<polygon fill=\"black\" stroke=\"black\" points=\"138.082,-46.9793 138.715,-36.4034 131.625,-44.2763 138.082,-46.9793\"/>\r\n",
       "</g>\r\n",
       "<!-- 6858 -->\r\n",
       "<g id=\"node7\" class=\"node\"><title>6858</title>\r\n",
       "<path fill=\"#c0c0c0\" stroke=\"black\" d=\"M315,-36C315,-36 285,-36 285,-36 279,-36 273,-30 273,-24 273,-24 273,-12 273,-12 273,-6 279,-0 285,-0 285,-0 315,-0 315,-0 321,-0 327,-6 327,-12 327,-12 327,-24 327,-24 327,-30 321,-36 315,-36\"/>\r\n",
       "<text text-anchor=\"middle\" x=\"300\" y=\"-14.3\" font-family=\"Helvetica,sans-Serif\" font-size=\"14.00\">(...)</text>\r\n",
       "</g>\r\n",
       "<!-- 6857&#45;&gt;6858 -->\r\n",
       "<g id=\"edge6\" class=\"edge\"><title>6857&#45;&gt;6858</title>\r\n",
       "<path fill=\"none\" stroke=\"black\" d=\"M322.184,-71.9961C318.536,-63.2804 314.645,-53.9846 311.156,-45.6514\"/>\r\n",
       "<polygon fill=\"black\" stroke=\"black\" points=\"314.375,-44.2763 307.285,-36.4034 307.918,-46.9793 314.375,-44.2763\"/>\r\n",
       "</g>\r\n",
       "<!-- 7371 -->\r\n",
       "<g id=\"node8\" class=\"node\"><title>7371</title>\r\n",
       "<path fill=\"#c0c0c0\" stroke=\"black\" d=\"M387,-36C387,-36 357,-36 357,-36 351,-36 345,-30 345,-24 345,-24 345,-12 345,-12 345,-6 351,-0 357,-0 357,-0 387,-0 387,-0 393,-0 399,-6 399,-12 399,-12 399,-24 399,-24 399,-30 393,-36 387,-36\"/>\r\n",
       "<text text-anchor=\"middle\" x=\"372\" y=\"-14.3\" font-family=\"Helvetica,sans-Serif\" font-size=\"14.00\">(...)</text>\r\n",
       "</g>\r\n",
       "<!-- 6857&#45;&gt;7371 -->\r\n",
       "<g id=\"edge7\" class=\"edge\"><title>6857&#45;&gt;7371</title>\r\n",
       "<path fill=\"none\" stroke=\"black\" d=\"M349.816,-71.9961C353.464,-63.2804 357.355,-53.9846 360.844,-45.6514\"/>\r\n",
       "<polygon fill=\"black\" stroke=\"black\" points=\"364.082,-46.9793 364.715,-36.4034 357.625,-44.2763 364.082,-46.9793\"/>\r\n",
       "</g>\r\n",
       "<!-- 7543 -->\r\n",
       "<g id=\"node10\" class=\"node\"><title>7543</title>\r\n",
       "<path fill=\"#399de5\" fill-opacity=\"0.690196\" stroke=\"black\" d=\"M636.5,-140C636.5,-140 473.5,-140 473.5,-140 467.5,-140 461.5,-134 461.5,-128 461.5,-128 461.5,-84 461.5,-84 461.5,-78 467.5,-72 473.5,-72 473.5,-72 636.5,-72 636.5,-72 642.5,-72 648.5,-78 648.5,-84 648.5,-84 648.5,-128 648.5,-128 648.5,-134 642.5,-140 636.5,-140\"/>\r\n",
       "<text text-anchor=\"start\" x=\"525\" y=\"-124.8\" font-family=\"Helvetica,sans-Serif\" font-size=\"14.00\">bad ≤ 0.5</text>\r\n",
       "<text text-anchor=\"start\" x=\"517.5\" y=\"-109.8\" font-family=\"Helvetica,sans-Serif\" font-size=\"14.00\">gini = 0.361</text>\r\n",
       "<text text-anchor=\"start\" x=\"499\" y=\"-94.8\" font-family=\"Helvetica,sans-Serif\" font-size=\"14.00\">samples = 17567</text>\r\n",
       "<text text-anchor=\"start\" x=\"469.5\" y=\"-79.8\" font-family=\"Helvetica,sans-Serif\" font-size=\"14.00\">value = [2951.652, 9554.1]</text>\r\n",
       "</g>\r\n",
       "<!-- 7542&#45;&gt;7543 -->\r\n",
       "<g id=\"edge9\" class=\"edge\"><title>7542&#45;&gt;7543</title>\r\n",
       "<path fill=\"none\" stroke=\"black\" d=\"M558.377,-175.884C557.979,-167.778 557.548,-158.982 557.131,-150.472\"/>\r\n",
       "<polygon fill=\"black\" stroke=\"black\" points=\"560.618,-150.116 556.632,-140.299 553.626,-150.459 560.618,-150.116\"/>\r\n",
       "</g>\r\n",
       "<!-- 8728 -->\r\n",
       "<g id=\"node13\" class=\"node\"><title>8728</title>\r\n",
       "<path fill=\"#e58139\" fill-opacity=\"0.580392\" stroke=\"black\" d=\"M841.5,-140C841.5,-140 678.5,-140 678.5,-140 672.5,-140 666.5,-134 666.5,-128 666.5,-128 666.5,-84 666.5,-84 666.5,-78 672.5,-72 678.5,-72 678.5,-72 841.5,-72 841.5,-72 847.5,-72 853.5,-78 853.5,-84 853.5,-84 853.5,-128 853.5,-128 853.5,-134 847.5,-140 841.5,-140\"/>\r\n",
       "<text text-anchor=\"start\" x=\"727.5\" y=\"-124.8\" font-family=\"Helvetica,sans-Serif\" font-size=\"14.00\">wont ≤ 0.5</text>\r\n",
       "<text text-anchor=\"start\" x=\"722.5\" y=\"-109.8\" font-family=\"Helvetica,sans-Serif\" font-size=\"14.00\">gini = 0.417</text>\r\n",
       "<text text-anchor=\"start\" x=\"712.5\" y=\"-94.8\" font-family=\"Helvetica,sans-Serif\" font-size=\"14.00\">samples = 377</text>\r\n",
       "<text text-anchor=\"start\" x=\"674.5\" y=\"-79.8\" font-family=\"Helvetica,sans-Serif\" font-size=\"14.00\">value = [385.557, 162.462]</text>\r\n",
       "</g>\r\n",
       "<!-- 7542&#45;&gt;8728 -->\r\n",
       "<g id=\"edge12\" class=\"edge\"><title>7542&#45;&gt;8728</title>\r\n",
       "<path fill=\"none\" stroke=\"black\" d=\"M624.934,-175.884C644.42,-165.946 665.939,-154.971 685.966,-144.757\"/>\r\n",
       "<polygon fill=\"black\" stroke=\"black\" points=\"687.731,-147.786 695.05,-140.125 684.551,-141.55 687.731,-147.786\"/>\r\n",
       "</g>\r\n",
       "<!-- 7544 -->\r\n",
       "<g id=\"node11\" class=\"node\"><title>7544</title>\r\n",
       "<path fill=\"#c0c0c0\" stroke=\"black\" d=\"M534,-36C534,-36 504,-36 504,-36 498,-36 492,-30 492,-24 492,-24 492,-12 492,-12 492,-6 498,-0 504,-0 504,-0 534,-0 534,-0 540,-0 546,-6 546,-12 546,-12 546,-24 546,-24 546,-30 540,-36 534,-36\"/>\r\n",
       "<text text-anchor=\"middle\" x=\"519\" y=\"-14.3\" font-family=\"Helvetica,sans-Serif\" font-size=\"14.00\">(...)</text>\r\n",
       "</g>\r\n",
       "<!-- 7543&#45;&gt;7544 -->\r\n",
       "<g id=\"edge10\" class=\"edge\"><title>7543&#45;&gt;7544</title>\r\n",
       "<path fill=\"none\" stroke=\"black\" d=\"M541.184,-71.9961C537.536,-63.2804 533.645,-53.9846 530.156,-45.6514\"/>\r\n",
       "<polygon fill=\"black\" stroke=\"black\" points=\"533.375,-44.2763 526.285,-36.4034 526.918,-46.9793 533.375,-44.2763\"/>\r\n",
       "</g>\r\n",
       "<!-- 8605 -->\r\n",
       "<g id=\"node12\" class=\"node\"><title>8605</title>\r\n",
       "<path fill=\"#c0c0c0\" stroke=\"black\" d=\"M606,-36C606,-36 576,-36 576,-36 570,-36 564,-30 564,-24 564,-24 564,-12 564,-12 564,-6 570,-0 576,-0 576,-0 606,-0 606,-0 612,-0 618,-6 618,-12 618,-12 618,-24 618,-24 618,-30 612,-36 606,-36\"/>\r\n",
       "<text text-anchor=\"middle\" x=\"591\" y=\"-14.3\" font-family=\"Helvetica,sans-Serif\" font-size=\"14.00\">(...)</text>\r\n",
       "</g>\r\n",
       "<!-- 7543&#45;&gt;8605 -->\r\n",
       "<g id=\"edge11\" class=\"edge\"><title>7543&#45;&gt;8605</title>\r\n",
       "<path fill=\"none\" stroke=\"black\" d=\"M568.816,-71.9961C572.464,-63.2804 576.355,-53.9846 579.844,-45.6514\"/>\r\n",
       "<polygon fill=\"black\" stroke=\"black\" points=\"583.082,-46.9793 583.715,-36.4034 576.625,-44.2763 583.082,-46.9793\"/>\r\n",
       "</g>\r\n",
       "<!-- 8729 -->\r\n",
       "<g id=\"node14\" class=\"node\"><title>8729</title>\r\n",
       "<path fill=\"#c0c0c0\" stroke=\"black\" d=\"M739,-36C739,-36 709,-36 709,-36 703,-36 697,-30 697,-24 697,-24 697,-12 697,-12 697,-6 703,-0 709,-0 709,-0 739,-0 739,-0 745,-0 751,-6 751,-12 751,-12 751,-24 751,-24 751,-30 745,-36 739,-36\"/>\r\n",
       "<text text-anchor=\"middle\" x=\"724\" y=\"-14.3\" font-family=\"Helvetica,sans-Serif\" font-size=\"14.00\">(...)</text>\r\n",
       "</g>\r\n",
       "<!-- 8728&#45;&gt;8729 -->\r\n",
       "<g id=\"edge13\" class=\"edge\"><title>8728&#45;&gt;8729</title>\r\n",
       "<path fill=\"none\" stroke=\"black\" d=\"M746.184,-71.9961C742.536,-63.2804 738.645,-53.9846 735.156,-45.6514\"/>\r\n",
       "<polygon fill=\"black\" stroke=\"black\" points=\"738.375,-44.2763 731.285,-36.4034 731.918,-46.9793 738.375,-44.2763\"/>\r\n",
       "</g>\r\n",
       "<!-- 8844 -->\r\n",
       "<g id=\"node15\" class=\"node\"><title>8844</title>\r\n",
       "<path fill=\"#c0c0c0\" stroke=\"black\" d=\"M811,-36C811,-36 781,-36 781,-36 775,-36 769,-30 769,-24 769,-24 769,-12 769,-12 769,-6 775,-0 781,-0 781,-0 811,-0 811,-0 817,-0 823,-6 823,-12 823,-12 823,-24 823,-24 823,-30 817,-36 811,-36\"/>\r\n",
       "<text text-anchor=\"middle\" x=\"796\" y=\"-14.3\" font-family=\"Helvetica,sans-Serif\" font-size=\"14.00\">(...)</text>\r\n",
       "</g>\r\n",
       "<!-- 8728&#45;&gt;8844 -->\r\n",
       "<g id=\"edge14\" class=\"edge\"><title>8728&#45;&gt;8844</title>\r\n",
       "<path fill=\"none\" stroke=\"black\" d=\"M773.816,-71.9961C777.464,-63.2804 781.355,-53.9846 784.844,-45.6514\"/>\r\n",
       "<polygon fill=\"black\" stroke=\"black\" points=\"788.082,-46.9793 788.715,-36.4034 781.625,-44.2763 788.082,-46.9793\"/>\r\n",
       "</g>\r\n",
       "</g>\r\n",
       "</svg>\r\n"
      ],
      "text/plain": [
       "<graphviz.files.Source at 0x4d98d3af60>"
      ]
     },
     "execution_count": 238,
     "metadata": {},
     "output_type": "execute_result"
    }
   ],
   "source": [
    "dot_data = tree.export_graphviz(clf, out_file=None,max_depth=2,  \n",
    "                         filled=True, rounded=True,feature_names=sorted_words,\n",
    "                         special_characters=True)  \n",
    "graph = graphviz.Source(dot_data) \n",
    "graph"
   ]
  },
  {
   "cell_type": "markdown",
   "metadata": {},
   "source": [
    "** TF_IDF Vectorizer **"
   ]
  },
  {
   "cell_type": "code",
   "execution_count": 198,
   "metadata": {
    "collapsed": true
   },
   "outputs": [],
   "source": [
    "tf_idf = TfidfVectorizer(max_features=2000)\n",
    "tf_X_train = tf_idf.fit_transform(X_train)\n",
    "tf_X_test = tf_idf.transform(X_test)"
   ]
  },
  {
   "cell_type": "markdown",
   "metadata": {},
   "source": [
    "** GRIDSEARCHCV **"
   ]
  },
  {
   "cell_type": "code",
   "execution_count": 199,
   "metadata": {},
   "outputs": [
    {
     "name": "stdout",
     "output_type": "stream",
     "text": [
      "best depth =  {'max_depth': 56}\n",
      "Accuracy on train data =  82.03714285714285\n"
     ]
    }
   ],
   "source": [
    "depth = [i for i in range(20,60,4)]\n",
    "clf = DecisionTreeClassifier(class_weight ='balanced')\n",
    "param_grid = {'max_depth':depth}\n",
    "grid = GridSearchCV(estimator = clf,param_grid=param_grid ,cv = 3,n_jobs = 3)\n",
    "grid.fit(tf_X_train, y_train)\n",
    "print(\"best depth = \", grid.best_params_)\n",
    "print(\"Accuracy on train data = \", grid.best_score_*100)\n",
    "a = grid.best_params_"
   ]
  },
  {
   "cell_type": "code",
   "execution_count": 200,
   "metadata": {},
   "outputs": [
    {
     "data": {
      "image/png": "[encoded data removed]",
      "text/plain": [
       "<matplotlib.figure.Figure at 0x4d4c7d5860>"
      ]
     },
     "metadata": {},
     "output_type": "display_data"
    }
   ],
   "source": [
    "error = [(1-i)*100 for i in grid.cv_results_['mean_test_score']]\n",
    "plt.plot(depth, error)\n",
    "plt.title('Error plot for TF-IDF')\n",
    "plt.xlabel('Depth of Tree')\n",
    "plt.ylabel('Test_Error')\n",
    "plt.show()"
   ]
  },
  {
   "cell_type": "code",
   "execution_count": 201,
   "metadata": {},
   "outputs": [
    {
     "name": "stdout",
     "output_type": "stream",
     "text": [
      "56\n"
     ]
    }
   ],
   "source": [
    "optimal_depth2 = a.get('max_depth')\n",
    "print(optimal_depth2)"
   ]
  },
  {
   "cell_type": "code",
   "execution_count": 202,
   "metadata": {},
   "outputs": [
    {
     "name": "stdout",
     "output_type": "stream",
     "text": [
      "\n",
      "Accuracy=81.233333%\n",
      "\n",
      "precision=92.988335%\n",
      "\n",
      "recall=84.644195%\n",
      "\n",
      "F1-Score=88.620285%\n"
     ]
    }
   ],
   "source": [
    "clf = DecisionTreeClassifier(max_depth = optimal_depth2,class_weight = 'balanced')\n",
    "\n",
    "clf.fit(tf_X_train,y_train)\n",
    "\n",
    "pred = clf.predict(tf_X_test)\n",
    "\n",
    "acc2 = accuracy_score(y_test, pred) * 100\n",
    "pre2 = precision_score(y_test, pred) * 100\n",
    "rec2 = recall_score(y_test, pred) * 100\n",
    "f12 = f1_score(y_test, pred) * 100\n",
    "\n",
    "print('\\nAccuracy=%f%%' % (acc2))\n",
    "print('\\nprecision=%f%%' % (pre2))\n",
    "print('\\nrecall=%f%%' % (rec2))\n",
    "print('\\nF1-Score=%f%%' % (f12))"
   ]
  },
  {
   "cell_type": "code",
   "execution_count": 203,
   "metadata": {},
   "outputs": [
    {
     "data": {
      "image/png": "[encoded data removed]",
      "text/plain": [
       "<matplotlib.figure.Figure at 0x4d4c61bfd0>"
      ]
     },
     "metadata": {},
     "output_type": "display_data"
    }
   ],
   "source": [
    "cm = confusion_matrix(y_test,pred)\n",
    "sns.heatmap(cm, annot=True,fmt='d')\n",
    "plt.title('Confusion Matrix for TF-IDF')\n",
    "plt.show()"
   ]
  },
  {
   "cell_type": "code",
   "execution_count": 204,
   "metadata": {},
   "outputs": [
    {
     "name": "stdout",
     "output_type": "stream",
     "text": [
      "Positive Words\n",
      "Negative Words\n"
     ]
    },
    {
     "data": {
      "text/plain": [
       "{'grape': 0.0,\n",
       " 'grass': 0.0,\n",
       " 'gravi': 0.0,\n",
       " 'greatest': 0.0,\n",
       " 'greeni': 0.0,\n",
       " 'seafood': 0.0,\n",
       " 'seattl': 0.0,\n",
       " 'secret': 0.0,\n",
       " 'section': 0.0,\n",
       " 'zero': 0.0}"
      ]
     },
     "execution_count": 204,
     "metadata": {},
     "output_type": "execute_result"
    }
   ],
   "source": [
    "negative_log = np.array(list(map(abs,clf.feature_importances_))).argsort()[0:10]\n",
    "positive_log = np.array(list(map(abs,clf.feature_importances_))).argsort()[1990:2000]\n",
    "\n",
    "neg={}\n",
    "pos={}\n",
    "for index in negative_log:\n",
    "    for i in count_vect.vocabulary_:\n",
    "        if count_vect.vocabulary_[i] == index:\n",
    "            neg[i]=clf.feature_importances_[index]\n",
    "            \n",
    "for index in positive_log:\n",
    "    for i in count_vect.vocabulary_:\n",
    "        if count_vect.vocabulary_[i] == index:\n",
    "            pos[i]=clf.feature_importances_[index]\n",
    "\n",
    "print(\"Positive Words\")\n",
    "pos\n",
    "print(\"Negative Words\")\n",
    "neg"
   ]
  },
  {
   "cell_type": "code",
   "execution_count": 207,
   "metadata": {},
   "outputs": [
    {
     "data": {
      "text/plain": [
       "{'best': 0.04217391961847863,\n",
       " 'delici': 0.02892158440591705,\n",
       " 'disappoint': 0.03250226457707443,\n",
       " 'excel': 0.01610340233653305,\n",
       " 'favorit': 0.015147336910230864,\n",
       " 'good': 0.02171696152283509,\n",
       " 'great': 0.07320446958728878,\n",
       " 'love': 0.03933777522915673,\n",
       " 'perfect': 0.017033938809374198,\n",
       " 'tast': 0.014114737109052294}"
      ]
     },
     "execution_count": 207,
     "metadata": {},
     "output_type": "execute_result"
    }
   ],
   "source": []
  },
  {
   "cell_type": "code",
   "execution_count": 205,
   "metadata": {
    "collapsed": true
   },
   "outputs": [],
   "source": [
    "voc = count_vect.vocabulary_\n",
    "\n",
    "ind=list(voc.values())\n",
    "indexes = np.array(ind).argsort()\n",
    "\n",
    "words=list(voc.keys())\n",
    "sorted_words=[]\n",
    "for i in indexes:\n",
    "    sorted_words.append(words[i])"
   ]
  },
  {
   "cell_type": "code",
   "execution_count": 206,
   "metadata": {},
   "outputs": [
    {
     "data": {
      "image/svg+xml": [
       "<?xml version=\"1.0\" encoding=\"UTF-8\" standalone=\"no\"?>\r\n",
       "<!DOCTYPE svg PUBLIC \"-//W3C//DTD SVG 1.1//EN\"\r\n",
       " \"http://www.w3.org/Graphics/SVG/1.1/DTD/svg11.dtd\">\r\n",
       "<!-- Generated by graphviz version 2.38.0 (20140413.2041)\r\n",
       " -->\r\n",
       "<!-- Title: Tree Pages: 1 -->\r\n",
       "<svg width=\"872pt\" height=\"356pt\"\r\n",
       " viewBox=\"0.00 0.00 871.50 356.00\" xmlns=\"http://www.w3.org/2000/svg\" xmlns:xlink=\"http://www.w3.org/1999/xlink\">\r\n",
       "<g id=\"graph0\" class=\"graph\" transform=\"scale(1 1) rotate(0) translate(4 352)\">\r\n",
       "<title>Tree</title>\r\n",
       "<polygon fill=\"white\" stroke=\"none\" points=\"-4,4 -4,-352 867.5,-352 867.5,4 -4,4\"/>\r\n",
       "<!-- 0 -->\r\n",
       "<g id=\"node1\" class=\"node\"><title>0</title>\r\n",
       "<path fill=\"none\" stroke=\"black\" d=\"M533.5,-348C533.5,-348 370.5,-348 370.5,-348 364.5,-348 358.5,-342 358.5,-336 358.5,-336 358.5,-292 358.5,-292 358.5,-286 364.5,-280 370.5,-280 370.5,-280 533.5,-280 533.5,-280 539.5,-280 545.5,-286 545.5,-292 545.5,-292 545.5,-336 545.5,-336 545.5,-342 539.5,-348 533.5,-348\"/>\r\n",
       "<text text-anchor=\"start\" x=\"409.5\" y=\"-332.8\" font-family=\"Helvetica,sans-Serif\" font-size=\"14.00\">great ≤ 0.067</text>\r\n",
       "<text text-anchor=\"start\" x=\"423\" y=\"-317.8\" font-family=\"Helvetica,sans-Serif\" font-size=\"14.00\">gini = 0.5</text>\r\n",
       "<text text-anchor=\"start\" x=\"396\" y=\"-302.8\" font-family=\"Helvetica,sans-Serif\" font-size=\"14.00\">samples = 70000</text>\r\n",
       "<text text-anchor=\"start\" x=\"366.5\" y=\"-287.8\" font-family=\"Helvetica,sans-Serif\" font-size=\"14.00\">value = [35000.0, 35000.0]</text>\r\n",
       "</g>\r\n",
       "<!-- 1 -->\r\n",
       "<g id=\"node2\" class=\"node\"><title>1</title>\r\n",
       "<path fill=\"#e58139\" fill-opacity=\"0.176471\" stroke=\"black\" d=\"M435,-244C435,-244 239,-244 239,-244 233,-244 227,-238 227,-232 227,-232 227,-188 227,-188 227,-182 233,-176 239,-176 239,-176 435,-176 435,-176 441,-176 447,-182 447,-188 447,-188 447,-232 447,-232 447,-238 441,-244 435,-244\"/>\r\n",
       "<text text-anchor=\"start\" x=\"297\" y=\"-228.8\" font-family=\"Helvetica,sans-Serif\" font-size=\"14.00\">best ≤ 0.031</text>\r\n",
       "<text text-anchor=\"start\" x=\"299.5\" y=\"-213.8\" font-family=\"Helvetica,sans-Serif\" font-size=\"14.00\">gini = 0.495</text>\r\n",
       "<text text-anchor=\"start\" x=\"281\" y=\"-198.8\" font-family=\"Helvetica,sans-Serif\" font-size=\"14.00\">samples = 55694</text>\r\n",
       "<text text-anchor=\"start\" x=\"235\" y=\"-183.8\" font-family=\"Helvetica,sans-Serif\" font-size=\"14.00\">value = [33016.524, 27163.917]</text>\r\n",
       "</g>\r\n",
       "<!-- 0&#45;&gt;1 -->\r\n",
       "<g id=\"edge1\" class=\"edge\"><title>0&#45;&gt;1</title>\r\n",
       "<path fill=\"none\" stroke=\"black\" d=\"M414.663,-279.884C404.319,-270.709 392.978,-260.65 382.236,-251.123\"/>\r\n",
       "<polygon fill=\"black\" stroke=\"black\" points=\"384.347,-248.317 374.543,-244.299 379.702,-253.553 384.347,-248.317\"/>\r\n",
       "<text text-anchor=\"middle\" x=\"376.038\" y=\"-265.555\" font-family=\"Helvetica,sans-Serif\" font-size=\"14.00\">True</text>\r\n",
       "</g>\r\n",
       "<!-- 5696 -->\r\n",
       "<g id=\"node9\" class=\"node\"><title>5696</title>\r\n",
       "<path fill=\"#399de5\" fill-opacity=\"0.745098\" stroke=\"black\" d=\"M656.5,-244C656.5,-244 477.5,-244 477.5,-244 471.5,-244 465.5,-238 465.5,-232 465.5,-232 465.5,-188 465.5,-188 465.5,-182 471.5,-176 477.5,-176 477.5,-176 656.5,-176 656.5,-176 662.5,-176 668.5,-182 668.5,-188 668.5,-188 668.5,-232 668.5,-232 668.5,-238 662.5,-244 656.5,-244\"/>\r\n",
       "<text text-anchor=\"start\" x=\"508\" y=\"-228.8\" font-family=\"Helvetica,sans-Serif\" font-size=\"14.00\">disappoint ≤ 0.078</text>\r\n",
       "<text text-anchor=\"start\" x=\"529.5\" y=\"-213.8\" font-family=\"Helvetica,sans-Serif\" font-size=\"14.00\">gini = 0.322</text>\r\n",
       "<text text-anchor=\"start\" x=\"511\" y=\"-198.8\" font-family=\"Helvetica,sans-Serif\" font-size=\"14.00\">samples = 14306</text>\r\n",
       "<text text-anchor=\"start\" x=\"473.5\" y=\"-183.8\" font-family=\"Helvetica,sans-Serif\" font-size=\"14.00\">value = [1983.476, 7836.083]</text>\r\n",
       "</g>\r\n",
       "<!-- 0&#45;&gt;5696 -->\r\n",
       "<g id=\"edge8\" class=\"edge\"><title>0&#45;&gt;5696</title>\r\n",
       "<path fill=\"none\" stroke=\"black\" d=\"M489.337,-279.884C499.681,-270.709 511.022,-260.65 521.764,-251.123\"/>\r\n",
       "<polygon fill=\"black\" stroke=\"black\" points=\"524.298,-253.553 529.457,-244.299 519.653,-248.317 524.298,-253.553\"/>\r\n",
       "<text text-anchor=\"middle\" x=\"527.962\" y=\"-265.555\" font-family=\"Helvetica,sans-Serif\" font-size=\"14.00\">False</text>\r\n",
       "</g>\r\n",
       "<!-- 2 -->\r\n",
       "<g id=\"node3\" class=\"node\"><title>2</title>\r\n",
       "<path fill=\"#e58139\" fill-opacity=\"0.278431\" stroke=\"black\" d=\"M208,-140C208,-140 12,-140 12,-140 6,-140 0,-134 0,-128 0,-128 0,-84 0,-84 0,-78 6,-72 12,-72 12,-72 208,-72 208,-72 214,-72 220,-78 220,-84 220,-84 220,-128 220,-128 220,-134 214,-140 208,-140\"/>\r\n",
       "<text text-anchor=\"start\" x=\"70.5\" y=\"-124.8\" font-family=\"Helvetica,sans-Serif\" font-size=\"14.00\">love ≤ 0.061</text>\r\n",
       "<text text-anchor=\"start\" x=\"72.5\" y=\"-109.8\" font-family=\"Helvetica,sans-Serif\" font-size=\"14.00\">gini = 0.487</text>\r\n",
       "<text text-anchor=\"start\" x=\"54\" y=\"-94.8\" font-family=\"Helvetica,sans-Serif\" font-size=\"14.00\">samples = 47679</text>\r\n",
       "<text text-anchor=\"start\" x=\"8\" y=\"-79.8\" font-family=\"Helvetica,sans-Serif\" font-size=\"14.00\">value = [31624.235, 22810.852]</text>\r\n",
       "</g>\r\n",
       "<!-- 1&#45;&gt;2 -->\r\n",
       "<g id=\"edge2\" class=\"edge\"><title>1&#45;&gt;2</title>\r\n",
       "<path fill=\"none\" stroke=\"black\" d=\"M263.3,-175.884C240.885,-165.812 216.098,-154.674 193.108,-144.344\"/>\r\n",
       "<polygon fill=\"black\" stroke=\"black\" points=\"194.275,-141.031 183.719,-140.125 191.406,-147.416 194.275,-141.031\"/>\r\n",
       "</g>\r\n",
       "<!-- 5099 -->\r\n",
       "<g id=\"node6\" class=\"node\"><title>5099</title>\r\n",
       "<path fill=\"#399de5\" fill-opacity=\"0.678431\" stroke=\"black\" d=\"M429.5,-140C429.5,-140 250.5,-140 250.5,-140 244.5,-140 238.5,-134 238.5,-128 238.5,-128 238.5,-84 238.5,-84 238.5,-78 244.5,-72 250.5,-72 250.5,-72 429.5,-72 429.5,-72 435.5,-72 441.5,-78 441.5,-84 441.5,-84 441.5,-128 441.5,-128 441.5,-134 435.5,-140 429.5,-140\"/>\r\n",
       "<text text-anchor=\"start\" x=\"281\" y=\"-124.8\" font-family=\"Helvetica,sans-Serif\" font-size=\"14.00\">disappoint ≤ 0.036</text>\r\n",
       "<text text-anchor=\"start\" x=\"302.5\" y=\"-109.8\" font-family=\"Helvetica,sans-Serif\" font-size=\"14.00\">gini = 0.367</text>\r\n",
       "<text text-anchor=\"start\" x=\"288.5\" y=\"-94.8\" font-family=\"Helvetica,sans-Serif\" font-size=\"14.00\">samples = 8015</text>\r\n",
       "<text text-anchor=\"start\" x=\"246.5\" y=\"-79.8\" font-family=\"Helvetica,sans-Serif\" font-size=\"14.00\">value = [1392.289, 4353.065]</text>\r\n",
       "</g>\r\n",
       "<!-- 1&#45;&gt;5099 -->\r\n",
       "<g id=\"edge5\" class=\"edge\"><title>1&#45;&gt;5099</title>\r\n",
       "<path fill=\"none\" stroke=\"black\" d=\"M337.974,-175.884C338.212,-167.778 338.471,-158.982 338.721,-150.472\"/>\r\n",
       "<polygon fill=\"black\" stroke=\"black\" points=\"342.225,-150.398 339.021,-140.299 335.228,-150.192 342.225,-150.398\"/>\r\n",
       "</g>\r\n",
       "<!-- 3 -->\r\n",
       "<g id=\"node4\" class=\"node\"><title>3</title>\r\n",
       "<path fill=\"#c0c0c0\" stroke=\"black\" d=\"M89,-36C89,-36 59,-36 59,-36 53,-36 47,-30 47,-24 47,-24 47,-12 47,-12 47,-6 53,-0 59,-0 59,-0 89,-0 89,-0 95,-0 101,-6 101,-12 101,-12 101,-24 101,-24 101,-30 95,-36 89,-36\"/>\r\n",
       "<text text-anchor=\"middle\" x=\"74\" y=\"-14.3\" font-family=\"Helvetica,sans-Serif\" font-size=\"14.00\">(...)</text>\r\n",
       "</g>\r\n",
       "<!-- 2&#45;&gt;3 -->\r\n",
       "<g id=\"edge3\" class=\"edge\"><title>2&#45;&gt;3</title>\r\n",
       "<path fill=\"none\" stroke=\"black\" d=\"M96.1844,-71.9961C92.536,-63.2804 88.6447,-53.9846 85.1564,-45.6514\"/>\r\n",
       "<polygon fill=\"black\" stroke=\"black\" points=\"88.3751,-44.2763 81.2851,-36.4034 81.918,-46.9793 88.3751,-44.2763\"/>\r\n",
       "</g>\r\n",
       "<!-- 4064 -->\r\n",
       "<g id=\"node5\" class=\"node\"><title>4064</title>\r\n",
       "<path fill=\"#c0c0c0\" stroke=\"black\" d=\"M161,-36C161,-36 131,-36 131,-36 125,-36 119,-30 119,-24 119,-24 119,-12 119,-12 119,-6 125,-0 131,-0 131,-0 161,-0 161,-0 167,-0 173,-6 173,-12 173,-12 173,-24 173,-24 173,-30 167,-36 161,-36\"/>\r\n",
       "<text text-anchor=\"middle\" x=\"146\" y=\"-14.3\" font-family=\"Helvetica,sans-Serif\" font-size=\"14.00\">(...)</text>\r\n",
       "</g>\r\n",
       "<!-- 2&#45;&gt;4064 -->\r\n",
       "<g id=\"edge4\" class=\"edge\"><title>2&#45;&gt;4064</title>\r\n",
       "<path fill=\"none\" stroke=\"black\" d=\"M123.816,-71.9961C127.464,-63.2804 131.355,-53.9846 134.844,-45.6514\"/>\r\n",
       "<polygon fill=\"black\" stroke=\"black\" points=\"138.082,-46.9793 138.715,-36.4034 131.625,-44.2763 138.082,-46.9793\"/>\r\n",
       "</g>\r\n",
       "<!-- 5100 -->\r\n",
       "<g id=\"node7\" class=\"node\"><title>5100</title>\r\n",
       "<path fill=\"#c0c0c0\" stroke=\"black\" d=\"M319,-36C319,-36 289,-36 289,-36 283,-36 277,-30 277,-24 277,-24 277,-12 277,-12 277,-6 283,-0 289,-0 289,-0 319,-0 319,-0 325,-0 331,-6 331,-12 331,-12 331,-24 331,-24 331,-30 325,-36 319,-36\"/>\r\n",
       "<text text-anchor=\"middle\" x=\"304\" y=\"-14.3\" font-family=\"Helvetica,sans-Serif\" font-size=\"14.00\">(...)</text>\r\n",
       "</g>\r\n",
       "<!-- 5099&#45;&gt;5100 -->\r\n",
       "<g id=\"edge6\" class=\"edge\"><title>5099&#45;&gt;5100</title>\r\n",
       "<path fill=\"none\" stroke=\"black\" d=\"M326.184,-71.9961C322.536,-63.2804 318.645,-53.9846 315.156,-45.6514\"/>\r\n",
       "<polygon fill=\"black\" stroke=\"black\" points=\"318.375,-44.2763 311.285,-36.4034 311.918,-46.9793 318.375,-44.2763\"/>\r\n",
       "</g>\r\n",
       "<!-- 5645 -->\r\n",
       "<g id=\"node8\" class=\"node\"><title>5645</title>\r\n",
       "<path fill=\"#c0c0c0\" stroke=\"black\" d=\"M391,-36C391,-36 361,-36 361,-36 355,-36 349,-30 349,-24 349,-24 349,-12 349,-12 349,-6 355,-0 361,-0 361,-0 391,-0 391,-0 397,-0 403,-6 403,-12 403,-12 403,-24 403,-24 403,-30 397,-36 391,-36\"/>\r\n",
       "<text text-anchor=\"middle\" x=\"376\" y=\"-14.3\" font-family=\"Helvetica,sans-Serif\" font-size=\"14.00\">(...)</text>\r\n",
       "</g>\r\n",
       "<!-- 5099&#45;&gt;5645 -->\r\n",
       "<g id=\"edge7\" class=\"edge\"><title>5099&#45;&gt;5645</title>\r\n",
       "<path fill=\"none\" stroke=\"black\" d=\"M353.816,-71.9961C357.464,-63.2804 361.355,-53.9846 364.844,-45.6514\"/>\r\n",
       "<polygon fill=\"black\" stroke=\"black\" points=\"368.082,-46.9793 368.715,-36.4034 361.625,-44.2763 368.082,-46.9793\"/>\r\n",
       "</g>\r\n",
       "<!-- 5697 -->\r\n",
       "<g id=\"node10\" class=\"node\"><title>5697</title>\r\n",
       "<path fill=\"#399de5\" fill-opacity=\"0.768627\" stroke=\"black\" d=\"M654.5,-140C654.5,-140 475.5,-140 475.5,-140 469.5,-140 463.5,-134 463.5,-128 463.5,-128 463.5,-84 463.5,-84 463.5,-78 469.5,-72 475.5,-72 475.5,-72 654.5,-72 654.5,-72 660.5,-72 666.5,-78 666.5,-84 666.5,-84 666.5,-128 666.5,-128 666.5,-134 660.5,-140 654.5,-140\"/>\r\n",
       "<text text-anchor=\"start\" x=\"521\" y=\"-124.8\" font-family=\"Helvetica,sans-Serif\" font-size=\"14.00\">terribl ≤ 0.175</text>\r\n",
       "<text text-anchor=\"start\" x=\"527.5\" y=\"-109.8\" font-family=\"Helvetica,sans-Serif\" font-size=\"14.00\">gini = 0.305</text>\r\n",
       "<text text-anchor=\"start\" x=\"509\" y=\"-94.8\" font-family=\"Helvetica,sans-Serif\" font-size=\"14.00\">samples = 14099</text>\r\n",
       "<text text-anchor=\"start\" x=\"471.5\" y=\"-79.8\" font-family=\"Helvetica,sans-Serif\" font-size=\"14.00\">value = [1786.414, 7744.946]</text>\r\n",
       "</g>\r\n",
       "<!-- 5696&#45;&gt;5697 -->\r\n",
       "<g id=\"edge9\" class=\"edge\"><title>5696&#45;&gt;5697</title>\r\n",
       "<path fill=\"none\" stroke=\"black\" d=\"M566.351,-175.884C566.192,-167.778 566.019,-158.982 565.852,-150.472\"/>\r\n",
       "<polygon fill=\"black\" stroke=\"black\" points=\"569.348,-150.229 565.653,-140.299 562.35,-150.366 569.348,-150.229\"/>\r\n",
       "</g>\r\n",
       "<!-- 6574 -->\r\n",
       "<g id=\"node13\" class=\"node\"><title>6574</title>\r\n",
       "<path fill=\"#e58139\" fill-opacity=\"0.537255\" stroke=\"black\" d=\"M851.5,-140C851.5,-140 696.5,-140 696.5,-140 690.5,-140 684.5,-134 684.5,-128 684.5,-128 684.5,-84 684.5,-84 684.5,-78 690.5,-72 696.5,-72 696.5,-72 851.5,-72 851.5,-72 857.5,-72 863.5,-78 863.5,-84 863.5,-84 863.5,-128 863.5,-128 863.5,-134 857.5,-140 851.5,-140\"/>\r\n",
       "<text text-anchor=\"start\" x=\"732\" y=\"-124.8\" font-family=\"Helvetica,sans-Serif\" font-size=\"14.00\">price ≤ 0.031</text>\r\n",
       "<text text-anchor=\"start\" x=\"736.5\" y=\"-109.8\" font-family=\"Helvetica,sans-Serif\" font-size=\"14.00\">gini = 0.432</text>\r\n",
       "<text text-anchor=\"start\" x=\"726.5\" y=\"-94.8\" font-family=\"Helvetica,sans-Serif\" font-size=\"14.00\">samples = 207</text>\r\n",
       "<text text-anchor=\"start\" x=\"692.5\" y=\"-79.8\" font-family=\"Helvetica,sans-Serif\" font-size=\"14.00\">value = [197.062, 91.137]</text>\r\n",
       "</g>\r\n",
       "<!-- 5696&#45;&gt;6574 -->\r\n",
       "<g id=\"edge12\" class=\"edge\"><title>5696&#45;&gt;6574</title>\r\n",
       "<path fill=\"none\" stroke=\"black\" d=\"M634.207,-175.884C654.465,-165.901 676.848,-154.872 697.655,-144.619\"/>\r\n",
       "<polygon fill=\"black\" stroke=\"black\" points=\"699.353,-147.684 706.776,-140.125 696.259,-141.405 699.353,-147.684\"/>\r\n",
       "</g>\r\n",
       "<!-- 5698 -->\r\n",
       "<g id=\"node11\" class=\"node\"><title>5698</title>\r\n",
       "<path fill=\"#c0c0c0\" stroke=\"black\" d=\"M544,-36C544,-36 514,-36 514,-36 508,-36 502,-30 502,-24 502,-24 502,-12 502,-12 502,-6 508,-0 514,-0 514,-0 544,-0 544,-0 550,-0 556,-6 556,-12 556,-12 556,-24 556,-24 556,-30 550,-36 544,-36\"/>\r\n",
       "<text text-anchor=\"middle\" x=\"529\" y=\"-14.3\" font-family=\"Helvetica,sans-Serif\" font-size=\"14.00\">(...)</text>\r\n",
       "</g>\r\n",
       "<!-- 5697&#45;&gt;5698 -->\r\n",
       "<g id=\"edge10\" class=\"edge\"><title>5697&#45;&gt;5698</title>\r\n",
       "<path fill=\"none\" stroke=\"black\" d=\"M551.184,-71.9961C547.536,-63.2804 543.645,-53.9846 540.156,-45.6514\"/>\r\n",
       "<polygon fill=\"black\" stroke=\"black\" points=\"543.375,-44.2763 536.285,-36.4034 536.918,-46.9793 543.375,-44.2763\"/>\r\n",
       "</g>\r\n",
       "<!-- 6553 -->\r\n",
       "<g id=\"node12\" class=\"node\"><title>6553</title>\r\n",
       "<path fill=\"#c0c0c0\" stroke=\"black\" d=\"M616,-36C616,-36 586,-36 586,-36 580,-36 574,-30 574,-24 574,-24 574,-12 574,-12 574,-6 580,-0 586,-0 586,-0 616,-0 616,-0 622,-0 628,-6 628,-12 628,-12 628,-24 628,-24 628,-30 622,-36 616,-36\"/>\r\n",
       "<text text-anchor=\"middle\" x=\"601\" y=\"-14.3\" font-family=\"Helvetica,sans-Serif\" font-size=\"14.00\">(...)</text>\r\n",
       "</g>\r\n",
       "<!-- 5697&#45;&gt;6553 -->\r\n",
       "<g id=\"edge11\" class=\"edge\"><title>5697&#45;&gt;6553</title>\r\n",
       "<path fill=\"none\" stroke=\"black\" d=\"M578.816,-71.9961C582.464,-63.2804 586.355,-53.9846 589.844,-45.6514\"/>\r\n",
       "<polygon fill=\"black\" stroke=\"black\" points=\"593.082,-46.9793 593.715,-36.4034 586.625,-44.2763 593.082,-46.9793\"/>\r\n",
       "</g>\r\n",
       "<!-- 6575 -->\r\n",
       "<g id=\"node14\" class=\"node\"><title>6575</title>\r\n",
       "<path fill=\"#c0c0c0\" stroke=\"black\" d=\"M753,-36C753,-36 723,-36 723,-36 717,-36 711,-30 711,-24 711,-24 711,-12 711,-12 711,-6 717,-0 723,-0 723,-0 753,-0 753,-0 759,-0 765,-6 765,-12 765,-12 765,-24 765,-24 765,-30 759,-36 753,-36\"/>\r\n",
       "<text text-anchor=\"middle\" x=\"738\" y=\"-14.3\" font-family=\"Helvetica,sans-Serif\" font-size=\"14.00\">(...)</text>\r\n",
       "</g>\r\n",
       "<!-- 6574&#45;&gt;6575 -->\r\n",
       "<g id=\"edge13\" class=\"edge\"><title>6574&#45;&gt;6575</title>\r\n",
       "<path fill=\"none\" stroke=\"black\" d=\"M760.184,-71.9961C756.536,-63.2804 752.645,-53.9846 749.156,-45.6514\"/>\r\n",
       "<polygon fill=\"black\" stroke=\"black\" points=\"752.375,-44.2763 745.285,-36.4034 745.918,-46.9793 752.375,-44.2763\"/>\r\n",
       "</g>\r\n",
       "<!-- 6636 -->\r\n",
       "<g id=\"node15\" class=\"node\"><title>6636</title>\r\n",
       "<path fill=\"#c0c0c0\" stroke=\"black\" d=\"M825,-36C825,-36 795,-36 795,-36 789,-36 783,-30 783,-24 783,-24 783,-12 783,-12 783,-6 789,-0 795,-0 795,-0 825,-0 825,-0 831,-0 837,-6 837,-12 837,-12 837,-24 837,-24 837,-30 831,-36 825,-36\"/>\r\n",
       "<text text-anchor=\"middle\" x=\"810\" y=\"-14.3\" font-family=\"Helvetica,sans-Serif\" font-size=\"14.00\">(...)</text>\r\n",
       "</g>\r\n",
       "<!-- 6574&#45;&gt;6636 -->\r\n",
       "<g id=\"edge14\" class=\"edge\"><title>6574&#45;&gt;6636</title>\r\n",
       "<path fill=\"none\" stroke=\"black\" d=\"M787.816,-71.9961C791.464,-63.2804 795.355,-53.9846 798.844,-45.6514\"/>\r\n",
       "<polygon fill=\"black\" stroke=\"black\" points=\"802.082,-46.9793 802.715,-36.4034 795.625,-44.2763 802.082,-46.9793\"/>\r\n",
       "</g>\r\n",
       "</g>\r\n",
       "</svg>\r\n"
      ],
      "text/plain": [
       "<graphviz.files.Source at 0x4d4e2417b8>"
      ]
     },
     "execution_count": 206,
     "metadata": {},
     "output_type": "execute_result"
    }
   ],
   "source": [
    "dot_data = tree.export_graphviz(clf, out_file=None,max_depth=2,  \n",
    "                         filled=True, rounded=True,feature_names=sorted_words,\n",
    "                         special_characters=True)  \n",
    "graph = graphviz.Source(dot_data) \n",
    "graph"
   ]
  },
  {
   "cell_type": "markdown",
   "metadata": {},
   "source": [
    "** AVG W2V Vectorizer **"
   ]
  },
  {
   "cell_type": "code",
   "execution_count": 208,
   "metadata": {
    "collapsed": true
   },
   "outputs": [],
   "source": [
    "w2v_data = X_train\n",
    "\n",
    "splitted = []\n",
    "for row in w2v_data: \n",
    "    splitted.append([word for word in row.split()])     #splitting words\n",
    "    \n",
    "train_w2v = Word2Vec(splitted,min_count=5,size=150, workers=4)\n",
    "\n",
    "avg_X_train = []\n",
    "for row in splitted:\n",
    "    vec = np.zeros(150)\n",
    "    count = 0\n",
    "    for word in row:\n",
    "        try:\n",
    "            vec += train_w2v[word]\n",
    "            count += 1\n",
    "        except:\n",
    "            pass\n",
    "    avg_X_train.append(vec/count)\n",
    "    \n",
    "#================================================================\n",
    "w2v_data = X_test\n",
    "\n",
    "splitted = []\n",
    "for row in w2v_data: \n",
    "    splitted.append([word for word in row.split()])     #splitting words\n",
    "    \n",
    "train_w2v = Word2Vec(splitted,min_count=5,size=150, workers=4)\n",
    "\n",
    "avg_X_test = []\n",
    "for row in splitted:\n",
    "    vec = np.zeros(150)\n",
    "    count = 0\n",
    "    for word in row:\n",
    "        try:\n",
    "            vec += train_w2v[word]\n",
    "            count += 1\n",
    "        except:\n",
    "            pass\n",
    "    if count==0:\n",
    "        avg_X_test.append(vec)\n",
    "    else:\n",
    "        avg_X_test.append(vec/count)"
   ]
  },
  {
   "cell_type": "markdown",
   "metadata": {},
   "source": [
    "** GridSearchCV **"
   ]
  },
  {
   "cell_type": "code",
   "execution_count": 209,
   "metadata": {},
   "outputs": [
    {
     "name": "stdout",
     "output_type": "stream",
     "text": [
      "best depth =  {'max_depth': 44}\n",
      "Accuracy on train data =  84.71142857142857\n"
     ]
    }
   ],
   "source": [
    "depth = [i for i in range(20,60,4)]\n",
    "clf = DecisionTreeClassifier(class_weight ='balanced')\n",
    "param_grid = {'max_depth':depth}\n",
    "grid = GridSearchCV(estimator = clf,param_grid=param_grid ,cv = 3,n_jobs = 3)\n",
    "grid.fit(avg_X_train, y_train)\n",
    "print(\"best depth = \", grid.best_params_)\n",
    "print(\"Accuracy on train data = \", grid.best_score_*100)\n",
    "a = grid.best_params_"
   ]
  },
  {
   "cell_type": "code",
   "execution_count": 210,
   "metadata": {},
   "outputs": [
    {
     "data": {
      "image/png": "[encoded data removed]",
      "text/plain": [
       "<matplotlib.figure.Figure at 0x4d4e424278>"
      ]
     },
     "metadata": {},
     "output_type": "display_data"
    }
   ],
   "source": [
    "error = [(1-i)*100 for i in grid.cv_results_['mean_test_score']]\n",
    "plt.plot(depth, error)\n",
    "plt.title('Error plot for AVG W2V')\n",
    "plt.xlabel('Depth of Tree')\n",
    "plt.ylabel('Test_Error')\n",
    "plt.show()"
   ]
  },
  {
   "cell_type": "code",
   "execution_count": 211,
   "metadata": {},
   "outputs": [
    {
     "name": "stdout",
     "output_type": "stream",
     "text": [
      "44\n"
     ]
    }
   ],
   "source": [
    "optimal_depth3 = a.get('max_depth')\n",
    "print(optimal_depth3)"
   ]
  },
  {
   "cell_type": "code",
   "execution_count": 212,
   "metadata": {},
   "outputs": [
    {
     "name": "stdout",
     "output_type": "stream",
     "text": [
      "\n",
      "Accuracy=83.903333%\n",
      "\n",
      "precision=86.907932%\n",
      "\n",
      "recall=95.783621%\n",
      "\n",
      "F1-Score=91.130173%\n"
     ]
    }
   ],
   "source": [
    "clf = DecisionTreeClassifier(max_depth = optimal_depth3,class_weight = 'balanced')\n",
    "\n",
    "clf.fit(avg_X_train,y_train)\n",
    "\n",
    "pred = clf.predict(avg_X_test)\n",
    "\n",
    "acc3 = accuracy_score(y_test, pred) * 100\n",
    "pre3 = precision_score(y_test, pred) * 100\n",
    "rec3 = recall_score(y_test, pred) * 100\n",
    "f13 = f1_score(y_test, pred) * 100\n",
    "\n",
    "print('\\nAccuracy=%f%%' % (acc3))\n",
    "print('\\nprecision=%f%%' % (pre3))\n",
    "print('\\nrecall=%f%%' % (rec3))\n",
    "print('\\nF1-Score=%f%%' % (f13))"
   ]
  },
  {
   "cell_type": "code",
   "execution_count": 213,
   "metadata": {},
   "outputs": [
    {
     "data": {
      "image/png": "[encoded data removed]",
      "text/plain": [
       "<matplotlib.figure.Figure at 0x4d4ed75dd8>"
      ]
     },
     "metadata": {},
     "output_type": "display_data"
    }
   ],
   "source": [
    "cm = confusion_matrix(y_test,pred)\n",
    "sns.heatmap(cm, annot=True,fmt='d')\n",
    "plt.title('Confusion Matrix for AVG W2V')\n",
    "plt.show()"
   ]
  },
  {
   "cell_type": "code",
   "execution_count": 214,
   "metadata": {
    "collapsed": true
   },
   "outputs": [],
   "source": [
    "del avg_X_train\n",
    "del avg_X_test"
   ]
  },
  {
   "cell_type": "markdown",
   "metadata": {},
   "source": [
    "** TF_IDF W2V Vectorizer **"
   ]
  },
  {
   "cell_type": "code",
   "execution_count": 215,
   "metadata": {
    "collapsed": true
   },
   "outputs": [],
   "source": [
    "tf_w_data = X_train\n",
    "tf_idf = TfidfVectorizer(max_features=5000)\n",
    "tf_idf_data = tf_idf.fit_transform(tf_w_data)\n",
    "tf_train_data = []\n",
    "tf_idf_data = tf_idf_data.toarray()\n",
    "i = 0\n",
    "splitted = []\n",
    "for row in tf_w_data: \n",
    "    splitted.append([word for word in row.split()])\n",
    "for row in splitted:\n",
    "    vec = [0 for i in range(150)]\n",
    "    \n",
    "    temp_tfidf = []\n",
    "    for val in tf_idf_data[i]:\n",
    "        if val != 0:\n",
    "            temp_tfidf.append(val)\n",
    "    \n",
    "    count = 0\n",
    "    tf_idf_sum = 0\n",
    "    for word in row:\n",
    "        try:\n",
    "            count += 1\n",
    "            tf_idf_sum = tf_idf_sum + temp_tfidf[count-1]\n",
    "            vec += (temp_tfidf[count-1] * train_w2v[word])\n",
    "        except:\n",
    "            pass\n",
    "    #print(vec)\n",
    "    try:\n",
    "        vec = (float)(1/tf_idf_sum) * vec\n",
    "    except:\n",
    "        pass\n",
    "    tf_train_data.append(vec)\n",
    "    i = i + 1\n",
    "    \n",
    "    \n",
    "    \n",
    "#====================================================================================\n",
    "\n",
    "tf_w_data = X_test\n",
    "tf_idf_data = tf_idf.transform(tf_w_data)\n",
    "tf_test_data = []\n",
    "tf_idf_data = tf_idf_data.toarray()\n",
    "i = 0\n",
    "splitted = []\n",
    "for row in tf_w_data: \n",
    "    splitted.append([word for word in row.split()])\n",
    "for row in splitted:\n",
    "    vec = [0 for i in range(150)]\n",
    "    \n",
    "    temp_tfidf = []\n",
    "    for val in tf_idf_data[i]:\n",
    "        if val != 0:\n",
    "            temp_tfidf.append(val)\n",
    "    \n",
    "    count = 0\n",
    "    tf_idf_sum = 0\n",
    "    for word in row:\n",
    "        try:\n",
    "            count += 1\n",
    "            tf_idf_sum = tf_idf_sum + temp_tfidf[count-1]\n",
    "            vec += (temp_tfidf[count-1] * train_w2v[word])\n",
    "        except:\n",
    "            pass\n",
    "    try:\n",
    "        vec = (float)(1/tf_idf_sum) * vec\n",
    "    except:\n",
    "        pass\n",
    "    tf_test_data.append(vec)\n",
    "    i = i + 1"
   ]
  },
  {
   "cell_type": "markdown",
   "metadata": {},
   "source": [
    "** GridSearchCV **"
   ]
  },
  {
   "cell_type": "code",
   "execution_count": 216,
   "metadata": {},
   "outputs": [
    {
     "name": "stdout",
     "output_type": "stream",
     "text": [
      "best depth =  {'max_depth': 44}\n",
      "Accuracy on train data =  83.67857142857143\n"
     ]
    }
   ],
   "source": [
    "depth = [i for i in range(20,60,4)]\n",
    "clf = DecisionTreeClassifier(class_weight ='balanced')\n",
    "param_grid = {'max_depth':depth}\n",
    "grid = GridSearchCV(estimator = clf,param_grid=param_grid ,cv = 3,n_jobs = 3)\n",
    "grid.fit(tf_train_data, y_train)\n",
    "print(\"best depth = \", grid.best_params_)\n",
    "print(\"Accuracy on train data = \", grid.best_score_*100)\n",
    "a = grid.best_params_"
   ]
  },
  {
   "cell_type": "code",
   "execution_count": 217,
   "metadata": {},
   "outputs": [
    {
     "data": {
      "image/png": "[encoded data removed]",
      "text/plain": [
       "<matplotlib.figure.Figure at 0x4d95c6c198>"
      ]
     },
     "metadata": {},
     "output_type": "display_data"
    }
   ],
   "source": [
    "error = [(1-i)*100 for i in grid.cv_results_['mean_test_score']]\n",
    "plt.plot(depth, error)\n",
    "plt.title('Error plot for TF-IDF W2V')\n",
    "plt.xlabel('Depth of Tree')\n",
    "plt.ylabel('Test_Error')\n",
    "plt.show()"
   ]
  },
  {
   "cell_type": "code",
   "execution_count": 218,
   "metadata": {},
   "outputs": [
    {
     "name": "stdout",
     "output_type": "stream",
     "text": [
      "44\n"
     ]
    }
   ],
   "source": [
    "optimal_depth4 = a.get('max_depth')\n",
    "print(optimal_depth4)"
   ]
  },
  {
   "cell_type": "code",
   "execution_count": 219,
   "metadata": {},
   "outputs": [
    {
     "name": "stdout",
     "output_type": "stream",
     "text": [
      "\n",
      "Accuracy=82.626667%\n",
      "\n",
      "precision=89.312455%\n",
      "\n",
      "recall=90.733233%\n",
      "\n",
      "F1-Score=90.017238%\n"
     ]
    }
   ],
   "source": [
    "clf = DecisionTreeClassifier(max_depth = optimal_depth3,class_weight = 'balanced')\n",
    "\n",
    "clf.fit(tf_train_data,y_train)\n",
    "\n",
    "pred = clf.predict(tf_test_data)\n",
    "\n",
    "acc4 = accuracy_score(y_test, pred) * 100\n",
    "pre4 = precision_score(y_test, pred) * 100\n",
    "rec4 = recall_score(y_test, pred) * 100\n",
    "f14 = f1_score(y_test, pred) * 100\n",
    "\n",
    "print('\\nAccuracy=%f%%' % (acc4))\n",
    "print('\\nprecision=%f%%' % (pre4))\n",
    "print('\\nrecall=%f%%' % (rec4))\n",
    "print('\\nF1-Score=%f%%' % (f14))"
   ]
  },
  {
   "cell_type": "code",
   "execution_count": 220,
   "metadata": {},
   "outputs": [
    {
     "data": {
      "image/png": "[encoded data removed]",
      "text/plain": [
       "<matplotlib.figure.Figure at 0x4d21c8aeb8>"
      ]
     },
     "metadata": {},
     "output_type": "display_data"
    }
   ],
   "source": [
    "cm = confusion_matrix(y_test,pred)\n",
    "sns.heatmap(cm, annot=True,fmt='d')\n",
    "plt.title('Confusion Matrix for TF-IDF W2V')\n",
    "plt.show()"
   ]
  },
  {
   "cell_type": "code",
   "execution_count": 221,
   "metadata": {
    "collapsed": true
   },
   "outputs": [],
   "source": [
    "del tf_train_data\n",
    "del tf_test_data"
   ]
  },
  {
   "cell_type": "code",
   "execution_count": 222,
   "metadata": {},
   "outputs": [
    {
     "name": "stdout",
     "output_type": "stream",
     "text": [
      "+------------+------------+-------------+---------------+--------------+-----------+-------------+\n",
      "|   Model    | Tree Depth | Test_Acc(%) | Test_Error(%) | Precision(%) | Recall(%) | F1-Score(%) |\n",
      "+------------+------------+-------------+---------------+--------------+-----------+-------------+\n",
      "|    BoW     |     56     |    81.93    |     18.07     |    92.57     |   85.96   |    89.14    |\n",
      "|   TF-IDF   |     56     |    81.23    |     18.77     |    92.99     |   84.64   |    88.62    |\n",
      "|  AVG W2V   |     44     |     83.9    |      16.1     |    86.91     |   95.78   |    91.13    |\n",
      "| TF-IDF W2V |     44     |    82.63    |     17.37     |    89.31     |   90.73   |    90.02    |\n",
      "+------------+------------+-------------+---------------+--------------+-----------+-------------+\n"
     ]
    }
   ],
   "source": [
    "x = PrettyTable()\n",
    "\n",
    "model1 = 'BoW'\n",
    "model2 = 'TF-IDF'\n",
    "model3 = 'AVG W2V'\n",
    "model4 = 'TF-IDF W2V'\n",
    "\n",
    "x.field_names = [\"Model\",\"Tree Depth\",\"Test_Acc(%)\",\"Test_Error(%)\",\"Precision(%)\",\"Recall(%)\",\"F1-Score(%)\"]\n",
    "\n",
    "acc1 = np.around(acc1, decimals = 2)\n",
    "err1 = np.around(100-acc1, decimals = 2) \n",
    "pre1 = np.around(pre1, decimals = 2)\n",
    "rec1 = np.around(rec1, decimals = 2)\n",
    "f11 = np.around(f11, decimals = 2)\n",
    "\n",
    "acc2 = np.around(acc2, decimals = 2)\n",
    "err2 = np.around(100-acc2, decimals = 2) \n",
    "pre2 = np.around(pre2, decimals = 2)\n",
    "rec2 = np.around(rec2, decimals = 2)\n",
    "f12= np.around(f12, decimals = 2)\n",
    "\n",
    "acc3 = np.around(acc3, decimals = 2)\n",
    "err3 = np.around(100-acc3, decimals = 2) \n",
    "pre3 = np.around(pre3, decimals = 2)\n",
    "rec3 = np.around(rec3, decimals = 2)\n",
    "f13= np.around(f13, decimals = 2)\n",
    "\n",
    "acc4 = np.around(acc4, decimals = 2)\n",
    "err4 = np.around(100-acc4, decimals = 2) \n",
    "pre4 = np.around(pre4, decimals = 2)\n",
    "rec4 = np.around(rec4, decimals = 2)\n",
    "f14 = np.around(f14, decimals = 2)\n",
    "\n",
    "x.add_row([model1,optimal_depth,acc1,err1,pre1,rec1,f11])\n",
    "x.add_row([model2,optimal_depth2,acc2,err2,pre2,rec2,f12])\n",
    "x.add_row([model3,optimal_depth3,acc3,err3,pre3,rec3,f13])\n",
    "x.add_row([model4,optimal_depth4,acc4,err4,pre4,rec4,f14])\n",
    "\n",
    "print(x)"
   ]
  },
  {
   "cell_type": "markdown",
   "metadata": {},
   "source": [
    "** Observations and Summary **\n",
    "\n",
    "* Considered 100k datapoints for running this model\n",
    "* To find optimal depth of tree used GridSearchCV and shown in table format using prettytable.\n",
    "* Used all metrics systems to have a depth look of what happening to data predictions.\n",
    "* Used Pretty table to show all the data in a table format so that user can understand whats going on with every model.\n",
    "* I see that AVG W2V model gave best accuracy compared to other models."
   ]
  }
 ],
 "metadata": {
  "kernelspec": {
   "display_name": "Python 3",
   "language": "python",
   "name": "python3"
  },
  "language_info": {
   "codemirror_mode": {
    "name": "ipython",
    "version": 3
   },
   "file_extension": ".py",
   "mimetype": "text/x-python",
   "name": "python",
   "nbconvert_exporter": "python",
   "pygments_lexer": "ipython3",
   "version": "3.6.3"
  }
 },
 "nbformat": 4,
 "nbformat_minor": 2
}

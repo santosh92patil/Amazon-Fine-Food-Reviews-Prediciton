{
 "cells": [
  {
   "cell_type": "code",
   "execution_count": 1,
   "metadata": {
    "collapsed": true
   },
   "outputs": [],
   "source": [
    "import warnings\n",
    "warnings.filterwarnings(\"ignore\")\n",
    "\n",
    "import pandas as pd\n",
    "import numpy as np\n",
    "\n",
    "import nltk\n",
    "from nltk.corpus import stopwords\n",
    "from nltk.stem import PorterStemmer\n",
    "\n",
    "from sklearn.feature_extraction.text import CountVectorizer\n",
    "from sklearn.feature_extraction.text import TfidfVectorizer\n",
    "from gensim.models import Word2Vec\n",
    "\n",
    "from prettytable import PrettyTable\n",
    "import pickle\n",
    "import seaborn as sns\n",
    "import matplotlib.pyplot as plt\n",
    "\n",
    "\n",
    "from xgboost import XGBClassifier\n",
    "from sklearn.ensemble import RandomForestClassifier\n",
    "\n",
    "from sklearn.metrics import accuracy_score\n",
    "from sklearn.metrics import precision_score\n",
    "from sklearn.metrics import f1_score\n",
    "from sklearn.metrics import recall_score\n",
    "from sklearn.metrics import confusion_matrix\n",
    "\n",
    "from sklearn.model_selection import GridSearchCV"
   ]
  },
  {
   "cell_type": "code",
   "execution_count": 2,
   "metadata": {
    "collapsed": true
   },
   "outputs": [],
   "source": [
    "df = pd.read_csv('Reviews.csv')\n",
    "data = df"
   ]
  },
  {
   "cell_type": "code",
   "execution_count": 3,
   "metadata": {
    "collapsed": true
   },
   "outputs": [],
   "source": [
    "#Removing Neural reviews\n",
    "data_s = data[data['Score']!=3]\n",
    "\n",
    "#Updating Score to 0 or 1\n",
    "def partition(x):\n",
    "    if x<3:\n",
    "        return 0\n",
    "    return 1\n",
    "\n",
    "score_upd = data_s['Score']\n",
    "temp = score_upd.map(partition)\n",
    "data_s['Score'] = temp"
   ]
  },
  {
   "cell_type": "code",
   "execution_count": 4,
   "metadata": {
    "collapsed": true
   },
   "outputs": [],
   "source": [
    "final_data = data_s.drop_duplicates(subset=('UserId','ProfileName','Time','Text'))\n",
    "final = final_data[final_data['HelpfulnessNumerator']<=final_data['HelpfulnessDenominator']]"
   ]
  },
  {
   "cell_type": "code",
   "execution_count": 5,
   "metadata": {},
   "outputs": [
    {
     "name": "stdout",
     "output_type": "stream",
     "text": [
      "25000\n",
      "25000\n"
     ]
    }
   ],
   "source": [
    "#Balancing data Considering only 50k +ve and 50k -ve points\n",
    "count_p = 0\n",
    "count_n = 0\n",
    "b_f =[]\n",
    "for row in final.itertuples():\n",
    "    if row[7] == 1 and count_p < 25000:\n",
    "        b_f.append(row)\n",
    "        count_p += 1\n",
    "    if row[7] == 0 and count_n < 25000:\n",
    "        b_f.append(row)\n",
    "        count_n += 1\n",
    "print(count_p)\n",
    "print(count_n)"
   ]
  },
  {
   "cell_type": "code",
   "execution_count": 7,
   "metadata": {
    "collapsed": true
   },
   "outputs": [],
   "source": [
    "fin_bal = pd.DataFrame(b_f)"
   ]
  },
  {
   "cell_type": "code",
   "execution_count": 8,
   "metadata": {
    "collapsed": true
   },
   "outputs": [],
   "source": [
    "final = fin_bal.sort_values(['Time'], axis=0)\n",
    "\n",
    "final_X = final['Text']\n",
    "final_y = final['Score']"
   ]
  },
  {
   "cell_type": "code",
   "execution_count": 9,
   "metadata": {},
   "outputs": [
    {
     "name": "stdout",
     "output_type": "stream",
     "text": [
      "100.00 %\r"
     ]
    }
   ],
   "source": [
    "import re\n",
    "temp_1 =[]\n",
    "snow = nltk.stem.SnowballStemmer('english')\n",
    "i = 0\n",
    "N = len(final_X)\n",
    "for sentence in final_X:\n",
    "    sentence = sentence.lower()\n",
    "    cleanr = re.compile('<.*?>')\n",
    "    sentence = re.sub(cleanr, ' ', sentence)        #Removing HTML tags\n",
    "    sentence = re.sub(r'[?|!|\\'|\"|#]',r'',sentence)\n",
    "    sentence = re.sub(r'[.|,|)|(|\\|/]',r' ',sentence)        #Removing Punctuations\n",
    "    \n",
    "    words = [snow.stem(word) for word in sentence.split() if word not in stopwords.words('english')]        #Splitting the words\n",
    "    temp_1.append(words)                                                                            # and doing stemming\n",
    "    print(\"{0:.2f} %\".format((i/N)*100),end ='\\r')\n",
    "    i = i+1\n",
    "    \n",
    "final_X = temp_1 "
   ]
  },
  {
   "cell_type": "code",
   "execution_count": 10,
   "metadata": {
    "collapsed": true
   },
   "outputs": [],
   "source": [
    "sent = []\n",
    "for row in final_X:\n",
    "    seq = ''\n",
    "    for word in row:\n",
    "        seq = seq + ' ' + word\n",
    "    sent.append(seq)\n",
    "\n",
    "final_X = sent"
   ]
  },
  {
   "cell_type": "code",
   "execution_count": 11,
   "metadata": {
    "collapsed": true
   },
   "outputs": [],
   "source": [
    "X_train = final_X[:37000]\n",
    "X_test = final_X[37000:]\n",
    "y_train = final_y[:37000]\n",
    "y_test = final_y[37000:]"
   ]
  },
  {
   "cell_type": "code",
   "execution_count": 12,
   "metadata": {
    "collapsed": true
   },
   "outputs": [],
   "source": [
    "# Bag of Words\n",
    "\n",
    "count_vect = CountVectorizer(max_features = 2000)\n",
    "bow_X_train = count_vect.fit_transform(X_train)\n",
    "bow_X_test = count_vect.transform(X_test)"
   ]
  },
  {
   "cell_type": "code",
   "execution_count": 13,
   "metadata": {},
   "outputs": [
    {
     "name": "stdout",
     "output_type": "stream",
     "text": [
      "best depth =  {'max_depth': 21, 'n_estimators': 151}\n",
      "Accuracy on train data =  85.14324324324323\n"
     ]
    }
   ],
   "source": [
    "bases = [i for i in range(1,200,50)]\n",
    "depth = [i for i in range(1,100,20)]\n",
    "clf = XGBClassifier(booster='gbtree', )\n",
    "param_grid = {'max_depth':depth,'n_estimators':bases}\n",
    "grid = GridSearchCV(estimator = clf,param_grid=param_grid ,cv = 3,n_jobs = 3)\n",
    "grid.fit(bow_X_train, y_train)\n",
    "print(\"best depth = \", grid.best_params_)\n",
    "print(\"Accuracy on train data = \", grid.best_score_*100)\n",
    "a = grid.best_params_"
   ]
  },
  {
   "cell_type": "code",
   "execution_count": 14,
   "metadata": {},
   "outputs": [
    {
     "name": "stdout",
     "output_type": "stream",
     "text": [
      "21\n",
      "151\n"
     ]
    }
   ],
   "source": [
    "optimal_depth = a.get('max_depth')\n",
    "optimal_bases = a.get('n_estimators')\n",
    "print(optimal_depth)\n",
    "print(optimal_bases)"
   ]
  },
  {
   "cell_type": "code",
   "execution_count": 15,
   "metadata": {},
   "outputs": [
    {
     "name": "stdout",
     "output_type": "stream",
     "text": [
      "\n",
      "Accuracy=86.153846%\n",
      "\n",
      "precision=83.057029%\n",
      "\n",
      "recall=86.558397%\n",
      "\n",
      "F1-Score=84.771574%\n"
     ]
    },
    {
     "name": "stderr",
     "output_type": "stream",
     "text": [
      "C:\\Users\\HP\\Anaconda3\\lib\\site-packages\\sklearn\\preprocessing\\label.py:151: DeprecationWarning: The truth value of an empty array is ambiguous. Returning False, but in future this will result in an error. Use `array.size > 0` to check that an array is not empty.\n",
      "  if diff:\n"
     ]
    }
   ],
   "source": [
    "clf = XGBClassifier(booster='gbtree',max_depth=optimal_depth,n_estimators=optimal_bases)\n",
    "\n",
    "clf.fit(bow_X_train,y_train)\n",
    "\n",
    "pred = clf.predict(bow_X_test)\n",
    "\n",
    "acc = accuracy_score(y_test, pred) * 100\n",
    "pre = precision_score(y_test, pred) * 100\n",
    "rec = recall_score(y_test, pred) * 100\n",
    "f1 = f1_score(y_test, pred) * 100\n",
    "\n",
    "print('\\nAccuracy=%f%%' % (acc))\n",
    "print('\\nprecision=%f%%' % (pre))\n",
    "print('\\nrecall=%f%%' % (rec))\n",
    "print('\\nF1-Score=%f%%' % (f1))"
   ]
  },
  {
   "cell_type": "code",
   "execution_count": 16,
   "metadata": {},
   "outputs": [
    {
     "data": {
      "image/png": "[encoded data removed]",
      "text/plain": [
       "<matplotlib.figure.Figure at 0x4e75aad8d0>"
      ]
     },
     "metadata": {},
     "output_type": "display_data"
    }
   ],
   "source": [
    "cm = confusion_matrix(y_test,pred)\n",
    "sns.heatmap(cm, annot=True,fmt='d')\n",
    "plt.title('Confusion Matrix for BoW')\n",
    "plt.show()"
   ]
  },
  {
   "cell_type": "markdown",
   "metadata": {},
   "source": [
    "** Random Forest **"
   ]
  },
  {
   "cell_type": "code",
   "execution_count": 17,
   "metadata": {},
   "outputs": [
    {
     "name": "stdout",
     "output_type": "stream",
     "text": [
      "best depth =  {'max_depth': 101, 'n_estimators': 151}\n",
      "Accuracy on train data =  84.17567567567568\n"
     ]
    }
   ],
   "source": [
    "bases = [i for i in range(1,200,50)]\n",
    "depth = [i for i in range(1,151,50)]\n",
    "clf = RandomForestClassifier()\n",
    "param_grid = {'max_depth':depth,'n_estimators':bases}\n",
    "grid = GridSearchCV(estimator = clf,param_grid=param_grid ,cv = 3,n_jobs = 3)\n",
    "grid.fit(bow_X_train, y_train)\n",
    "print(\"best depth = \", grid.best_params_)\n",
    "print(\"Accuracy on train data = \", grid.best_score_*100)\n",
    "a = grid.best_params_"
   ]
  },
  {
   "cell_type": "code",
   "execution_count": 18,
   "metadata": {},
   "outputs": [
    {
     "name": "stdout",
     "output_type": "stream",
     "text": [
      "101\n",
      "151\n"
     ]
    }
   ],
   "source": [
    "optimal_depth1 = a.get('max_depth')\n",
    "optimal_bases1 = a.get('n_estimators')\n",
    "print(optimal_depth1)\n",
    "print(optimal_bases1)"
   ]
  },
  {
   "cell_type": "code",
   "execution_count": 19,
   "metadata": {},
   "outputs": [
    {
     "name": "stdout",
     "output_type": "stream",
     "text": [
      "\n",
      "Accuracy=85.376923%\n",
      "\n",
      "precision=82.033954%\n",
      "\n",
      "recall=85.988252%\n",
      "\n",
      "F1-Score=83.964572%\n"
     ]
    }
   ],
   "source": [
    "clf = RandomForestClassifier(max_depth=optimal_depth1,n_estimators=optimal_bases1,n_jobs=3)\n",
    "\n",
    "clf.fit(bow_X_train,y_train)\n",
    "\n",
    "pred = clf.predict(bow_X_test)\n",
    "\n",
    "acc1 = accuracy_score(y_test, pred) * 100\n",
    "pre1 = precision_score(y_test, pred) * 100\n",
    "rec1 = recall_score(y_test, pred) * 100\n",
    "f11 = f1_score(y_test, pred) * 100\n",
    "\n",
    "print('\\nAccuracy=%f%%' % (acc1))\n",
    "print('\\nprecision=%f%%' % (pre1))\n",
    "print('\\nrecall=%f%%' % (rec1))\n",
    "print('\\nF1-Score=%f%%' % (f11))"
   ]
  },
  {
   "cell_type": "code",
   "execution_count": 20,
   "metadata": {},
   "outputs": [
    {
     "data": {
      "image/png": "[encoded data removed]",
      "text/plain": [
       "<matplotlib.figure.Figure at 0x4e758aaf98>"
      ]
     },
     "metadata": {},
     "output_type": "display_data"
    }
   ],
   "source": [
    "cm = confusion_matrix(y_test,pred)\n",
    "sns.heatmap(cm, annot=True,fmt='d')\n",
    "plt.title('Confusion Matrix for BoW')\n",
    "plt.show()"
   ]
  },
  {
   "cell_type": "markdown",
   "metadata": {},
   "source": [
    "## TF-IDF ##"
   ]
  },
  {
   "cell_type": "code",
   "execution_count": 21,
   "metadata": {
    "collapsed": true
   },
   "outputs": [],
   "source": [
    "tf_idf = TfidfVectorizer(max_features=2000)\n",
    "tf_X_train = tf_idf.fit_transform(X_train)\n",
    "tf_X_test = tf_idf.transform(X_test)"
   ]
  },
  {
   "cell_type": "code",
   "execution_count": 22,
   "metadata": {},
   "outputs": [
    {
     "name": "stdout",
     "output_type": "stream",
     "text": [
      "best depth =  {'max_depth': 19, 'n_estimators': 151}\n",
      "Accuracy on train data =  85.02702702702703\n"
     ]
    }
   ],
   "source": [
    "bases = [i for i in range(1,200,50)]\n",
    "depth = [i for i in range(1,30,6)]\n",
    "clf = XGBClassifier(booster='gbtree')\n",
    "param_grid = {'max_depth':depth,'n_estimators':bases}\n",
    "grid = GridSearchCV(estimator = clf,param_grid=param_grid ,cv = 3,n_jobs = 3)\n",
    "grid.fit(tf_X_train, y_train)\n",
    "print(\"best depth = \", grid.best_params_)\n",
    "print(\"Accuracy on train data = \", grid.best_score_*100)\n",
    "a = grid.best_params_"
   ]
  },
  {
   "cell_type": "code",
   "execution_count": 23,
   "metadata": {},
   "outputs": [
    {
     "name": "stdout",
     "output_type": "stream",
     "text": [
      "19\n",
      "151\n"
     ]
    }
   ],
   "source": [
    "optimal_depth2 = a.get('max_depth')\n",
    "optimal_bases2 = a.get('n_estimators')\n",
    "print(optimal_depth2)\n",
    "print(optimal_bases2)"
   ]
  },
  {
   "cell_type": "code",
   "execution_count": 24,
   "metadata": {},
   "outputs": [
    {
     "name": "stdout",
     "output_type": "stream",
     "text": [
      "\n",
      "Accuracy=85.830769%\n",
      "\n",
      "precision=82.806784%\n",
      "\n",
      "recall=86.040083%\n",
      "\n",
      "F1-Score=84.392476%\n"
     ]
    },
    {
     "name": "stderr",
     "output_type": "stream",
     "text": [
      "C:\\Users\\HP\\Anaconda3\\lib\\site-packages\\sklearn\\preprocessing\\label.py:151: DeprecationWarning: The truth value of an empty array is ambiguous. Returning False, but in future this will result in an error. Use `array.size > 0` to check that an array is not empty.\n",
      "  if diff:\n"
     ]
    }
   ],
   "source": [
    "clf = XGBClassifier(booster='gbtree',max_depth=optimal_depth2,n_estimators=optimal_bases2)\n",
    "\n",
    "clf.fit(tf_X_train,y_train)\n",
    "\n",
    "pred = clf.predict(tf_X_test)\n",
    "\n",
    "acc2 = accuracy_score(y_test, pred) * 100\n",
    "pre2 = precision_score(y_test, pred) * 100\n",
    "rec2 = recall_score(y_test, pred) * 100\n",
    "f12= f1_score(y_test, pred) * 100\n",
    "\n",
    "print('\\nAccuracy=%f%%' % (acc2))\n",
    "print('\\nprecision=%f%%' % (pre2))\n",
    "print('\\nrecall=%f%%' % (rec2))\n",
    "print('\\nF1-Score=%f%%' % (f12))"
   ]
  },
  {
   "cell_type": "code",
   "execution_count": 25,
   "metadata": {},
   "outputs": [
    {
     "data": {
      "image/png": "[encoded data removed]",
      "text/plain": [
       "<matplotlib.figure.Figure at 0x4e10cfaac8>"
      ]
     },
     "metadata": {},
     "output_type": "display_data"
    }
   ],
   "source": [
    "cm = confusion_matrix(y_test,pred)\n",
    "sns.heatmap(cm, annot=True,fmt='d')\n",
    "plt.title('Confusion Matrix')\n",
    "plt.show()"
   ]
  },
  {
   "cell_type": "code",
   "execution_count": 26,
   "metadata": {},
   "outputs": [
    {
     "name": "stdout",
     "output_type": "stream",
     "text": [
      "best depth =  {'max_depth': 101, 'n_estimators': 151}\n",
      "Accuracy on train data =  84.24324324324324\n"
     ]
    }
   ],
   "source": [
    "bases = [i for i in range(1,200,50)]\n",
    "depth = [i for i in range(1,151,50)]\n",
    "clf = RandomForestClassifier()\n",
    "param_grid = {'max_depth':depth,'n_estimators':bases}\n",
    "grid = GridSearchCV(estimator = clf,param_grid=param_grid ,cv = 3,n_jobs = 3)\n",
    "grid.fit(tf_X_train, y_train)\n",
    "print(\"best depth = \", grid.best_params_)\n",
    "print(\"Accuracy on train data = \", grid.best_score_*100)\n",
    "a = grid.best_params_"
   ]
  },
  {
   "cell_type": "code",
   "execution_count": 27,
   "metadata": {},
   "outputs": [
    {
     "name": "stdout",
     "output_type": "stream",
     "text": [
      "101\n",
      "151\n"
     ]
    }
   ],
   "source": [
    "optimal_depth3 = a.get('max_depth')\n",
    "optimal_bases3 = a.get('n_estimators')\n",
    "print(optimal_depth3)\n",
    "print(optimal_bases3)"
   ]
  },
  {
   "cell_type": "code",
   "execution_count": 28,
   "metadata": {},
   "outputs": [
    {
     "name": "stdout",
     "output_type": "stream",
     "text": [
      "\n",
      "Accuracy=85.569231%\n",
      "\n",
      "precision=82.086614%\n",
      "\n",
      "recall=86.454734%\n",
      "\n",
      "F1-Score=84.214069%\n"
     ]
    }
   ],
   "source": [
    "clf = RandomForestClassifier(max_depth=optimal_depth3,n_estimators=optimal_bases3,n_jobs=3)\n",
    "\n",
    "clf.fit(tf_X_train,y_train)\n",
    "\n",
    "pred = clf.predict(tf_X_test)\n",
    "\n",
    "acc3 = accuracy_score(y_test, pred) * 100\n",
    "pre3 = precision_score(y_test, pred) * 100\n",
    "rec3 = recall_score(y_test, pred) * 100\n",
    "f13 = f1_score(y_test, pred) * 100\n",
    "\n",
    "print('\\nAccuracy=%f%%' % (acc3))\n",
    "print('\\nprecision=%f%%' % (pre3))\n",
    "print('\\nrecall=%f%%' % (rec3))\n",
    "print('\\nF1-Score=%f%%' % (f13))"
   ]
  },
  {
   "cell_type": "code",
   "execution_count": 29,
   "metadata": {},
   "outputs": [
    {
     "data": {
      "image/png": "[encoded data removed]",
      "text/plain": [
       "<matplotlib.figure.Figure at 0x4e75acf518>"
      ]
     },
     "metadata": {},
     "output_type": "display_data"
    }
   ],
   "source": [
    "cm = confusion_matrix(y_test,pred)\n",
    "sns.heatmap(cm, annot=True,fmt='d')\n",
    "plt.title('Confusion Matrix')\n",
    "plt.show()"
   ]
  },
  {
   "cell_type": "code",
   "execution_count": 31,
   "metadata": {
    "collapsed": true
   },
   "outputs": [],
   "source": [
    "w2v_data = X_train\n",
    "\n",
    "splitted = []\n",
    "for row in w2v_data: \n",
    "    splitted.append([word for word in row.split()])     #splitting words\n",
    "    \n",
    "train_w2v = Word2Vec(splitted,min_count=5,size=150, workers=4)\n",
    "\n",
    "avg_X_train = []\n",
    "for row in splitted:\n",
    "    vec = np.zeros(150)\n",
    "    count = 0\n",
    "    for word in row:\n",
    "        try:\n",
    "            vec += train_w2v[word]\n",
    "            count += 1\n",
    "        except:\n",
    "            pass\n",
    "    avg_X_train.append(vec/count)\n",
    "    \n",
    "#================================================================\n",
    "w2v_data = X_test\n",
    "\n",
    "splitted = []\n",
    "for row in w2v_data: \n",
    "    splitted.append([word for word in row.split()])     #splitting words\n",
    "    \n",
    "train_w2v = Word2Vec(splitted,min_count=5,size=150, workers=4)\n",
    "\n",
    "avg_X_test = []\n",
    "for row in splitted:\n",
    "    vec = np.zeros(150)\n",
    "    count = 0\n",
    "    for word in row:\n",
    "        try:\n",
    "            vec += train_w2v[word]\n",
    "            count += 1\n",
    "        except:\n",
    "            pass\n",
    "    if count==0:\n",
    "        avg_X_test.append(vec)\n",
    "    else:\n",
    "        avg_X_test.append(vec/count)"
   ]
  },
  {
   "cell_type": "code",
   "execution_count": 33,
   "metadata": {},
   "outputs": [
    {
     "name": "stdout",
     "output_type": "stream",
     "text": [
      "best depth =  {'max_depth': 41, 'n_estimators': 100}\n",
      "Accuracy on train data =  83.87567567567568\n"
     ]
    }
   ],
   "source": [
    "bases = [i for i in range(50,101,25)]\n",
    "depth = [i for i in range(1,122,40)]\n",
    "clf = XGBClassifier(booster='gbtree')\n",
    "param_grid = {'max_depth':depth,'n_estimators':bases}\n",
    "grid = GridSearchCV(estimator = clf,param_grid=param_grid ,cv = 5,n_jobs = 3)\n",
    "grid.fit(np.array(avg_X_train), y_train)\n",
    "print(\"best depth = \", grid.best_params_)\n",
    "print(\"Accuracy on train data = \", grid.best_score_*100)\n",
    "a = grid.best_params_"
   ]
  },
  {
   "cell_type": "code",
   "execution_count": 34,
   "metadata": {},
   "outputs": [
    {
     "name": "stdout",
     "output_type": "stream",
     "text": [
      "41\n",
      "100\n"
     ]
    }
   ],
   "source": [
    "optimal_depth4 = a.get('max_depth')\n",
    "optimal_bases4 = a.get('n_estimators')\n",
    "print(optimal_depth4)\n",
    "print(optimal_bases4)"
   ]
  },
  {
   "cell_type": "code",
   "execution_count": 35,
   "metadata": {},
   "outputs": [
    {
     "data": {
      "text/plain": [
       "XGBClassifier(base_score=0.5, booster='gbtree', colsample_bylevel=1,\n",
       "       colsample_bytree=1, gamma=0, learning_rate=0.1, max_delta_step=0,\n",
       "       max_depth=41, min_child_weight=1, missing=None, n_estimators=100,\n",
       "       n_jobs=1, nthread=None, objective='binary:logistic', random_state=0,\n",
       "       reg_alpha=0, reg_lambda=1, scale_pos_weight=1, seed=None,\n",
       "       silent=True, subsample=1)"
      ]
     },
     "execution_count": 35,
     "metadata": {},
     "output_type": "execute_result"
    }
   ],
   "source": [
    "clf = XGBClassifier(booster='gbtree',max_depth=optimal_depth4,n_estimators=optimal_bases4)\n",
    "\n",
    "clf.fit(np.array(avg_X_train),y_train)\n"
   ]
  },
  {
   "cell_type": "code",
   "execution_count": 36,
   "metadata": {},
   "outputs": [
    {
     "name": "stdout",
     "output_type": "stream",
     "text": [
      "\n",
      "Accuracy=76.015385%\n",
      "\n",
      "precision=78.331919%\n",
      "\n",
      "recall=63.769869%\n",
      "\n",
      "F1-Score=70.304762%\n"
     ]
    },
    {
     "name": "stderr",
     "output_type": "stream",
     "text": [
      "C:\\Users\\HP\\Anaconda3\\lib\\site-packages\\sklearn\\preprocessing\\label.py:151: DeprecationWarning: The truth value of an empty array is ambiguous. Returning False, but in future this will result in an error. Use `array.size > 0` to check that an array is not empty.\n",
      "  if diff:\n"
     ]
    }
   ],
   "source": [
    "pred = clf.predict(avg_X_test)\n",
    "\n",
    "acc4 = accuracy_score(y_test, pred) * 100\n",
    "pre4 = precision_score(y_test, pred) * 100\n",
    "rec4 = recall_score(y_test, pred) * 100\n",
    "f14= f1_score(y_test, pred) * 100\n",
    "\n",
    "print('\\nAccuracy=%f%%' % (acc4))\n",
    "print('\\nprecision=%f%%' % (pre4))\n",
    "print('\\nrecall=%f%%' % (rec4))\n",
    "print('\\nF1-Score=%f%%' % (f14))"
   ]
  },
  {
   "cell_type": "code",
   "execution_count": 37,
   "metadata": {},
   "outputs": [
    {
     "data": {
      "image/png": "[encoded data removed]",
      "text/plain": [
       "<matplotlib.figure.Figure at 0x4e75dafc50>"
      ]
     },
     "metadata": {},
     "output_type": "display_data"
    }
   ],
   "source": [
    "cm = confusion_matrix(y_test,pred)\n",
    "sns.heatmap(cm, annot=True,fmt='d')\n",
    "plt.title('Confusion Matrix')\n",
    "plt.show()"
   ]
  },
  {
   "cell_type": "markdown",
   "metadata": {},
   "source": [
    "** Random Forest **"
   ]
  },
  {
   "cell_type": "code",
   "execution_count": 40,
   "metadata": {},
   "outputs": [
    {
     "name": "stdout",
     "output_type": "stream",
     "text": [
      "best depth =  {'max_depth': 81, 'n_estimators': 100}\n",
      "Accuracy on train data =  83.07567567567567\n"
     ]
    }
   ],
   "source": [
    "bases = [i for i in range(50,101,25)]\n",
    "depth = [i for i in range(1,122,40)]\n",
    "clf = RandomForestClassifier()\n",
    "param_grid = {'max_depth':depth,'n_estimators':bases}\n",
    "grid = GridSearchCV(estimator = clf,param_grid=param_grid ,cv = 5,n_jobs = 3)\n",
    "grid.fit(np.array(avg_X_train), y_train)\n",
    "print(\"best depth = \", grid.best_params_)\n",
    "print(\"Accuracy on train data = \", grid.best_score_*100)\n",
    "a = grid.best_params_"
   ]
  },
  {
   "cell_type": "code",
   "execution_count": 41,
   "metadata": {},
   "outputs": [
    {
     "name": "stdout",
     "output_type": "stream",
     "text": [
      "81\n",
      "100\n"
     ]
    }
   ],
   "source": [
    "optimal_depth5 = a.get('max_depth')\n",
    "optimal_bases5 = a.get('n_estimators')\n",
    "print(optimal_depth5)\n",
    "print(optimal_bases5)"
   ]
  },
  {
   "cell_type": "code",
   "execution_count": 42,
   "metadata": {},
   "outputs": [
    {
     "name": "stdout",
     "output_type": "stream",
     "text": [
      "\n",
      "Accuracy=74.023077%\n",
      "\n",
      "precision=81.648727%\n",
      "\n",
      "recall=53.731859%\n",
      "\n",
      "F1-Score=64.811920%\n"
     ]
    }
   ],
   "source": [
    "clf = RandomForestClassifier(max_depth=optimal_depth5,n_estimators=optimal_bases5,n_jobs=3)\n",
    "\n",
    "clf.fit(avg_X_train,y_train)\n",
    "\n",
    "pred = clf.predict(avg_X_test)\n",
    "\n",
    "acc5 = accuracy_score(y_test, pred) * 100\n",
    "pre5 = precision_score(y_test, pred) * 100\n",
    "rec5 = recall_score(y_test, pred) * 100\n",
    "f15 = f1_score(y_test, pred) * 100\n",
    "\n",
    "print('\\nAccuracy=%f%%' % (acc5))\n",
    "print('\\nprecision=%f%%' % (pre5))\n",
    "print('\\nrecall=%f%%' % (rec5))\n",
    "print('\\nF1-Score=%f%%' % (f15))"
   ]
  },
  {
   "cell_type": "code",
   "execution_count": 43,
   "metadata": {},
   "outputs": [
    {
     "data": {
      "image/png": "[encoded data removed]",
      "text/plain": [
       "<matplotlib.figure.Figure at 0x4e75ab8ba8>"
      ]
     },
     "metadata": {},
     "output_type": "display_data"
    }
   ],
   "source": [
    "cm = confusion_matrix(y_test,pred)\n",
    "sns.heatmap(cm, annot=True,fmt='d')\n",
    "plt.title('Confusion Matrix')\n",
    "plt.show()"
   ]
  },
  {
   "cell_type": "markdown",
   "metadata": {},
   "source": [
    "## TF-IDF W2V ##"
   ]
  },
  {
   "cell_type": "code",
   "execution_count": 64,
   "metadata": {
    "collapsed": true
   },
   "outputs": [],
   "source": [
    "tf_w_data = X_train\n",
    "tf_idf = TfidfVectorizer(max_features=2000)\n",
    "tf_idf_data = tf_idf.fit_transform(tf_w_data)\n",
    "tf_train_data = []\n",
    "tf_idf_data = tf_idf_data.toarray()\n",
    "i = 0\n",
    "splitted = []\n",
    "for row in tf_w_data: \n",
    "    splitted.append([word for word in row.split()])\n",
    "for row in splitted:\n",
    "    vec = [0 for i in range(150)]\n",
    "    \n",
    "    temp_tfidf = []\n",
    "    for val in tf_idf_data[i]:\n",
    "        if val != 0:\n",
    "            temp_tfidf.append(val)\n",
    "    \n",
    "    count = 0\n",
    "    tf_idf_sum = 0\n",
    "    for word in row:\n",
    "        try:\n",
    "            count += 1\n",
    "            tf_idf_sum = tf_idf_sum + temp_tfidf[count-1]\n",
    "            vec += (temp_tfidf[count-1] * train_w2v[word])\n",
    "        except:\n",
    "            pass\n",
    "    #print(vec)\n",
    "    try:\n",
    "        vec = (float)(1/tf_idf_sum) * vec\n",
    "    except:\n",
    "        pass\n",
    "    tf_train_data.append(vec)\n",
    "    i = i + 1\n",
    "    \n",
    "    \n",
    "    \n",
    "#====================================================================================\n",
    "\n",
    "tf_w_data = X_test\n",
    "tf_idf_data = tf_idf.transform(tf_w_data)\n",
    "tf_test_data = []\n",
    "tf_idf_data = tf_idf_data.toarray()\n",
    "i = 0\n",
    "splitted = []\n",
    "for row in tf_w_data: \n",
    "    splitted.append([word for word in row.split()])\n",
    "for row in splitted:\n",
    "    vec = [0 for i in range(150)]\n",
    "    \n",
    "    temp_tfidf = []\n",
    "    for val in tf_idf_data[i]:\n",
    "        if val != 0:\n",
    "            temp_tfidf.append(val)\n",
    "    \n",
    "    count = 0\n",
    "    tf_idf_sum = 0\n",
    "    for word in row:\n",
    "        try:\n",
    "            count += 1\n",
    "            tf_idf_sum = tf_idf_sum + temp_tfidf[count-1]\n",
    "            vec += (temp_tfidf[count-1] * train_w2v[word])\n",
    "        except:\n",
    "            pass\n",
    "    try:\n",
    "        vec = (float)(1/tf_idf_sum) * vec\n",
    "    except:\n",
    "        pass\n",
    "    tf_test_data.append(vec)\n",
    "    i = i + 1"
   ]
  },
  {
   "cell_type": "code",
   "execution_count": 66,
   "metadata": {},
   "outputs": [
    {
     "name": "stderr",
     "output_type": "stream",
     "text": [
      "C:\\Users\\HP\\Anaconda3\\lib\\site-packages\\sklearn\\preprocessing\\label.py:151: DeprecationWarning: The truth value of an empty array is ambiguous. Returning False, but in future this will result in an error. Use `array.size > 0` to check that an array is not empty.\n",
      "  if diff:\n",
      "C:\\Users\\HP\\Anaconda3\\lib\\site-packages\\sklearn\\preprocessing\\label.py:151: DeprecationWarning: The truth value of an empty array is ambiguous. Returning False, but in future this will result in an error. Use `array.size > 0` to check that an array is not empty.\n",
      "  if diff:\n",
      "C:\\Users\\HP\\Anaconda3\\lib\\site-packages\\sklearn\\preprocessing\\label.py:151: DeprecationWarning: The truth value of an empty array is ambiguous. Returning False, but in future this will result in an error. Use `array.size > 0` to check that an array is not empty.\n",
      "  if diff:\n",
      "C:\\Users\\HP\\Anaconda3\\lib\\site-packages\\sklearn\\preprocessing\\label.py:151: DeprecationWarning: The truth value of an empty array is ambiguous. Returning False, but in future this will result in an error. Use `array.size > 0` to check that an array is not empty.\n",
      "  if diff:\n",
      "C:\\Users\\HP\\Anaconda3\\lib\\site-packages\\sklearn\\preprocessing\\label.py:151: DeprecationWarning: The truth value of an empty array is ambiguous. Returning False, but in future this will result in an error. Use `array.size > 0` to check that an array is not empty.\n",
      "  if diff:\n",
      "C:\\Users\\HP\\Anaconda3\\lib\\site-packages\\sklearn\\preprocessing\\label.py:151: DeprecationWarning: The truth value of an empty array is ambiguous. Returning False, but in future this will result in an error. Use `array.size > 0` to check that an array is not empty.\n",
      "  if diff:\n",
      "C:\\Users\\HP\\Anaconda3\\lib\\site-packages\\sklearn\\preprocessing\\label.py:151: DeprecationWarning: The truth value of an empty array is ambiguous. Returning False, but in future this will result in an error. Use `array.size > 0` to check that an array is not empty.\n",
      "  if diff:\n",
      "C:\\Users\\HP\\Anaconda3\\lib\\site-packages\\sklearn\\preprocessing\\label.py:151: DeprecationWarning: The truth value of an empty array is ambiguous. Returning False, but in future this will result in an error. Use `array.size > 0` to check that an array is not empty.\n",
      "  if diff:\n",
      "C:\\Users\\HP\\Anaconda3\\lib\\site-packages\\sklearn\\preprocessing\\label.py:151: DeprecationWarning: The truth value of an empty array is ambiguous. Returning False, but in future this will result in an error. Use `array.size > 0` to check that an array is not empty.\n",
      "  if diff:\n",
      "C:\\Users\\HP\\Anaconda3\\lib\\site-packages\\sklearn\\preprocessing\\label.py:151: DeprecationWarning: The truth value of an empty array is ambiguous. Returning False, but in future this will result in an error. Use `array.size > 0` to check that an array is not empty.\n",
      "  if diff:\n",
      "C:\\Users\\HP\\Anaconda3\\lib\\site-packages\\sklearn\\preprocessing\\label.py:151: DeprecationWarning: The truth value of an empty array is ambiguous. Returning False, but in future this will result in an error. Use `array.size > 0` to check that an array is not empty.\n",
      "  if diff:\n",
      "C:\\Users\\HP\\Anaconda3\\lib\\site-packages\\sklearn\\preprocessing\\label.py:151: DeprecationWarning: The truth value of an empty array is ambiguous. Returning False, but in future this will result in an error. Use `array.size > 0` to check that an array is not empty.\n",
      "  if diff:\n",
      "C:\\Users\\HP\\Anaconda3\\lib\\site-packages\\sklearn\\preprocessing\\label.py:151: DeprecationWarning: The truth value of an empty array is ambiguous. Returning False, but in future this will result in an error. Use `array.size > 0` to check that an array is not empty.\n",
      "  if diff:\n",
      "C:\\Users\\HP\\Anaconda3\\lib\\site-packages\\sklearn\\preprocessing\\label.py:151: DeprecationWarning: The truth value of an empty array is ambiguous. Returning False, but in future this will result in an error. Use `array.size > 0` to check that an array is not empty.\n",
      "  if diff:\n",
      "C:\\Users\\HP\\Anaconda3\\lib\\site-packages\\sklearn\\preprocessing\\label.py:151: DeprecationWarning: The truth value of an empty array is ambiguous. Returning False, but in future this will result in an error. Use `array.size > 0` to check that an array is not empty.\n",
      "  if diff:\n",
      "C:\\Users\\HP\\Anaconda3\\lib\\site-packages\\sklearn\\preprocessing\\label.py:151: DeprecationWarning: The truth value of an empty array is ambiguous. Returning False, but in future this will result in an error. Use `array.size > 0` to check that an array is not empty.\n",
      "  if diff:\n",
      "C:\\Users\\HP\\Anaconda3\\lib\\site-packages\\sklearn\\preprocessing\\label.py:151: DeprecationWarning: The truth value of an empty array is ambiguous. Returning False, but in future this will result in an error. Use `array.size > 0` to check that an array is not empty.\n",
      "  if diff:\n",
      "C:\\Users\\HP\\Anaconda3\\lib\\site-packages\\sklearn\\preprocessing\\label.py:151: DeprecationWarning: The truth value of an empty array is ambiguous. Returning False, but in future this will result in an error. Use `array.size > 0` to check that an array is not empty.\n",
      "  if diff:\n",
      "C:\\Users\\HP\\Anaconda3\\lib\\site-packages\\sklearn\\preprocessing\\label.py:151: DeprecationWarning: The truth value of an empty array is ambiguous. Returning False, but in future this will result in an error. Use `array.size > 0` to check that an array is not empty.\n",
      "  if diff:\n",
      "C:\\Users\\HP\\Anaconda3\\lib\\site-packages\\sklearn\\preprocessing\\label.py:151: DeprecationWarning: The truth value of an empty array is ambiguous. Returning False, but in future this will result in an error. Use `array.size > 0` to check that an array is not empty.\n",
      "  if diff:\n",
      "C:\\Users\\HP\\Anaconda3\\lib\\site-packages\\sklearn\\preprocessing\\label.py:151: DeprecationWarning: The truth value of an empty array is ambiguous. Returning False, but in future this will result in an error. Use `array.size > 0` to check that an array is not empty.\n",
      "  if diff:\n",
      "C:\\Users\\HP\\Anaconda3\\lib\\site-packages\\sklearn\\preprocessing\\label.py:151: DeprecationWarning: The truth value of an empty array is ambiguous. Returning False, but in future this will result in an error. Use `array.size > 0` to check that an array is not empty.\n",
      "  if diff:\n",
      "C:\\Users\\HP\\Anaconda3\\lib\\site-packages\\sklearn\\preprocessing\\label.py:151: DeprecationWarning: The truth value of an empty array is ambiguous. Returning False, but in future this will result in an error. Use `array.size > 0` to check that an array is not empty.\n",
      "  if diff:\n",
      "C:\\Users\\HP\\Anaconda3\\lib\\site-packages\\sklearn\\preprocessing\\label.py:151: DeprecationWarning: The truth value of an empty array is ambiguous. Returning False, but in future this will result in an error. Use `array.size > 0` to check that an array is not empty.\n",
      "  if diff:\n",
      "C:\\Users\\HP\\Anaconda3\\lib\\site-packages\\sklearn\\preprocessing\\label.py:151: DeprecationWarning: The truth value of an empty array is ambiguous. Returning False, but in future this will result in an error. Use `array.size > 0` to check that an array is not empty.\n",
      "  if diff:\n",
      "C:\\Users\\HP\\Anaconda3\\lib\\site-packages\\sklearn\\preprocessing\\label.py:151: DeprecationWarning: The truth value of an empty array is ambiguous. Returning False, but in future this will result in an error. Use `array.size > 0` to check that an array is not empty.\n",
      "  if diff:\n",
      "C:\\Users\\HP\\Anaconda3\\lib\\site-packages\\sklearn\\preprocessing\\label.py:151: DeprecationWarning: The truth value of an empty array is ambiguous. Returning False, but in future this will result in an error. Use `array.size > 0` to check that an array is not empty.\n",
      "  if diff:\n",
      "C:\\Users\\HP\\Anaconda3\\lib\\site-packages\\sklearn\\preprocessing\\label.py:151: DeprecationWarning: The truth value of an empty array is ambiguous. Returning False, but in future this will result in an error. Use `array.size > 0` to check that an array is not empty.\n",
      "  if diff:\n",
      "C:\\Users\\HP\\Anaconda3\\lib\\site-packages\\sklearn\\preprocessing\\label.py:151: DeprecationWarning: The truth value of an empty array is ambiguous. Returning False, but in future this will result in an error. Use `array.size > 0` to check that an array is not empty.\n",
      "  if diff:\n",
      "C:\\Users\\HP\\Anaconda3\\lib\\site-packages\\sklearn\\preprocessing\\label.py:151: DeprecationWarning: The truth value of an empty array is ambiguous. Returning False, but in future this will result in an error. Use `array.size > 0` to check that an array is not empty.\n",
      "  if diff:\n"
     ]
    },
    {
     "name": "stderr",
     "output_type": "stream",
     "text": [
      "C:\\Users\\HP\\Anaconda3\\lib\\site-packages\\sklearn\\preprocessing\\label.py:151: DeprecationWarning: The truth value of an empty array is ambiguous. Returning False, but in future this will result in an error. Use `array.size > 0` to check that an array is not empty.\n",
      "  if diff:\n",
      "C:\\Users\\HP\\Anaconda3\\lib\\site-packages\\sklearn\\preprocessing\\label.py:151: DeprecationWarning: The truth value of an empty array is ambiguous. Returning False, but in future this will result in an error. Use `array.size > 0` to check that an array is not empty.\n",
      "  if diff:\n",
      "C:\\Users\\HP\\Anaconda3\\lib\\site-packages\\sklearn\\preprocessing\\label.py:151: DeprecationWarning: The truth value of an empty array is ambiguous. Returning False, but in future this will result in an error. Use `array.size > 0` to check that an array is not empty.\n",
      "  if diff:\n",
      "C:\\Users\\HP\\Anaconda3\\lib\\site-packages\\sklearn\\preprocessing\\label.py:151: DeprecationWarning: The truth value of an empty array is ambiguous. Returning False, but in future this will result in an error. Use `array.size > 0` to check that an array is not empty.\n",
      "  if diff:\n",
      "C:\\Users\\HP\\Anaconda3\\lib\\site-packages\\sklearn\\preprocessing\\label.py:151: DeprecationWarning: The truth value of an empty array is ambiguous. Returning False, but in future this will result in an error. Use `array.size > 0` to check that an array is not empty.\n",
      "  if diff:\n",
      "C:\\Users\\HP\\Anaconda3\\lib\\site-packages\\sklearn\\preprocessing\\label.py:151: DeprecationWarning: The truth value of an empty array is ambiguous. Returning False, but in future this will result in an error. Use `array.size > 0` to check that an array is not empty.\n",
      "  if diff:\n",
      "C:\\Users\\HP\\Anaconda3\\lib\\site-packages\\sklearn\\preprocessing\\label.py:151: DeprecationWarning: The truth value of an empty array is ambiguous. Returning False, but in future this will result in an error. Use `array.size > 0` to check that an array is not empty.\n",
      "  if diff:\n",
      "C:\\Users\\HP\\Anaconda3\\lib\\site-packages\\sklearn\\preprocessing\\label.py:151: DeprecationWarning: The truth value of an empty array is ambiguous. Returning False, but in future this will result in an error. Use `array.size > 0` to check that an array is not empty.\n",
      "  if diff:\n",
      "C:\\Users\\HP\\Anaconda3\\lib\\site-packages\\sklearn\\preprocessing\\label.py:151: DeprecationWarning: The truth value of an empty array is ambiguous. Returning False, but in future this will result in an error. Use `array.size > 0` to check that an array is not empty.\n",
      "  if diff:\n",
      "C:\\Users\\HP\\Anaconda3\\lib\\site-packages\\sklearn\\preprocessing\\label.py:151: DeprecationWarning: The truth value of an empty array is ambiguous. Returning False, but in future this will result in an error. Use `array.size > 0` to check that an array is not empty.\n",
      "  if diff:\n",
      "C:\\Users\\HP\\Anaconda3\\lib\\site-packages\\sklearn\\preprocessing\\label.py:151: DeprecationWarning: The truth value of an empty array is ambiguous. Returning False, but in future this will result in an error. Use `array.size > 0` to check that an array is not empty.\n",
      "  if diff:\n",
      "C:\\Users\\HP\\Anaconda3\\lib\\site-packages\\sklearn\\preprocessing\\label.py:151: DeprecationWarning: The truth value of an empty array is ambiguous. Returning False, but in future this will result in an error. Use `array.size > 0` to check that an array is not empty.\n",
      "  if diff:\n",
      "C:\\Users\\HP\\Anaconda3\\lib\\site-packages\\sklearn\\preprocessing\\label.py:151: DeprecationWarning: The truth value of an empty array is ambiguous. Returning False, but in future this will result in an error. Use `array.size > 0` to check that an array is not empty.\n",
      "  if diff:\n",
      "C:\\Users\\HP\\Anaconda3\\lib\\site-packages\\sklearn\\preprocessing\\label.py:151: DeprecationWarning: The truth value of an empty array is ambiguous. Returning False, but in future this will result in an error. Use `array.size > 0` to check that an array is not empty.\n",
      "  if diff:\n",
      "C:\\Users\\HP\\Anaconda3\\lib\\site-packages\\sklearn\\preprocessing\\label.py:151: DeprecationWarning: The truth value of an empty array is ambiguous. Returning False, but in future this will result in an error. Use `array.size > 0` to check that an array is not empty.\n",
      "  if diff:\n",
      "C:\\Users\\HP\\Anaconda3\\lib\\site-packages\\sklearn\\preprocessing\\label.py:151: DeprecationWarning: The truth value of an empty array is ambiguous. Returning False, but in future this will result in an error. Use `array.size > 0` to check that an array is not empty.\n",
      "  if diff:\n",
      "C:\\Users\\HP\\Anaconda3\\lib\\site-packages\\sklearn\\preprocessing\\label.py:151: DeprecationWarning: The truth value of an empty array is ambiguous. Returning False, but in future this will result in an error. Use `array.size > 0` to check that an array is not empty.\n",
      "  if diff:\n",
      "C:\\Users\\HP\\Anaconda3\\lib\\site-packages\\sklearn\\preprocessing\\label.py:151: DeprecationWarning: The truth value of an empty array is ambiguous. Returning False, but in future this will result in an error. Use `array.size > 0` to check that an array is not empty.\n",
      "  if diff:\n",
      "C:\\Users\\HP\\Anaconda3\\lib\\site-packages\\sklearn\\preprocessing\\label.py:151: DeprecationWarning: The truth value of an empty array is ambiguous. Returning False, but in future this will result in an error. Use `array.size > 0` to check that an array is not empty.\n",
      "  if diff:\n",
      "C:\\Users\\HP\\Anaconda3\\lib\\site-packages\\sklearn\\preprocessing\\label.py:151: DeprecationWarning: The truth value of an empty array is ambiguous. Returning False, but in future this will result in an error. Use `array.size > 0` to check that an array is not empty.\n",
      "  if diff:\n",
      "C:\\Users\\HP\\Anaconda3\\lib\\site-packages\\sklearn\\preprocessing\\label.py:151: DeprecationWarning: The truth value of an empty array is ambiguous. Returning False, but in future this will result in an error. Use `array.size > 0` to check that an array is not empty.\n",
      "  if diff:\n",
      "C:\\Users\\HP\\Anaconda3\\lib\\site-packages\\sklearn\\preprocessing\\label.py:151: DeprecationWarning: The truth value of an empty array is ambiguous. Returning False, but in future this will result in an error. Use `array.size > 0` to check that an array is not empty.\n",
      "  if diff:\n",
      "C:\\Users\\HP\\Anaconda3\\lib\\site-packages\\sklearn\\preprocessing\\label.py:151: DeprecationWarning: The truth value of an empty array is ambiguous. Returning False, but in future this will result in an error. Use `array.size > 0` to check that an array is not empty.\n",
      "  if diff:\n",
      "C:\\Users\\HP\\Anaconda3\\lib\\site-packages\\sklearn\\preprocessing\\label.py:151: DeprecationWarning: The truth value of an empty array is ambiguous. Returning False, but in future this will result in an error. Use `array.size > 0` to check that an array is not empty.\n",
      "  if diff:\n",
      "C:\\Users\\HP\\Anaconda3\\lib\\site-packages\\sklearn\\preprocessing\\label.py:151: DeprecationWarning: The truth value of an empty array is ambiguous. Returning False, but in future this will result in an error. Use `array.size > 0` to check that an array is not empty.\n",
      "  if diff:\n",
      "C:\\Users\\HP\\Anaconda3\\lib\\site-packages\\sklearn\\preprocessing\\label.py:151: DeprecationWarning: The truth value of an empty array is ambiguous. Returning False, but in future this will result in an error. Use `array.size > 0` to check that an array is not empty.\n",
      "  if diff:\n",
      "C:\\Users\\HP\\Anaconda3\\lib\\site-packages\\sklearn\\preprocessing\\label.py:151: DeprecationWarning: The truth value of an empty array is ambiguous. Returning False, but in future this will result in an error. Use `array.size > 0` to check that an array is not empty.\n",
      "  if diff:\n",
      "C:\\Users\\HP\\Anaconda3\\lib\\site-packages\\sklearn\\preprocessing\\label.py:151: DeprecationWarning: The truth value of an empty array is ambiguous. Returning False, but in future this will result in an error. Use `array.size > 0` to check that an array is not empty.\n",
      "  if diff:\n",
      "C:\\Users\\HP\\Anaconda3\\lib\\site-packages\\sklearn\\preprocessing\\label.py:151: DeprecationWarning: The truth value of an empty array is ambiguous. Returning False, but in future this will result in an error. Use `array.size > 0` to check that an array is not empty.\n",
      "  if diff:\n",
      "C:\\Users\\HP\\Anaconda3\\lib\\site-packages\\sklearn\\preprocessing\\label.py:151: DeprecationWarning: The truth value of an empty array is ambiguous. Returning False, but in future this will result in an error. Use `array.size > 0` to check that an array is not empty.\n",
      "  if diff:\n"
     ]
    },
    {
     "name": "stderr",
     "output_type": "stream",
     "text": [
      "C:\\Users\\HP\\Anaconda3\\lib\\site-packages\\sklearn\\preprocessing\\label.py:151: DeprecationWarning: The truth value of an empty array is ambiguous. Returning False, but in future this will result in an error. Use `array.size > 0` to check that an array is not empty.\n",
      "  if diff:\n",
      "C:\\Users\\HP\\Anaconda3\\lib\\site-packages\\sklearn\\preprocessing\\label.py:151: DeprecationWarning: The truth value of an empty array is ambiguous. Returning False, but in future this will result in an error. Use `array.size > 0` to check that an array is not empty.\n",
      "  if diff:\n",
      "C:\\Users\\HP\\Anaconda3\\lib\\site-packages\\sklearn\\preprocessing\\label.py:151: DeprecationWarning: The truth value of an empty array is ambiguous. Returning False, but in future this will result in an error. Use `array.size > 0` to check that an array is not empty.\n",
      "  if diff:\n",
      "C:\\Users\\HP\\Anaconda3\\lib\\site-packages\\sklearn\\preprocessing\\label.py:151: DeprecationWarning: The truth value of an empty array is ambiguous. Returning False, but in future this will result in an error. Use `array.size > 0` to check that an array is not empty.\n",
      "  if diff:\n",
      "C:\\Users\\HP\\Anaconda3\\lib\\site-packages\\sklearn\\preprocessing\\label.py:151: DeprecationWarning: The truth value of an empty array is ambiguous. Returning False, but in future this will result in an error. Use `array.size > 0` to check that an array is not empty.\n",
      "  if diff:\n",
      "C:\\Users\\HP\\Anaconda3\\lib\\site-packages\\sklearn\\preprocessing\\label.py:151: DeprecationWarning: The truth value of an empty array is ambiguous. Returning False, but in future this will result in an error. Use `array.size > 0` to check that an array is not empty.\n",
      "  if diff:\n",
      "C:\\Users\\HP\\Anaconda3\\lib\\site-packages\\sklearn\\preprocessing\\label.py:151: DeprecationWarning: The truth value of an empty array is ambiguous. Returning False, but in future this will result in an error. Use `array.size > 0` to check that an array is not empty.\n",
      "  if diff:\n",
      "C:\\Users\\HP\\Anaconda3\\lib\\site-packages\\sklearn\\preprocessing\\label.py:151: DeprecationWarning: The truth value of an empty array is ambiguous. Returning False, but in future this will result in an error. Use `array.size > 0` to check that an array is not empty.\n",
      "  if diff:\n",
      "C:\\Users\\HP\\Anaconda3\\lib\\site-packages\\sklearn\\preprocessing\\label.py:151: DeprecationWarning: The truth value of an empty array is ambiguous. Returning False, but in future this will result in an error. Use `array.size > 0` to check that an array is not empty.\n",
      "  if diff:\n",
      "C:\\Users\\HP\\Anaconda3\\lib\\site-packages\\sklearn\\preprocessing\\label.py:151: DeprecationWarning: The truth value of an empty array is ambiguous. Returning False, but in future this will result in an error. Use `array.size > 0` to check that an array is not empty.\n",
      "  if diff:\n",
      "C:\\Users\\HP\\Anaconda3\\lib\\site-packages\\sklearn\\preprocessing\\label.py:151: DeprecationWarning: The truth value of an empty array is ambiguous. Returning False, but in future this will result in an error. Use `array.size > 0` to check that an array is not empty.\n",
      "  if diff:\n",
      "C:\\Users\\HP\\Anaconda3\\lib\\site-packages\\sklearn\\preprocessing\\label.py:151: DeprecationWarning: The truth value of an empty array is ambiguous. Returning False, but in future this will result in an error. Use `array.size > 0` to check that an array is not empty.\n",
      "  if diff:\n",
      "C:\\Users\\HP\\Anaconda3\\lib\\site-packages\\sklearn\\preprocessing\\label.py:151: DeprecationWarning: The truth value of an empty array is ambiguous. Returning False, but in future this will result in an error. Use `array.size > 0` to check that an array is not empty.\n",
      "  if diff:\n",
      "C:\\Users\\HP\\Anaconda3\\lib\\site-packages\\sklearn\\preprocessing\\label.py:151: DeprecationWarning: The truth value of an empty array is ambiguous. Returning False, but in future this will result in an error. Use `array.size > 0` to check that an array is not empty.\n",
      "  if diff:\n",
      "C:\\Users\\HP\\Anaconda3\\lib\\site-packages\\sklearn\\preprocessing\\label.py:151: DeprecationWarning: The truth value of an empty array is ambiguous. Returning False, but in future this will result in an error. Use `array.size > 0` to check that an array is not empty.\n",
      "  if diff:\n",
      "C:\\Users\\HP\\Anaconda3\\lib\\site-packages\\sklearn\\preprocessing\\label.py:151: DeprecationWarning: The truth value of an empty array is ambiguous. Returning False, but in future this will result in an error. Use `array.size > 0` to check that an array is not empty.\n",
      "  if diff:\n",
      "C:\\Users\\HP\\Anaconda3\\lib\\site-packages\\sklearn\\preprocessing\\label.py:151: DeprecationWarning: The truth value of an empty array is ambiguous. Returning False, but in future this will result in an error. Use `array.size > 0` to check that an array is not empty.\n",
      "  if diff:\n",
      "C:\\Users\\HP\\Anaconda3\\lib\\site-packages\\sklearn\\preprocessing\\label.py:151: DeprecationWarning: The truth value of an empty array is ambiguous. Returning False, but in future this will result in an error. Use `array.size > 0` to check that an array is not empty.\n",
      "  if diff:\n",
      "C:\\Users\\HP\\Anaconda3\\lib\\site-packages\\sklearn\\preprocessing\\label.py:151: DeprecationWarning: The truth value of an empty array is ambiguous. Returning False, but in future this will result in an error. Use `array.size > 0` to check that an array is not empty.\n",
      "  if diff:\n",
      "C:\\Users\\HP\\Anaconda3\\lib\\site-packages\\sklearn\\preprocessing\\label.py:151: DeprecationWarning: The truth value of an empty array is ambiguous. Returning False, but in future this will result in an error. Use `array.size > 0` to check that an array is not empty.\n",
      "  if diff:\n",
      "C:\\Users\\HP\\Anaconda3\\lib\\site-packages\\sklearn\\preprocessing\\label.py:151: DeprecationWarning: The truth value of an empty array is ambiguous. Returning False, but in future this will result in an error. Use `array.size > 0` to check that an array is not empty.\n",
      "  if diff:\n",
      "C:\\Users\\HP\\Anaconda3\\lib\\site-packages\\sklearn\\preprocessing\\label.py:151: DeprecationWarning: The truth value of an empty array is ambiguous. Returning False, but in future this will result in an error. Use `array.size > 0` to check that an array is not empty.\n",
      "  if diff:\n",
      "C:\\Users\\HP\\Anaconda3\\lib\\site-packages\\sklearn\\preprocessing\\label.py:151: DeprecationWarning: The truth value of an empty array is ambiguous. Returning False, but in future this will result in an error. Use `array.size > 0` to check that an array is not empty.\n",
      "  if diff:\n",
      "C:\\Users\\HP\\Anaconda3\\lib\\site-packages\\sklearn\\preprocessing\\label.py:151: DeprecationWarning: The truth value of an empty array is ambiguous. Returning False, but in future this will result in an error. Use `array.size > 0` to check that an array is not empty.\n",
      "  if diff:\n",
      "C:\\Users\\HP\\Anaconda3\\lib\\site-packages\\sklearn\\preprocessing\\label.py:151: DeprecationWarning: The truth value of an empty array is ambiguous. Returning False, but in future this will result in an error. Use `array.size > 0` to check that an array is not empty.\n",
      "  if diff:\n",
      "C:\\Users\\HP\\Anaconda3\\lib\\site-packages\\sklearn\\preprocessing\\label.py:151: DeprecationWarning: The truth value of an empty array is ambiguous. Returning False, but in future this will result in an error. Use `array.size > 0` to check that an array is not empty.\n",
      "  if diff:\n",
      "C:\\Users\\HP\\Anaconda3\\lib\\site-packages\\sklearn\\preprocessing\\label.py:151: DeprecationWarning: The truth value of an empty array is ambiguous. Returning False, but in future this will result in an error. Use `array.size > 0` to check that an array is not empty.\n",
      "  if diff:\n",
      "C:\\Users\\HP\\Anaconda3\\lib\\site-packages\\sklearn\\preprocessing\\label.py:151: DeprecationWarning: The truth value of an empty array is ambiguous. Returning False, but in future this will result in an error. Use `array.size > 0` to check that an array is not empty.\n",
      "  if diff:\n",
      "C:\\Users\\HP\\Anaconda3\\lib\\site-packages\\sklearn\\preprocessing\\label.py:151: DeprecationWarning: The truth value of an empty array is ambiguous. Returning False, but in future this will result in an error. Use `array.size > 0` to check that an array is not empty.\n",
      "  if diff:\n",
      "C:\\Users\\HP\\Anaconda3\\lib\\site-packages\\sklearn\\preprocessing\\label.py:151: DeprecationWarning: The truth value of an empty array is ambiguous. Returning False, but in future this will result in an error. Use `array.size > 0` to check that an array is not empty.\n",
      "  if diff:\n"
     ]
    },
    {
     "name": "stderr",
     "output_type": "stream",
     "text": [
      "C:\\Users\\HP\\Anaconda3\\lib\\site-packages\\sklearn\\preprocessing\\label.py:151: DeprecationWarning: The truth value of an empty array is ambiguous. Returning False, but in future this will result in an error. Use `array.size > 0` to check that an array is not empty.\n",
      "  if diff:\n",
      "C:\\Users\\HP\\Anaconda3\\lib\\site-packages\\sklearn\\preprocessing\\label.py:151: DeprecationWarning: The truth value of an empty array is ambiguous. Returning False, but in future this will result in an error. Use `array.size > 0` to check that an array is not empty.\n",
      "  if diff:\n",
      "C:\\Users\\HP\\Anaconda3\\lib\\site-packages\\sklearn\\preprocessing\\label.py:151: DeprecationWarning: The truth value of an empty array is ambiguous. Returning False, but in future this will result in an error. Use `array.size > 0` to check that an array is not empty.\n",
      "  if diff:\n",
      "C:\\Users\\HP\\Anaconda3\\lib\\site-packages\\sklearn\\preprocessing\\label.py:151: DeprecationWarning: The truth value of an empty array is ambiguous. Returning False, but in future this will result in an error. Use `array.size > 0` to check that an array is not empty.\n",
      "  if diff:\n",
      "C:\\Users\\HP\\Anaconda3\\lib\\site-packages\\sklearn\\preprocessing\\label.py:151: DeprecationWarning: The truth value of an empty array is ambiguous. Returning False, but in future this will result in an error. Use `array.size > 0` to check that an array is not empty.\n",
      "  if diff:\n",
      "C:\\Users\\HP\\Anaconda3\\lib\\site-packages\\sklearn\\preprocessing\\label.py:151: DeprecationWarning: The truth value of an empty array is ambiguous. Returning False, but in future this will result in an error. Use `array.size > 0` to check that an array is not empty.\n",
      "  if diff:\n"
     ]
    },
    {
     "name": "stdout",
     "output_type": "stream",
     "text": [
      "best depth =  {'max_depth': 81, 'n_estimators': 151}\n",
      "Accuracy on train data =  76.18108108108108\n"
     ]
    }
   ],
   "source": [
    "bases = [i for i in range(1,200,50)]\n",
    "depth = [i for i in range(1,122,40)]\n",
    "clf = XGBClassifier(booster='gbtree')\n",
    "param_grid = {'max_depth':depth,'n_estimators':bases}\n",
    "grid = GridSearchCV(estimator = clf,param_grid=param_grid ,cv = 3)\n",
    "grid.fit(np.array(tf_train_data), y_train)\n",
    "print(\"best depth = \", grid.best_params_)\n",
    "print(\"Accuracy on train data = \", grid.best_score_*100)\n",
    "a = grid.best_params_"
   ]
  },
  {
   "cell_type": "code",
   "execution_count": 67,
   "metadata": {},
   "outputs": [
    {
     "name": "stdout",
     "output_type": "stream",
     "text": [
      "81\n",
      "151\n"
     ]
    }
   ],
   "source": [
    "optimal_depth6 = a.get('max_depth')\n",
    "optimal_bases6 = a.get('n_estimators')\n",
    "print(optimal_depth6)\n",
    "print(optimal_bases6)"
   ]
  },
  {
   "cell_type": "code",
   "execution_count": 68,
   "metadata": {},
   "outputs": [
    {
     "name": "stdout",
     "output_type": "stream",
     "text": [
      "\n",
      "Accuracy=78.284615%\n",
      "\n",
      "precision=73.969281%\n",
      "\n",
      "recall=79.042847%\n",
      "\n",
      "F1-Score=76.421949%\n"
     ]
    },
    {
     "name": "stderr",
     "output_type": "stream",
     "text": [
      "C:\\Users\\HP\\Anaconda3\\lib\\site-packages\\sklearn\\preprocessing\\label.py:151: DeprecationWarning: The truth value of an empty array is ambiguous. Returning False, but in future this will result in an error. Use `array.size > 0` to check that an array is not empty.\n",
      "  if diff:\n"
     ]
    }
   ],
   "source": [
    "clf = XGBClassifier(booster='gbtree',max_depth=optimal_depth6,n_estimators=optimal_bases6)\n",
    "\n",
    "clf.fit(np.array(tf_train_data),y_train)\n",
    "\n",
    "pred = clf.predict(tf_test_data)\n",
    "\n",
    "acc6 = accuracy_score(y_test, pred) * 100\n",
    "pre6 = precision_score(y_test, pred) * 100\n",
    "rec6 = recall_score(y_test, pred) * 100\n",
    "f16= f1_score(y_test, pred) * 100\n",
    "\n",
    "print('\\nAccuracy=%f%%' % (acc6))\n",
    "print('\\nprecision=%f%%' % (pre6))\n",
    "print('\\nrecall=%f%%' % (rec6))\n",
    "print('\\nF1-Score=%f%%' % (f16))"
   ]
  },
  {
   "cell_type": "code",
   "execution_count": 69,
   "metadata": {},
   "outputs": [
    {
     "data": {
      "image/png": "[encoded data removed]",
      "text/plain": [
       "<matplotlib.figure.Figure at 0x4e75ad52b0>"
      ]
     },
     "metadata": {},
     "output_type": "display_data"
    }
   ],
   "source": [
    "cm = confusion_matrix(y_test,pred)\n",
    "sns.heatmap(cm, annot=True,fmt='d')\n",
    "plt.title('Confusion Matrix')\n",
    "plt.show()"
   ]
  },
  {
   "cell_type": "markdown",
   "metadata": {},
   "source": [
    "** Random Forest **"
   ]
  },
  {
   "cell_type": "code",
   "execution_count": 70,
   "metadata": {},
   "outputs": [
    {
     "name": "stdout",
     "output_type": "stream",
     "text": [
      "best depth =  {'max_depth': 101, 'n_estimators': 151}\n",
      "Accuracy on train data =  76.04864864864865\n"
     ]
    }
   ],
   "source": [
    "bases = [i for i in range(1,200,50)]\n",
    "depth = [i for i in range(1,151,50)]\n",
    "clf = RandomForestClassifier()\n",
    "param_grid = {'max_depth':depth,'n_estimators':bases}\n",
    "grid = GridSearchCV(estimator = clf,param_grid=param_grid ,cv = 3, n_jobs = 3)\n",
    "grid.fit(np.array(tf_train_data), y_train)\n",
    "print(\"best depth = \", grid.best_params_)\n",
    "print(\"Accuracy on train data = \", grid.best_score_*100)\n",
    "a = grid.best_params_"
   ]
  },
  {
   "cell_type": "code",
   "execution_count": 71,
   "metadata": {},
   "outputs": [
    {
     "name": "stdout",
     "output_type": "stream",
     "text": [
      "101\n",
      "151\n"
     ]
    }
   ],
   "source": [
    "optimal_depth7 = a.get('max_depth')\n",
    "optimal_bases7 = a.get('n_estimators')\n",
    "print(optimal_depth7)\n",
    "print(optimal_bases7)"
   ]
  },
  {
   "cell_type": "code",
   "execution_count": 72,
   "metadata": {},
   "outputs": [
    {
     "name": "stdout",
     "output_type": "stream",
     "text": [
      "\n",
      "Accuracy=77.953846%\n",
      "\n",
      "precision=73.694453%\n",
      "\n",
      "recall=78.507256%\n",
      "\n",
      "F1-Score=76.024762%\n"
     ]
    }
   ],
   "source": [
    "clf = RandomForestClassifier(max_depth=optimal_depth7,n_estimators=optimal_bases7,n_jobs=-1)\n",
    "\n",
    "clf.fit(np.array(tf_train_data),y_train)\n",
    "\n",
    "pred = clf.predict(tf_test_data)\n",
    "\n",
    "acc7 = accuracy_score(y_test, pred) * 100\n",
    "pre7 = precision_score(y_test, pred) * 100\n",
    "rec7 = recall_score(y_test, pred) * 100\n",
    "f17 = f1_score(y_test, pred) * 100\n",
    "\n",
    "print('\\nAccuracy=%f%%' % (acc7))\n",
    "print('\\nprecision=%f%%' % (pre7))\n",
    "print('\\nrecall=%f%%' % (rec7))\n",
    "print('\\nF1-Score=%f%%' % (f17))"
   ]
  },
  {
   "cell_type": "code",
   "execution_count": 73,
   "metadata": {},
   "outputs": [
    {
     "data": {
      "image/png": "[encoded data removed]",
      "text/plain": [
       "<matplotlib.figure.Figure at 0x4e168fd390>"
      ]
     },
     "metadata": {},
     "output_type": "display_data"
    }
   ],
   "source": [
    "cm = confusion_matrix(y_test,pred)\n",
    "sns.heatmap(cm, annot=True,fmt='d')\n",
    "plt.title('Confusion Matrix')\n",
    "plt.show()"
   ]
  },
  {
   "cell_type": "code",
   "execution_count": 74,
   "metadata": {},
   "outputs": [
    {
     "name": "stdout",
     "output_type": "stream",
     "text": [
      "+------------+-------+-----------+--------------+---------------+--------------+-----------+-------------+\n",
      "| Vectorizer | Model | Opt_Depth | Opt_learners | Test_Error(%) | Precision(%) | Recall(%) | F1-Score(%) |\n",
      "+------------+-------+-----------+--------------+---------------+--------------+-----------+-------------+\n",
      "|    BoW     |  GBDT |     21    |     151      |     13.85     |    83.06     |   86.56   |    84.77    |\n",
      "|    BoW     |   RF  |    101    |     151      |     14.62     |    82.03     |   85.99   |    83.96    |\n",
      "|   Tf-IDF   |  GBDT |     19    |     151      |     14.17     |    82.81     |   86.04   |    84.39    |\n",
      "|   Tf-IDF   |   RF  |    101    |     151      |     14.43     |    82.09     |   86.45   |    84.21    |\n",
      "|  Avg W2V   |  GBDT |     41    |     100      |     23.98     |    78.33     |   63.77   |     70.3    |\n",
      "|  Avg W2V   |   RF  |     81    |     100      |     25.98     |    81.65     |   53.73   |    64.81    |\n",
      "| Tf-Idf W2V |  GBDT |     81    |     151      |     21.72     |    73.97     |   79.04   |    76.42    |\n",
      "| Tf-Idf W2V |   RF  |    101    |     151      |     22.05     |    73.69     |   78.51   |    76.02    |\n",
      "+------------+-------+-----------+--------------+---------------+--------------+-----------+-------------+\n"
     ]
    }
   ],
   "source": [
    "x = PrettyTable()\n",
    "\n",
    "vec1 = \"BoW\"\n",
    "vec2 = \"Tf-IDF\"\n",
    "vec3 = \"Avg W2V\"\n",
    "vec4 = \"Tf-Idf W2V\"\n",
    "\n",
    "model1 = 'GBDT'\n",
    "model2 = 'RF'\n",
    "\n",
    "x.field_names = [\"Vectorizer\",\"Model\",\"Opt_Depth\",\"Opt_learners\",\"Test_Error(%)\",\"Precision(%)\",\"Recall(%)\",\"F1-Score(%)\"]\n",
    "\n",
    "err = np.around(100-acc, decimals = 2) \n",
    "pre = np.around(pre, decimals = 2)\n",
    "rec = np.around(rec, decimals = 2)\n",
    "f1 = np.around(f1, decimals = 2)\n",
    "\n",
    "err1 = np.around(100-acc1, decimals = 2) \n",
    "pre1 = np.around(pre1, decimals = 2)\n",
    "rec1 = np.around(rec1, decimals = 2)\n",
    "f11 = np.around(f11, decimals = 2)\n",
    "\n",
    "err2 = np.around(100-acc2, decimals = 2) \n",
    "pre2 = np.around(pre2, decimals = 2)\n",
    "rec2 = np.around(rec2, decimals = 2)\n",
    "f12 = np.around(f12, decimals = 2)\n",
    "\n",
    "err3 = np.around(100-acc3, decimals = 2) \n",
    "pre3 = np.around(pre3, decimals = 2)\n",
    "rec3 = np.around(rec3, decimals = 2)\n",
    "f13 = np.around(f13, decimals = 2)\n",
    "\n",
    "err4 = np.around(100-acc4, decimals = 2) \n",
    "pre4 = np.around(pre4, decimals = 2)\n",
    "rec4 = np.around(rec4, decimals = 2)\n",
    "f14 = np.around(f14, decimals = 2)\n",
    "\n",
    "err5 = np.around(100-acc5, decimals = 2) \n",
    "pre5 = np.around(pre5, decimals = 2)\n",
    "rec5 = np.around(rec5, decimals = 2)\n",
    "f15 = np.around(f15, decimals = 2)\n",
    "\n",
    "err6 = np.around(100-acc6, decimals = 2) \n",
    "pre6 = np.around(pre6, decimals = 2)\n",
    "rec6 = np.around(rec6, decimals = 2)\n",
    "f16 = np.around(f16, decimals = 2)\n",
    "\n",
    "err7 = np.around(100-acc7, decimals = 2) \n",
    "pre7 = np.around(pre7, decimals = 2)\n",
    "rec7 = np.around(rec7, decimals = 2)\n",
    "f17 = np.around(f17, decimals = 2)\n",
    "\n",
    "\n",
    "x.add_row([vec1,model1,optimal_depth,optimal_bases,err,pre,rec,f1])\n",
    "x.add_row([vec1,model2,optimal_depth1,optimal_bases1,err1,pre1,rec1,f11])\n",
    "x.add_row([vec2,model1,optimal_depth2,optimal_bases2,err2,pre2,rec2,f12])\n",
    "x.add_row([vec2,model2,optimal_depth3,optimal_bases3,err3,pre3,rec3,f13])\n",
    "x.add_row([vec3,model1,optimal_depth4,optimal_bases4,err4,pre4,rec4,f14])\n",
    "x.add_row([vec3,model2,optimal_depth5,optimal_bases5,err5,pre5,rec5,f15])\n",
    "x.add_row([vec4,model1,optimal_depth6,optimal_bases6,err6,pre6,rec6,f16])\n",
    "x.add_row([vec4,model2,optimal_depth7,optimal_bases7,err7,pre7,rec7,f17])\n",
    "\n",
    "\n",
    "print(x)"
   ]
  },
  {
   "cell_type": "markdown",
   "metadata": {},
   "source": [
    "** Summary and Observations **\n",
    "\n",
    "* Accuracy is high on GBDT with  BoW vectorizer *\n",
    "* Seen very less accuraccies on W2V models\n",
    "* everything is shown in pretty table format\n",
    "* plotted heat maps for better understanding of results"
   ]
  },
  {
   "cell_type": "code",
   "execution_count": null,
   "metadata": {
    "collapsed": true
   },
   "outputs": [],
   "source": []
  }
 ],
 "metadata": {
  "kernelspec": {
   "display_name": "Python 3",
   "language": "python",
   "name": "python3"
  },
  "language_info": {
   "codemirror_mode": {
    "name": "ipython",
    "version": 3
   },
   "file_extension": ".py",
   "mimetype": "text/x-python",
   "name": "python",
   "nbconvert_exporter": "python",
   "pygments_lexer": "ipython3",
   "version": "3.6.3"
  }
 },
 "nbformat": 4,
 "nbformat_minor": 2
}

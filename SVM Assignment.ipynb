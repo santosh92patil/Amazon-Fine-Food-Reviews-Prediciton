{
 "cells": [
  {
   "cell_type": "code",
   "execution_count": 16,
   "metadata": {
    "collapsed": true
   },
   "outputs": [],
   "source": [
    "import warnings\n",
    "warnings.filterwarnings(\"ignore\")\n",
    "\n",
    "import pandas as pd\n",
    "import numpy as np\n",
    "\n",
    "import nltk\n",
    "from nltk.corpus import stopwords\n",
    "from nltk.stem import PorterStemmer\n",
    "\n",
    "from sklearn.feature_extraction.text import CountVectorizer\n",
    "from sklearn.feature_extraction.text import TfidfVectorizer\n",
    "from gensim.models import Word2Vec\n",
    "\n",
    "from prettytable import PrettyTable\n",
    "\n",
    "from sklearn.svm import SVC\n",
    "from sklearn.linear_model import SGDClassifier\n",
    "\n",
    "from sklearn.metrics import accuracy_score\n",
    "from sklearn.metrics import precision_score\n",
    "from sklearn.metrics import f1_score\n",
    "from sklearn.metrics import recall_score\n",
    "from sklearn.metrics import confusion_matrix\n",
    "\n",
    "from sklearn.model_selection import GridSearchCV, RandomizedSearchCV\n",
    "from sklearn.preprocessing import StandardScaler\n",
    "\n",
    "from scipy import *\n",
    "from scipy.sparse import *\n",
    "import pickle\n",
    "import seaborn as sns\n",
    "import matplotlib.pyplot as plt"
   ]
  },
  {
   "cell_type": "code",
   "execution_count": 2,
   "metadata": {
    "collapsed": true
   },
   "outputs": [],
   "source": [
    "path = 'Reviews.csv'\n",
    "df = pd.read_csv(path)\n",
    "data = df"
   ]
  },
  {
   "cell_type": "code",
   "execution_count": 3,
   "metadata": {
    "collapsed": true
   },
   "outputs": [],
   "source": [
    "#Removing Neural reviews\n",
    "data_s = data[data['Score']!=3]\n",
    "\n",
    "#Updating Score to 0 or 1\n",
    "def partition(x):\n",
    "    if x<3:\n",
    "        return 0\n",
    "    return 1\n",
    "\n",
    "score_upd = data_s['Score']\n",
    "temp = score_upd.map(partition)\n",
    "data_s['Score'] = temp"
   ]
  },
  {
   "cell_type": "code",
   "execution_count": 4,
   "metadata": {
    "collapsed": true
   },
   "outputs": [],
   "source": [
    "final_data = data_s.drop_duplicates(subset=('UserId','ProfileName','Time','Text'))\n",
    "final = final_data[final_data['HelpfulnessNumerator']<=final_data['HelpfulnessDenominator']]"
   ]
  },
  {
   "cell_type": "code",
   "execution_count": 5,
   "metadata": {
    "collapsed": true
   },
   "outputs": [],
   "source": [
    "final = final.sort_values(['Time'], axis=0)   #TIme based sorting\n",
    "final = final.head(100000)\n",
    "final_X = final['Text']\n",
    "final_y = final['Score']"
   ]
  },
  {
   "cell_type": "code",
   "execution_count": 6,
   "metadata": {},
   "outputs": [
    {
     "name": "stdout",
     "output_type": "stream",
     "text": [
      "100.00 %\r"
     ]
    }
   ],
   "source": [
    "import re\n",
    "temp_1 =[]\n",
    "snow = nltk.stem.SnowballStemmer('english')\n",
    "i = 0\n",
    "N = len(final_X)\n",
    "for sentence in final_X:\n",
    "    sentence = sentence.lower()\n",
    "    cleanr = re.compile('<.*?>')\n",
    "    sentence = re.sub(cleanr, ' ', sentence)        #Removing HTML tags\n",
    "    sentence = re.sub(r'[?|!|\\'|\"|#]',r'',sentence)\n",
    "    sentence = re.sub(r'[.|,|)|(|\\|/]',r' ',sentence)        #Removing Punctuations\n",
    "    \n",
    "    words = [snow.stem(word) for word in sentence.split() if word not in stopwords.words('english')]        #Splitting the words\n",
    "    temp_1.append(words)                                                                            # and doing stemming\n",
    "    print(\"{0:.2f} %\".format((i/N)*100),end ='\\r')\n",
    "    i = i+1\n",
    "    \n",
    "final_X = temp_1 "
   ]
  },
  {
   "cell_type": "code",
   "execution_count": 7,
   "metadata": {
    "collapsed": true
   },
   "outputs": [],
   "source": [
    "sent = []\n",
    "for row in final_X:\n",
    "    seq = ''\n",
    "    for word in row:\n",
    "        seq = seq + ' ' + word\n",
    "    sent.append(seq)\n",
    "\n",
    "final_X = sent"
   ]
  },
  {
   "cell_type": "code",
   "execution_count": 10,
   "metadata": {
    "collapsed": true
   },
   "outputs": [],
   "source": [
    "#Splitting data into train and test\n",
    "#Splitting data into train and test\n",
    "X_train = final_X[:70000]\n",
    "X_test = final_X[70000:]\n",
    "y_train = final_y[:70000]\n",
    "y_test = final_y[70000:]"
   ]
  },
  {
   "cell_type": "markdown",
   "metadata": {},
   "source": [
    "## SVC on BoW"
   ]
  },
  {
   "cell_type": "code",
   "execution_count": 84,
   "metadata": {
    "collapsed": true
   },
   "outputs": [],
   "source": [
    "# Bag of Words\n",
    "\n",
    "count_vect = CountVectorizer(max_features = 5000)\n",
    "bow_X_train = count_vect.fit_transform(X_train)\n",
    "bow_X_test = count_vect.transform(X_test)"
   ]
  },
  {
   "cell_type": "markdown",
   "metadata": {},
   "source": [
    "** GridSearchCV **"
   ]
  },
  {
   "cell_type": "code",
   "execution_count": 103,
   "metadata": {},
   "outputs": [
    {
     "name": "stdout",
     "output_type": "stream",
     "text": [
      "best alpha =  {'alpha': 0.001}\n",
      "Accuracy on train data =  92.09714285714286\n"
     ]
    }
   ],
   "source": [
    "#c = [0.1,1]\n",
    "alphas = [0.00001,0.0001,0.001,0.01,1]\n",
    "clf = SGDClassifier(loss='hinge')\n",
    "param_grid = {'alpha':alphas}\n",
    "grid = GridSearchCV(estimator = clf,param_grid=param_grid ,cv = 3,n_jobs = 3)\n",
    "grid.fit(bow_X_train, y_train)\n",
    "print(\"best alpha = \", grid.best_params_)\n",
    "print(\"Accuracy on train data = \", grid.best_score_*100)\n",
    "a = grid.best_params_"
   ]
  },
  {
   "cell_type": "code",
   "execution_count": 104,
   "metadata": {
    "collapsed": true
   },
   "outputs": [],
   "source": [
    "#optimal_c1 = a.get('C') \n",
    "optimal_a1 = a.get('alpha')"
   ]
  },
  {
   "cell_type": "code",
   "execution_count": 105,
   "metadata": {},
   "outputs": [
    {
     "name": "stdout",
     "output_type": "stream",
     "text": [
      "\n",
      "Accuracy=85.980000%\n",
      "\n",
      "precision=97.741978%\n",
      "\n",
      "recall=85.740762%\n",
      "\n",
      "F1-Score=91.348883%\n"
     ]
    }
   ],
   "source": [
    "#clf = SVC(C = optimal_c1,gamma = optimal_g1)\n",
    "\n",
    "clf = SGDClassifier(loss='hinge',alpha = optimal_a1, class_weight='balanced') \n",
    "\n",
    "clf.fit(bow_X_train,y_train)\n",
    "\n",
    "pred = clf.predict(bow_X_test)\n",
    "\n",
    "acc1 = accuracy_score(y_test, pred) * 100\n",
    "pre1 = precision_score(y_test, pred) * 100\n",
    "rec1 = recall_score(y_test, pred) * 100\n",
    "f11 = f1_score(y_test, pred) * 100\n",
    "\n",
    "print('\\nAccuracy=%f%%' % (acc1))\n",
    "print('\\nprecision=%f%%' % (pre1))\n",
    "print('\\nrecall=%f%%' % (rec1))\n",
    "print('\\nF1-Score=%f%%' % (f11))"
   ]
  },
  {
   "cell_type": "code",
   "execution_count": 88,
   "metadata": {},
   "outputs": [
    {
     "data": {
      "image/png": "[encoded data removed]",
      "text/plain": [
       "<matplotlib.figure.Figure at 0x7b1d9af710>"
      ]
     },
     "metadata": {},
     "output_type": "display_data"
    }
   ],
   "source": [
    "cm = confusion_matrix(y_test,pred)\n",
    "sns.heatmap(cm, annot=True,fmt='d')\n",
    "plt.title('Confusion Matrix for BoW')\n",
    "plt.show()"
   ]
  },
  {
   "cell_type": "code",
   "execution_count": 89,
   "metadata": {},
   "outputs": [
    {
     "data": {
      "image/png": "[encoded data removed]",
      "text/plain": [
       "<matplotlib.figure.Figure at 0x7b156d2be0>"
      ]
     },
     "metadata": {},
     "output_type": "display_data"
    }
   ],
   "source": [
    "error = [(1-i)*100 for i in grid.cv_results_['mean_test_score']]\n",
    "plt.plot(alphas, error)\n",
    "plt.title('Error plot for BoW')\n",
    "plt.xlabel('Alpha')\n",
    "plt.ylabel('Test_Error')\n",
    "plt.show()\n"
   ]
  },
  {
   "cell_type": "code",
   "execution_count": 90,
   "metadata": {
    "collapsed": true
   },
   "outputs": [],
   "source": [
    "negative_log = np.array(list(map(abs,clf.coef_))).argsort()[0][50:80]\n",
    "positive_log = np.array(list(map(abs,clf.coef_))).argsort()[0][4970:5000]\n",
    "negative_log = negative_log.tolist()\n",
    "positive_log = positive_log.tolist()\n",
    "neg={}\n",
    "pos={}\n",
    "for index in negative_log:\n",
    "    for i in count_vect.vocabulary_:\n",
    "        if count_vect.vocabulary_[i] == index:\n",
    "            neg[i]=clf.coef_[0][index]\n",
    "            \n",
    "for index in positive_log:\n",
    "    for i in count_vect.vocabulary_:\n",
    "        if count_vect.vocabulary_[i] == index:\n",
    "            pos[i]=clf.coef_[0][index]"
   ]
  },
  {
   "cell_type": "code",
   "execution_count": 91,
   "metadata": {},
   "outputs": [
    {
     "name": "stdout",
     "output_type": "stream",
     "text": [
      "Postive Words\n"
     ]
    },
    {
     "data": {
      "text/plain": [
       "{'addict': 0.7975998498546655,\n",
       " 'amaz': 0.8901590417819771,\n",
       " 'aw': -0.7267617953574026,\n",
       " 'awesom': 0.6875359300312283,\n",
       " 'best': 1.0048449853836183,\n",
       " 'bland': -1.0108342259556826,\n",
       " 'delici': 0.9476217192499862,\n",
       " 'disappoint': -1.1518079297955284,\n",
       " 'disgust': -0.6675876236393642,\n",
       " 'excel': 0.9986559055984444,\n",
       " 'glad': 0.6878346995477114,\n",
       " 'great': 0.8863482464923704,\n",
       " 'happi': 0.6519427854485008,\n",
       " 'horribl': -0.7980687794931073,\n",
       " 'lack': -0.6962497111609308,\n",
       " 'love': 0.735131299031132,\n",
       " 'nice': 0.6642398221699388,\n",
       " 'perfect': 1.0631406560067962,\n",
       " 'return': -0.6888655533098674,\n",
       " 'smooth': 0.6788122558711742,\n",
       " 'stale': -0.7805284366877288,\n",
       " 'tasteless': -0.760168580233436,\n",
       " 'terribl': -0.9039815837829084,\n",
       " 'threw': -0.6431201809849578,\n",
       " 'unfortun': -0.8426982179948648,\n",
       " 'unpleas': -0.693671587452482,\n",
       " 'weak': -0.7294982075514056,\n",
       " 'wors': -0.673276116088934,\n",
       " 'worst': -1.2054321114888722,\n",
       " 'yummi': 0.7771430417029679}"
      ]
     },
     "execution_count": 91,
     "metadata": {},
     "output_type": "execute_result"
    }
   ],
   "source": [
    "print(\"Postive Words\")\n",
    "pos"
   ]
  },
  {
   "cell_type": "code",
   "execution_count": 92,
   "metadata": {},
   "outputs": [
    {
     "name": "stdout",
     "output_type": "stream",
     "text": [
      "Negative words\n"
     ]
    },
    {
     "data": {
      "text/plain": [
       "{'6oz': 0.0018757185538068764,\n",
       " 'africa': 0.0014364680063958845,\n",
       " 'backpack': -0.0017965743110306322,\n",
       " 'boat': -0.0013573237636194647,\n",
       " 'celeri': 0.001695665401489807,\n",
       " 'chewabl': 0.0014364680063968785,\n",
       " 'cinnamon': 0.0013276446725782726,\n",
       " 'comparison': -0.0014404252185345773,\n",
       " 'el': 0.0017352375228791397,\n",
       " 'enfamil': 0.0012564148540801122,\n",
       " 'fatten': 0.0012168427326913862,\n",
       " 'first': 0.0013019227936746309,\n",
       " 'helper': 0.0014364680063963969,\n",
       " 'initi': -0.0012207999448299442,\n",
       " 'kashi': -0.0015591415827009869,\n",
       " 'lifetim': 0.0016560932801015782,\n",
       " 'lookout': 0.0011772706113026925,\n",
       " 'marmalad': 0.001216842732691419,\n",
       " 'nine': 0.0012168427326907504,\n",
       " 'offici': 0.0018757185538067053,\n",
       " 'reccommend': -0.0017965743110306604,\n",
       " 'rosemari': 0.0016956654014895678,\n",
       " 'safe': -0.001361280975757723,\n",
       " 'skippi': -0.0017965743110304046,\n",
       " 'smaller': 0.001727323098600102,\n",
       " 'sniff': -0.0015373769159360564,\n",
       " 'spill': -0.0011990352780664882,\n",
       " 'tri': 0.0016996226136319552,\n",
       " 'tuscan': 0.0016560932801015643,\n",
       " 'whole': 0.0013256660665078857}"
      ]
     },
     "execution_count": 92,
     "metadata": {},
     "output_type": "execute_result"
    }
   ],
   "source": [
    "print(\"Negative words\")\n",
    "neg"
   ]
  },
  {
   "cell_type": "code",
   "execution_count": 93,
   "metadata": {},
   "outputs": [
    {
     "data": {
      "image/png": "[encoded data removed]",
      "text/plain": [
       "<matplotlib.figure.Figure at 0x7b1d520240>"
      ]
     },
     "metadata": {},
     "output_type": "display_data"
    }
   ],
   "source": [
    "from wordcloud import WordCloud\n",
    "\n",
    "wordcloud = WordCloud(width = 800, height = 600,\n",
    "background_color ='white').generate_from_frequencies(pos)\n",
    "plt.imshow(wordcloud)\n",
    "plt.title(\"Positive Frequent words\")\n",
    "plt.show()"
   ]
  },
  {
   "cell_type": "code",
   "execution_count": 94,
   "metadata": {},
   "outputs": [
    {
     "data": {
      "image/png": "[encoded data removed]",
      "text/plain": [
       "<matplotlib.figure.Figure at 0x7b1cf4b128>"
      ]
     },
     "metadata": {},
     "output_type": "display_data"
    }
   ],
   "source": [
    "wordcloud = WordCloud(width = 800, height = 600,\n",
    "background_color ='white').generate_from_frequencies(neg)\n",
    "plt.imshow(wordcloud)\n",
    "plt.title(\"Negative Frequent words\")\n",
    "plt.show()"
   ]
  },
  {
   "cell_type": "markdown",
   "metadata": {},
   "source": [
    "** SVC on TF-IDF**"
   ]
  },
  {
   "cell_type": "code",
   "execution_count": 95,
   "metadata": {
    "collapsed": true
   },
   "outputs": [],
   "source": [
    "tf_idf = TfidfVectorizer(max_features=5000)\n",
    "tf_X_train = tf_idf.fit_transform(X_train)\n",
    "tf_X_test = tf_idf.transform(X_test)"
   ]
  },
  {
   "cell_type": "markdown",
   "metadata": {},
   "source": [
    "**GridSearchCV**"
   ]
  },
  {
   "cell_type": "code",
   "execution_count": 96,
   "metadata": {},
   "outputs": [
    {
     "name": "stdout",
     "output_type": "stream",
     "text": [
      "best alpha =  {'alpha': 1e-05}\n",
      "Acurracy on Train data =  92.50428571428571\n"
     ]
    }
   ],
   "source": [
    "#c = [0.1,1]\n",
    "alphas = [0.00001,0.0001,0.001,0.01,1]\n",
    "clf = SGDClassifier(loss='hinge')\n",
    "param_grid = {'alpha':alphas}\n",
    "grid = GridSearchCV(estimator = clf,param_grid=param_grid ,cv = 3,n_jobs = 3)\n",
    "grid.fit(tf_X_train, y_train)\n",
    "print(\"best alpha = \", grid.best_params_)\n",
    "print(\"Acurracy on Train data = \",grid.best_score_*100)\n",
    "a = grid.best_params_"
   ]
  },
  {
   "cell_type": "code",
   "execution_count": 97,
   "metadata": {
    "collapsed": true
   },
   "outputs": [],
   "source": [
    "optimal_a2 = a.get('alpha') "
   ]
  },
  {
   "cell_type": "code",
   "execution_count": 98,
   "metadata": {},
   "outputs": [
    {
     "name": "stdout",
     "output_type": "stream",
     "text": [
      "\n",
      "Accuracy=87.080000%\n",
      "\n",
      "precision=97.424523%\n",
      "\n",
      "recall=87.343141%\n",
      "\n",
      "F1-Score=92.108799%\n"
     ]
    }
   ],
   "source": [
    "clf = SGDClassifier(loss = 'hinge',alpha = optimal_a2,class_weight='balanced')\n",
    "\n",
    "clf.fit(tf_X_train,y_train)\n",
    "\n",
    "pred = clf.predict(tf_X_test)\n",
    "\n",
    "acc2 = accuracy_score(y_test, pred) * 100\n",
    "pre2 = precision_score(y_test, pred) * 100\n",
    "rec2 = recall_score(y_test, pred) * 100\n",
    "f12 = f1_score(y_test, pred) * 100\n",
    "\n",
    "print('\\nAccuracy=%f%%' % (acc2))\n",
    "print('\\nprecision=%f%%' % (pre2))\n",
    "print('\\nrecall=%f%%' % (rec2))\n",
    "print('\\nF1-Score=%f%%' % (f12))\n"
   ]
  },
  {
   "cell_type": "code",
   "execution_count": 99,
   "metadata": {},
   "outputs": [
    {
     "data": {
      "image/png": "[encoded data removed]",
      "text/plain": [
       "<matplotlib.figure.Figure at 0x7b1cbc65c0>"
      ]
     },
     "metadata": {},
     "output_type": "display_data"
    }
   ],
   "source": [
    "cm = confusion_matrix(y_test,pred)\n",
    "sns.heatmap(cm, annot=True,fmt='d')\n",
    "plt.title('Confusion Matrix for TF-IDF')\n",
    "plt.show()"
   ]
  },
  {
   "cell_type": "code",
   "execution_count": 100,
   "metadata": {},
   "outputs": [
    {
     "data": {
      "image/png": "[encoded data removed]",
      "text/plain": [
       "<matplotlib.figure.Figure at 0x7b1cb942e8>"
      ]
     },
     "metadata": {},
     "output_type": "display_data"
    }
   ],
   "source": [
    "error = [(1-i)*100 for i in grid.cv_results_['mean_test_score']]\n",
    "plt.plot(alphas, error)\n",
    "plt.title('Error plot for TF-IDF')\n",
    "plt.xlabel('Alpha')\n",
    "plt.ylabel('Test_Error')\n",
    "plt.show()"
   ]
  },
  {
   "cell_type": "code",
   "execution_count": 106,
   "metadata": {
    "collapsed": true
   },
   "outputs": [],
   "source": [
    "negative_log = np.array(list(map(abs,clf.coef_))).argsort()[0][50:80]\n",
    "positive_log = np.array(list(map(abs,clf.coef_))).argsort()[0][4970:5000]\n",
    "negative_log = negative_log.tolist()\n",
    "positive_log = positive_log.tolist()\n",
    "neg={}\n",
    "pos={}\n",
    "for index in negative_log:\n",
    "    for i in tf_idf.vocabulary_:\n",
    "        if tf_idf.vocabulary_[i] == index:\n",
    "            neg[i]=clf.coef_[0][index]\n",
    "            \n",
    "for index in positive_log:\n",
    "    for i in tf_idf.vocabulary_:\n",
    "        if tf_idf.vocabulary_[i] == index:\n",
    "            pos[i]=clf.coef_[0][index]"
   ]
  },
  {
   "cell_type": "code",
   "execution_count": 107,
   "metadata": {},
   "outputs": [
    {
     "name": "stdout",
     "output_type": "stream",
     "text": [
      "Postive Words\n"
     ]
    },
    {
     "data": {
      "text/plain": [
       "{'addict': 0.7924910889834318,\n",
       " 'amaz': 0.8370334688181398,\n",
       " 'aw': -0.7920815175270524,\n",
       " 'awesom': 0.6819483464911947,\n",
       " 'best': 0.8298610218165503,\n",
       " 'bland': -0.9480095260395639,\n",
       " 'delici': 0.9646654319319413,\n",
       " 'disappoint': -1.1130114219864065,\n",
       " 'disgust': -0.6560523502546669,\n",
       " 'excel': 0.9750273919174705,\n",
       " 'fantast': 0.6585790302053156,\n",
       " 'glad': 0.6650233501734071,\n",
       " 'great': 0.8962669987183449,\n",
       " 'happi': 0.640666709458894,\n",
       " 'horribl': -0.791822320131959,\n",
       " 'lack': -0.6964693364346332,\n",
       " 'love': 0.6879356084573333,\n",
       " 'nice': 0.673600607484343,\n",
       " 'perfect': 0.9943682662460135,\n",
       " 'pleasant': 0.6437493777150403,\n",
       " 'smooth': 0.6649620133852566,\n",
       " 'stale': -0.7818857604513493,\n",
       " 'tasteless': -0.7045479850160651,\n",
       " 'terribl': -0.9314624434810373,\n",
       " 'unfortun': -0.8438359164847768,\n",
       " 'unpleas': -0.6359556484076017,\n",
       " 'weak': -0.644301408808396,\n",
       " 'worst': -1.2015006212289432,\n",
       " 'yuck': -0.6492261593151785,\n",
       " 'yummi': 0.7152759871244495}"
      ]
     },
     "execution_count": 107,
     "metadata": {},
     "output_type": "execute_result"
    }
   ],
   "source": [
    "print(\"Postive Words\")\n",
    "pos"
   ]
  },
  {
   "cell_type": "code",
   "execution_count": 108,
   "metadata": {},
   "outputs": [
    {
     "name": "stdout",
     "output_type": "stream",
     "text": [
      "Negative Words\n"
     ]
    },
    {
     "data": {
      "text/plain": [
       "{'bon': -0.0015769490373250374,\n",
       " 'britain': -0.0013573237636196602,\n",
       " 'caesar': -0.0015769490373256899,\n",
       " 'cannist': -0.0020161995847350366,\n",
       " 'caviar': -0.0017965743110308918,\n",
       " 'chocol': -0.0018203175838614385,\n",
       " 'chorizo': -0.0013573237636193148,\n",
       " 'dal': 0.0018757185538070844,\n",
       " 'dice': 0.001515612249173158,\n",
       " 'distract': 0.001915290675195441,\n",
       " 'doctor': 0.0017134728561137014,\n",
       " 'encount': 0.0019548627965841506,\n",
       " 'etc': -0.0013296232786499764,\n",
       " 'garlic': 0.001371174006105631,\n",
       " 'hadnt': -0.0016778579468645109,\n",
       " 'harmoni': 0.0018757185538070004,\n",
       " 'heap': 0.0016956654014901131,\n",
       " 'michigan': 0.0016560932801017207,\n",
       " 'reader': -0.001357323763620186,\n",
       " 'recom': -0.0013573237636195104,\n",
       " 'replenish': 0.001396895885007924,\n",
       " 'shave': 0.0014364680063963275,\n",
       " 'shi': 0.0018757185538070844,\n",
       " 'shove': 0.001656093280101326,\n",
       " 'smoother': 0.0015156122491736764,\n",
       " 'thirti': 0.001436468006395775,\n",
       " 'toward': 0.0013355590968570608,\n",
       " 'univers': -0.0013177516422317064,\n",
       " 'upscal': 0.0018757185538066643,\n",
       " 'worthwhil': 0.0016560932801015392}"
      ]
     },
     "execution_count": 108,
     "metadata": {},
     "output_type": "execute_result"
    }
   ],
   "source": [
    "print(\"Negative Words\")\n",
    "neg"
   ]
  },
  {
   "cell_type": "code",
   "execution_count": 109,
   "metadata": {},
   "outputs": [
    {
     "data": {
      "image/png": "[encoded data removed]",
      "text/plain": [
       "<matplotlib.figure.Figure at 0x7b1d2e8320>"
      ]
     },
     "metadata": {},
     "output_type": "display_data"
    }
   ],
   "source": [
    "wordcloud = WordCloud(width = 800, height = 600,\n",
    "background_color ='white').generate_from_frequencies(pos)\n",
    "plt.imshow(wordcloud)\n",
    "plt.title(\"Positive Frequent words\")\n",
    "plt.show()"
   ]
  },
  {
   "cell_type": "code",
   "execution_count": 110,
   "metadata": {},
   "outputs": [
    {
     "data": {
      "image/png": "[encoded data removed]",
      "text/plain": [
       "<matplotlib.figure.Figure at 0x7b1c909320>"
      ]
     },
     "metadata": {},
     "output_type": "display_data"
    }
   ],
   "source": [
    "wordcloud = WordCloud(width = 800, height = 600,\n",
    "background_color ='white').generate_from_frequencies(neg)\n",
    "plt.imshow(wordcloud)\n",
    "plt.title(\"Negative Frequent words\")\n",
    "plt.show()"
   ]
  },
  {
   "cell_type": "markdown",
   "metadata": {},
   "source": [
    "** SVC on AVG Word2Vec **"
   ]
  },
  {
   "cell_type": "code",
   "execution_count": 116,
   "metadata": {
    "collapsed": true
   },
   "outputs": [],
   "source": [
    "w2v_data = X_train\n",
    "\n",
    "splitted = []\n",
    "for row in w2v_data: \n",
    "    splitted.append([word for word in row.split()])     #splitting words\n",
    "    \n",
    "train_w2v = Word2Vec(splitted,min_count=5,size=150, workers=4)\n",
    "\n",
    "avg_X_train = []\n",
    "for row in splitted:\n",
    "    vec = np.zeros(150)\n",
    "    count = 0\n",
    "    for word in row:\n",
    "        try:\n",
    "            vec += train_w2v[word]\n",
    "            count += 1\n",
    "        except:\n",
    "            pass\n",
    "    avg_X_train.append(vec/count)\n",
    "    \n",
    "#================================================================\n",
    "w2v_data = X_test\n",
    "\n",
    "splitted = []\n",
    "for row in w2v_data: \n",
    "    splitted.append([word for word in row.split()])     #splitting words\n",
    "    \n",
    "train_w2v = Word2Vec(splitted,min_count=5,size=150, workers=4)\n",
    "\n",
    "avg_X_test = []\n",
    "for row in splitted:\n",
    "    vec = np.zeros(150)\n",
    "    count = 0\n",
    "    for word in row:\n",
    "        try:\n",
    "            vec += train_w2v[word]\n",
    "            count += 1\n",
    "        except:\n",
    "            pass\n",
    "    if count==0:\n",
    "        avg_X_test.append(vec)\n",
    "    else:\n",
    "        avg_X_test.append(vec/count)"
   ]
  },
  {
   "cell_type": "code",
   "execution_count": 117,
   "metadata": {},
   "outputs": [
    {
     "name": "stdout",
     "output_type": "stream",
     "text": [
      "best alpha =  {'alpha': 0.001}\n",
      "Acurracy on Train data =  90.69571428571429\n"
     ]
    }
   ],
   "source": [
    "#c = [0.1,1]\n",
    "alphas = [0.00001,0.0001,0.001,0.01,1]\n",
    "clf = SGDClassifier(loss = 'hinge')\n",
    "param_grid = {'alpha':alphas}\n",
    "grid = GridSearchCV(estimator = clf,param_grid=param_grid ,cv = 3,n_jobs = 3)\n",
    "grid.fit(avg_X_train, y_train)\n",
    "print(\"best alpha = \", grid.best_params_)\n",
    "print(\"Acurracy on Train data = \",grid.best_score_*100)\n",
    "a = grid.best_params_"
   ]
  },
  {
   "cell_type": "code",
   "execution_count": 118,
   "metadata": {
    "collapsed": true
   },
   "outputs": [],
   "source": [
    "optimal_a3 = a.get('alpha') "
   ]
  },
  {
   "cell_type": "code",
   "execution_count": 119,
   "metadata": {},
   "outputs": [
    {
     "name": "stdout",
     "output_type": "stream",
     "text": [
      "\n",
      "Accuracy=80.036667%\n",
      "\n",
      "precision=94.138512%\n",
      "\n",
      "recall=81.979999%\n",
      "\n",
      "F1-Score=87.639568%\n"
     ]
    }
   ],
   "source": [
    "clf = SGDClassifier(loss='hinge',alpha = optimal_a3, class_weight ='balanced')\n",
    "\n",
    "clf.fit(avg_X_train,y_train)\n",
    "\n",
    "pred = clf.predict(avg_X_test)\n",
    "\n",
    "acc3 = accuracy_score(y_test, pred) * 100\n",
    "pre3 = precision_score(y_test, pred) * 100\n",
    "rec3 = recall_score(y_test, pred) * 100\n",
    "f13 = f1_score(y_test, pred) * 100\n",
    "\n",
    "print('\\nAccuracy=%f%%' % (acc3))\n",
    "print('\\nprecision=%f%%' % (pre3))\n",
    "print('\\nrecall=%f%%' % (rec3))\n",
    "print('\\nF1-Score=%f%%' % (f13))\n"
   ]
  },
  {
   "cell_type": "code",
   "execution_count": 122,
   "metadata": {},
   "outputs": [
    {
     "data": {
      "image/png": "[encoded data removed]",
      "text/plain": [
       "<matplotlib.figure.Figure at 0x7b164810b8>"
      ]
     },
     "metadata": {},
     "output_type": "display_data"
    }
   ],
   "source": [
    "cm = confusion_matrix(y_test,pred)\n",
    "sns.heatmap(cm, annot=True,fmt='d')\n",
    "plt.title('Confusion Matrix for AVG W2V')\n",
    "plt.show()"
   ]
  },
  {
   "cell_type": "code",
   "execution_count": 121,
   "metadata": {
    "collapsed": true
   },
   "outputs": [],
   "source": [
    "del avg_X_train\n",
    "del avg_X_test"
   ]
  },
  {
   "cell_type": "code",
   "execution_count": 123,
   "metadata": {},
   "outputs": [
    {
     "data": {
      "image/png": "[encoded data removed]",
      "text/plain": [
       "<matplotlib.figure.Figure at 0x7b18090da0>"
      ]
     },
     "metadata": {},
     "output_type": "display_data"
    }
   ],
   "source": [
    "error = [(1-i)*100 for i in grid.cv_results_['mean_test_score']]\n",
    "plt.plot(alphas, error)\n",
    "plt.title('Error plot for AVG W2V')\n",
    "plt.xlabel('Alpha')\n",
    "plt.ylabel('Test_Error')\n",
    "plt.show()"
   ]
  },
  {
   "cell_type": "markdown",
   "metadata": {},
   "source": [
    "**SVC on TF-IDF Word2Vec**"
   ]
  },
  {
   "cell_type": "code",
   "execution_count": 131,
   "metadata": {
    "collapsed": true
   },
   "outputs": [],
   "source": [
    "tf_w_data = X_train\n",
    "tf_idf = TfidfVectorizer(max_features=5000)\n",
    "tf_idf_data = tf_idf.fit_transform(tf_w_data)\n",
    "tf_train_data = []\n",
    "tf_idf_data = tf_idf_data.toarray()\n",
    "i = 0\n",
    "splitted = []\n",
    "for row in tf_w_data: \n",
    "    splitted.append([word for word in row.split()])\n",
    "for row in splitted:\n",
    "    vec = [0 for i in range(150)]\n",
    "    \n",
    "    temp_tfidf = []\n",
    "    for val in tf_idf_data[i]:\n",
    "        if val != 0:\n",
    "            temp_tfidf.append(val)\n",
    "    \n",
    "    count = 0\n",
    "    tf_idf_sum = 0\n",
    "    for word in row:\n",
    "        try:\n",
    "            count += 1\n",
    "            tf_idf_sum = tf_idf_sum + temp_tfidf[count-1]\n",
    "            vec += (temp_tfidf[count-1] * train_w2v[word])\n",
    "        except:\n",
    "            pass\n",
    "    #print(vec)\n",
    "    try:\n",
    "        vec = (float)(1/tf_idf_sum) * vec\n",
    "    except:\n",
    "        pass\n",
    "    tf_train_data.append(vec)\n",
    "    i = i + 1\n",
    "    \n",
    "    \n",
    "    \n",
    "#====================================================================================\n",
    "\n",
    "tf_w_data = X_test\n",
    "tf_idf_data = tf_idf.transform(tf_w_data)\n",
    "tf_test_data = []\n",
    "tf_idf_data = tf_idf_data.toarray()\n",
    "i = 0\n",
    "splitted = []\n",
    "for row in tf_w_data: \n",
    "    splitted.append([word for word in row.split()])\n",
    "for row in splitted:\n",
    "    vec = [0 for i in range(150)]\n",
    "    \n",
    "    temp_tfidf = []\n",
    "    for val in tf_idf_data[i]:\n",
    "        if val != 0:\n",
    "            temp_tfidf.append(val)\n",
    "    \n",
    "    count = 0\n",
    "    tf_idf_sum = 0\n",
    "    for word in row:\n",
    "        try:\n",
    "            count += 1\n",
    "            tf_idf_sum = tf_idf_sum + temp_tfidf[count-1]\n",
    "            vec += (temp_tfidf[count-1] * train_w2v[word])\n",
    "        except:\n",
    "            pass\n",
    "    try:\n",
    "        vec = (float)(1/tf_idf_sum) * vec\n",
    "    except:\n",
    "        pass\n",
    "    tf_test_data.append(vec)\n",
    "    i = i + 1"
   ]
  },
  {
   "cell_type": "code",
   "execution_count": 132,
   "metadata": {},
   "outputs": [
    {
     "name": "stdout",
     "output_type": "stream",
     "text": [
      "best alpha =  {'alpha': 1e-05}\n",
      "Accuracy on Train data =  88.66285714285715\n"
     ]
    }
   ],
   "source": [
    "#c = [0.1,1]\n",
    "alphas = [0.00001,0.0001,0.001,0.01,1]\n",
    "clf = SGDClassifier(loss='hinge')\n",
    "param_grid = {'alpha':alphas}\n",
    "grid = GridSearchCV(estimator = clf,param_grid=param_grid ,cv = 3,n_jobs = 3)\n",
    "grid.fit(tf_train_data, y_train)\n",
    "print(\"best alpha = \", grid.best_params_)\n",
    "print(\"Accuracy on Train data = \", grid.best_score_ *100)\n",
    "a = grid.best_params_"
   ]
  },
  {
   "cell_type": "code",
   "execution_count": 133,
   "metadata": {
    "collapsed": true
   },
   "outputs": [],
   "source": [
    "optimal_a4 = a.get('alpha') "
   ]
  },
  {
   "cell_type": "code",
   "execution_count": 134,
   "metadata": {},
   "outputs": [
    {
     "name": "stdout",
     "output_type": "stream",
     "text": [
      "\n",
      "Accuracy=57.116667%\n",
      "\n",
      "precision=97.142650%\n",
      "\n",
      "recall=51.851423%\n",
      "\n",
      "F1-Score=67.613222%\n"
     ]
    }
   ],
   "source": [
    "clf = SGDClassifier(loss='hinge',alpha = optimal_a4,class_weight = 'balanced')\n",
    "\n",
    "clf.fit(tf_train_data,y_train)\n",
    "\n",
    "pred = clf.predict(tf_test_data)\n",
    "\n",
    "acc4 = accuracy_score(y_test, pred) * 100\n",
    "pre4 = precision_score(y_test, pred) * 100\n",
    "rec4 = recall_score(y_test, pred) * 100\n",
    "f14 = f1_score(y_test, pred) * 100\n",
    "\n",
    "print('\\nAccuracy=%f%%' % (acc4))\n",
    "print('\\nprecision=%f%%' % (pre4))\n",
    "print('\\nrecall=%f%%' % (rec4))\n",
    "print('\\nF1-Score=%f%%' % (f14))"
   ]
  },
  {
   "cell_type": "code",
   "execution_count": 135,
   "metadata": {},
   "outputs": [
    {
     "data": {
      "image/png": "[encoded data removed]",
      "text/plain": [
       "<matplotlib.figure.Figure at 0x7b18c122e8>"
      ]
     },
     "metadata": {},
     "output_type": "display_data"
    }
   ],
   "source": [
    "cm = confusion_matrix(y_test,pred)\n",
    "sns.heatmap(cm, annot=True,fmt='d')\n",
    "plt.title('Confusion Matrix for TF_IDF W2V')\n",
    "plt.show()"
   ]
  },
  {
   "cell_type": "code",
   "execution_count": 136,
   "metadata": {},
   "outputs": [
    {
     "data": {
      "image/png": "[encoded data removed]",
      "text/plain": [
       "<matplotlib.figure.Figure at 0x7b23f7b198>"
      ]
     },
     "metadata": {},
     "output_type": "display_data"
    }
   ],
   "source": [
    "error = [(1-i)*100 for i in grid.cv_results_['mean_test_score']]\n",
    "plt.plot(alphas, error)\n",
    "plt.title('Error plot for AVG W2V')\n",
    "plt.xlabel('Alpha')\n",
    "plt.ylabel('Test_Error')\n",
    "plt.show()"
   ]
  },
  {
   "cell_type": "code",
   "execution_count": 137,
   "metadata": {
    "collapsed": true
   },
   "outputs": [],
   "source": [
    "del tf_train_data\n",
    "del tf_test_data"
   ]
  },
  {
   "cell_type": "code",
   "execution_count": 138,
   "metadata": {},
   "outputs": [
    {
     "name": "stdout",
     "output_type": "stream",
     "text": [
      "+------------+-------+-------------+---------------+--------------+-----------+-------------+\n",
      "|   Model    | Alpha | Test_Acc(%) | Test_Error(%) | Precision(%) | Recall(%) | F1-Score(%) |\n",
      "+------------+-------+-------------+---------------+--------------+-----------+-------------+\n",
      "|    BoW     | 0.001 |    85.98    |     14.02     |    97.74     |   85.74   |    91.35    |\n",
      "|   TF-IDF   | 1e-05 |    87.08    |     12.92     |    97.42     |   87.34   |    92.11    |\n",
      "|  Avg W2V   | 0.001 |    80.04    |     19.96     |    94.14     |   81.98   |    87.64    |\n",
      "| TF-IDF W2V | 1e-05 |    57.12    |     42.88     |    97.14     |   51.85   |    67.61    |\n",
      "+------------+-------+-------------+---------------+--------------+-----------+-------------+\n"
     ]
    }
   ],
   "source": [
    "x = PrettyTable()\n",
    "\n",
    "model1 = 'BoW'\n",
    "model2 = 'TF-IDF'\n",
    "model3 = 'Avg W2V'\n",
    "model4 = 'TF-IDF W2V'\n",
    "x.field_names = [\"Model\",\"Alpha\",\"Test_Acc(%)\",\"Test_Error(%)\",\"Precision(%)\",\"Recall(%)\",\"F1-Score(%)\"]\n",
    "\n",
    "acc1 = np.around(acc1, decimals = 2)\n",
    "err1 = np.around(100-acc1, decimals = 2) \n",
    "pre1 = np.around(pre1, decimals = 2)\n",
    "rec1 = np.around(rec1, decimals = 2)\n",
    "f11 = np.around(f11, decimals = 2)\n",
    "\n",
    "acc2 = np.around(acc2, decimals = 2)\n",
    "err2 = np.around(100-acc2, decimals = 2) \n",
    "pre2 = np.around(pre2, decimals = 2)\n",
    "rec2 = np.around(rec2, decimals = 2)\n",
    "f12 = np.around(f12, decimals = 2)\n",
    "\n",
    "acc3 = np.around(acc3, decimals = 2)\n",
    "err3 = np.around(100-acc3, decimals = 2) \n",
    "pre3 = np.around(pre3, decimals = 2)\n",
    "rec3 = np.around(rec3, decimals = 2)\n",
    "f13 = np.around(f13, decimals = 2)\n",
    "\n",
    "acc4 = np.around(acc4, decimals = 2)\n",
    "err4 = np.around(100-acc4, decimals = 2) \n",
    "pre4 = np.around(pre4, decimals = 2)\n",
    "rec4 = np.around(rec4, decimals = 2)\n",
    "f14 = np.around(f14, decimals = 2)\n",
    "\n",
    "x.add_row([model1,optimal_a1,acc1,err1,pre1,rec1,f11])\n",
    "x.add_row([model2,optimal_a2,acc2,err2,pre2,rec2,f12])\n",
    "x.add_row([model3,optimal_a3,acc3,err3,pre3,rec3,f13])\n",
    "x.add_row([model4,optimal_a4,acc4,err4,pre4,rec4,f14])\n",
    "\n",
    "print(x)"
   ]
  },
  {
   "cell_type": "code",
   "execution_count": 142,
   "metadata": {},
   "outputs": [
    {
     "name": "stdout",
     "output_type": "stream",
     "text": [
      "best alpha =  {'C': 1, 'gamma': 0.001}\n",
      "Acurracy on Train data =  89.07285714285715\n"
     ]
    }
   ],
   "source": [
    "c = [0.1,1]\n",
    "gama = [0.0001,0.001]\n",
    "\n",
    "clf = SVC()\n",
    "param_grid = {'C':c,'gamma':gama}\n",
    "grid = GridSearchCV(estimator = clf,param_grid=param_grid ,cv = 3,n_jobs = 3)\n",
    "grid.fit(bow_X_train, y_train)\n",
    "print(\"best alpha = \", grid.best_params_)\n",
    "print(\"Acurracy on Train data = \",grid.best_score_*100)\n",
    "a = grid.best_params_\n",
    "\n",
    "optimal_c = a.get('C')\n",
    "optimal_g = a.get('gamma')"
   ]
  },
  {
   "cell_type": "code",
   "execution_count": 143,
   "metadata": {},
   "outputs": [
    {
     "name": "stdout",
     "output_type": "stream",
     "text": [
      "\n",
      "Accuracy=85.606667%\n",
      "\n",
      "precision=97.726569%\n",
      "\n",
      "recall=85.312174%\n",
      "\n",
      "F1-Score=91.098376%\n"
     ]
    }
   ],
   "source": [
    "clf = SVC(C = optimal_c,gamma = optimal_g,class_weight = 'balanced')\n",
    "\n",
    "clf.fit(bow_X_train,y_train)\n",
    "\n",
    "pred = clf.predict(bow_X_test)\n",
    "\n",
    "acc = accuracy_score(y_test, pred) * 100\n",
    "pre = precision_score(y_test, pred) * 100\n",
    "rec = recall_score(y_test, pred) * 100\n",
    "f1 = f1_score(y_test, pred) * 100\n",
    "\n",
    "print('\\nAccuracy=%f%%' % (acc))\n",
    "print('\\nprecision=%f%%' % (pre))\n",
    "print('\\nrecall=%f%%' % (rec))\n",
    "print('\\nF1-Score=%f%%' % (f1))"
   ]
  },
  {
   "cell_type": "code",
   "execution_count": 144,
   "metadata": {},
   "outputs": [
    {
     "data": {
      "image/png": "[encoded data removed]",
      "text/plain": [
       "<matplotlib.figure.Figure at 0x7b23e77dd8>"
      ]
     },
     "metadata": {},
     "output_type": "display_data"
    }
   ],
   "source": [
    "cm = confusion_matrix(y_test,pred)\n",
    "sns.heatmap(cm, annot=True,fmt='d')\n",
    "plt.title('Confusion Matrix for SVC model')\n",
    "plt.show()"
   ]
  },
  {
   "cell_type": "code",
   "execution_count": 146,
   "metadata": {},
   "outputs": [
    {
     "name": "stdout",
     "output_type": "stream",
     "text": [
      "+-------+----------------+-------------+---------------+--------------+-----------+-------------+\n",
      "| Model | HyperParameter | Test_Acc(%) | Test_Error(%) | Precision(%) | Recall(%) | F1-Score(%) |\n",
      "+-------+----------------+-------------+---------------+--------------+-----------+-------------+\n",
      "|  SGD  |     0.001      |    85.98    |     14.02     |    97.74     |   85.74   |    91.35    |\n",
      "|  SVC  |       1        |    85.61    |     14.39     |    97.73     |   85.31   |     91.1    |\n",
      "+-------+----------------+-------------+---------------+--------------+-----------+-------------+\n"
     ]
    }
   ],
   "source": [
    "x = PrettyTable()\n",
    "\n",
    "model1 = 'SGD'\n",
    "model2 = 'SVC'\n",
    "\n",
    "x.field_names = [\"Model\",\"HyperParameter\",\"Test_Acc(%)\",\"Test_Error(%)\",\"Precision(%)\",\"Recall(%)\",\"F1-Score(%)\"]\n",
    "\n",
    "acc1 = np.around(acc1, decimals = 2)\n",
    "err1 = np.around(100-acc1, decimals = 2) \n",
    "pre1 = np.around(pre1, decimals = 2)\n",
    "rec1 = np.around(rec1, decimals = 2)\n",
    "f11 = np.around(f11, decimals = 2)\n",
    "\n",
    "acc = np.around(acc, decimals = 2)\n",
    "err = np.around(100-acc, decimals = 2) \n",
    "pre = np.around(pre, decimals = 2)\n",
    "rec = np.around(rec, decimals = 2)\n",
    "f1 = np.around(f1, decimals = 2)\n",
    "\n",
    "x.add_row([model1,optimal_a1,acc1,err1,pre1,rec1,f11])\n",
    "x.add_row([model2,optimal_c,acc,err,pre,rec,f1])\n",
    "\n",
    "print(x)"
   ]
  },
  {
   "cell_type": "markdown",
   "metadata": {
    "collapsed": true
   },
   "source": [
    "** Observations and Summary **\n",
    "\n",
    "* Considered 100k datapoints for running this model\n",
    "* To reduce preprocessing times, saved already preprocessed data in pickle format and loaded that.\n",
    "* Used SGDClassifier with loss function = hinge so that it acts as SVM to reduce training times.\n",
    "* To find best hyperparametes used GridSearchCV and found optimal alpha = 0.001 for all 4 models.\n",
    "* Used all metrics systems to have a depth look of what happening to data predictions.\n",
    "* Used Pretty table to show all the data in a table format so that user can understand whats going on with every model.\n",
    "* I see that BoW model gave best accuracy compared to other models.\n",
    "* Compared SGD and SVC on BoW model SGD gave better accuracy compared to SVC."
   ]
  }
 ],
 "metadata": {
  "kernelspec": {
   "display_name": "Python 3",
   "language": "python",
   "name": "python3"
  },
  "language_info": {
   "codemirror_mode": {
    "name": "ipython",
    "version": 3
   },
   "file_extension": ".py",
   "mimetype": "text/x-python",
   "name": "python",
   "nbconvert_exporter": "python",
   "pygments_lexer": "ipython3",
   "version": "3.6.3"
  }
 },
 "nbformat": 4,
 "nbformat_minor": 2
}
